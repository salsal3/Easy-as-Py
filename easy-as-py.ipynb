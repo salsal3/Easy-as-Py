{
 "cells": [
  {
   "cell_type": "markdown",
   "metadata": {},
   "source": [
    "# Project Name"
   ]
  },
  {
   "cell_type": "markdown",
   "metadata": {},
   "source": [
    "## Table of Contents"
   ]
  },
  {
   "cell_type": "markdown",
   "metadata": {},
   "source": [
    "[Summary](#summary)\n",
    "\n",
    "[Imports](#imports)\n",
    "\n",
    "[Google Cloud API](#google-cloud-api)\n",
    "\n",
    "[Spoonacular API](#spoonacular-api)"
   ]
  },
  {
   "cell_type": "markdown",
   "metadata": {},
   "source": [
    "# Summary"
   ]
  },
  {
   "cell_type": "markdown",
   "metadata": {},
   "source": [
    "## Functions\n",
    "\n",
    "### General Functions\n",
    "- Allow user input for adding recipes\n",
    "- Make script easy to use with friendly language\n",
    "\n",
    "### Recipe Costing\n",
    "Take a recipe from a text document, calculate its recipe cost, and add it to an individual dataframe\n",
    "- Read a recipe's text document in Python\n",
    "- Clean data to get what's strictly necessary\n",
    "- Turn recipe data into a dataframe\n",
    "- Use Spoonacular API to calculate metrics\n",
    "    - ~~Search for matching ingredients~~\n",
    "    - ~~Get ingredient 'id'~~\n",
    "    - ~~Get ingredient info~~\n",
    "    - ~~Create df of ingredient info~~\n",
    "    - Add ingredient info df to recipe df\n",
    "- Use data extracted from Spoonacular to calculate recipe cost\n",
    "\n",
    "### Menu Engineering\n",
    "Take individual recipe data, and calculate metrics for entire menu\n",
    "- Determine desired metrics for menu engineering\n",
    "- Append recipe cost to Menu Engineering df\n",
    "- Append recipes to menu engineering df\n",
    "- Calculate menu engineering metrics\n",
    "\n",
    "### Visualization\n",
    "Create "
   ]
  },
  {
   "cell_type": "markdown",
   "metadata": {},
   "source": [
    "# Imports"
   ]
  },
  {
   "cell_type": "code",
   "execution_count": 37,
   "metadata": {},
   "outputs": [],
   "source": [
    "from pathlib import Path\n",
    "import csv\n",
    "import pandas as pd\n",
    "# import panel as pn\n",
    "# pn.extension('plotly')\n",
    "# import plotly.express as px\n",
    "# import plotly.io as pio\n",
    "# pio.renderers.default = 'iframe_connected'  # Bypass mimetype 'renderer not found'\n",
    "import pandas as pd\n",
    "# import hvplot.pandas\n",
    "import matplotlib.pyplot as plt\n",
    "# import numpy as np\n",
    "# import seaborn as sns\n",
    "\n",
    "import os\n",
    "from pathlib import Path\n",
    "from dotenv import load_dotenv\n",
    "load_dotenv('token.env')\n",
    "spoon_key = os.getenv('SPOONACULAR_KEY')\n",
    "gcloud_key = os.getenv('GCLOUD_KEY')\n",
    "gcloud_oauth_key = os.getenv('GCLOUD_OAUTH_KEY')\n",
    "gcloud_oauth_secret = os.getenv('GCLOUD_OAUTH_SECRET')\n",
    "\n",
    "import json, requests\n",
    "from pandas.io.json import json_normalize\n",
    "\n",
    "# import alpaca_trade_api as tradeapi\n",
    "\n",
    "# Google Sheets API\n",
    "from pprint import pprint\n",
    "from googleapiclient import discovery\n",
    "from oauth2client.service_account import ServiceAccountCredentials\n",
    "\n",
    "# GSpread by burnash\n",
    "import gspread\n",
    "\n",
    "# 'chatter` functions from chatter.py\n",
    "import sys\n",
    "# from chatter import *"
   ]
  },
  {
   "cell_type": "markdown",
   "metadata": {},
   "source": [
    "# Google Cloud API and GSpread"
   ]
  },
  {
   "cell_type": "markdown",
   "metadata": {},
   "source": [
    "## Scopes and Credentials"
   ]
  },
  {
   "cell_type": "code",
   "execution_count": null,
   "metadata": {},
   "outputs": [],
   "source": [
    "# Define scopes for Google APIs\n",
    "scope = [\n",
    "    'https://spreadsheets.google.com/feeds',\n",
    "    'https://www.googleapis.com/auth/drive'\n",
    "]\n",
    "\n",
    "# Add account credentials\n",
    "creds = ServiceAccountCredentials.from_json_keyfile_name('easy-as-py-service-account.json')\n",
    "\n",
    "# Authorize clientsheet\n",
    "client = gspread.authorize(creds)"
   ]
  },
  {
   "cell_type": "markdown",
   "metadata": {},
   "source": [
    "## Functions"
   ]
  },
  {
   "cell_type": "code",
   "execution_count": null,
   "metadata": {},
   "outputs": [],
   "source": [
    "# Get instance of 'Cost Cheesecake' spreadsheet using its title\n",
    "def open_spreadsheet(spreadsheet_title):\n",
    "    return client.open(spreadsheet_title)\n",
    "\n",
    "# Nested function to get specific sheet (tab) from spreadsheet instance\n",
    "def open_sheet(spreadsheet_title, tab_index):\n",
    "    sheet = open_spreadsheet(spreadsheet_title)\n",
    "    return sheet.get_worksheet(tab_index)\n",
    "\n",
    "# Use `for loop` to convert letter of column into number for .cell()\n",
    "def letter_to_num(column_letter):\n",
    "    number = ord(column_letter.lower()) - 96\n",
    "    return number\n",
    "\n",
    "def get_sheet_data(sheet_var):\n",
    "    sheet_data = {sheet_var}.get_all_records()\n",
    "    return sheet_data\n",
    "\n",
    "# Get data from specified cell\n",
    "def get_cell(sheet_var, column_letter, row_num):\n",
    "    column_number = letter_to_num(column_letter)\n",
    "    return sheet.cell(col=column_number,row=row_num)\n",
    "\n",
    "# Turn sheet dictionary into a dataframe\n",
    "def make_df(sheet_data):\n",
    "    df = pd.DataFrame.from_dict(sheet_data)\n",
    "    return df\n",
    "\n",
    "# Clean dataframe by dropping rows with no value in 'Item_Name'\n",
    "def clean_df(df):\n",
    "    df.drop(df[df['Item_Name'] == ''].index, inplace=True)\n",
    "    return df"
   ]
  },
  {
   "cell_type": "markdown",
   "metadata": {},
   "source": [
    "## Data Exploration"
   ]
  },
  {
   "cell_type": "markdown",
   "metadata": {},
   "source": [
    "# Spoonacular API"
   ]
  },
  {
   "cell_type": "markdown",
   "metadata": {},
   "source": [
    "## Endpoints"
   ]
  },
  {
   "cell_type": "markdown",
   "metadata": {},
   "source": [
    "### Base and key URLs"
   ]
  },
  {
   "cell_type": "code",
   "execution_count": 38,
   "metadata": {},
   "outputs": [],
   "source": [
    "# Requests should be formatted as \"api + endpoint + \"?query=\" + {query_params} + api_key\n",
    "spoon_url = 'https://api.spoonacular.com'\n",
    "key_url = '&apiKey=' + spoon_key"
   ]
  },
  {
   "cell_type": "markdown",
   "metadata": {},
   "source": [
    "### Search for matching ingredients"
   ]
  },
  {
   "cell_type": "code",
   "execution_count": 39,
   "metadata": {},
   "outputs": [
    {
     "data": {
      "text/plain": [
       "{'results': [{'id': 20081, 'name': 'allpurpose flour', 'image': 'flour.png'},\n",
       "  {'id': 20581, 'name': 'unbleached all purpose flour', 'image': 'flour.png'},\n",
       "  {'id': 93620,\n",
       "   'name': 'gluten free all purpose flour',\n",
       "   'image': 'gluten-free-flour.jpg'}],\n",
       " 'offset': 0,\n",
       " 'number': 20,\n",
       " 'totalResults': 3}"
      ]
     },
     "execution_count": 39,
     "metadata": {},
     "output_type": "execute_result"
    }
   ],
   "source": [
    "# Ingredient Search endpoint\n",
    "search_ing_url = spoon_url + '/food/ingredients/search?query='\n",
    "\n",
    "# Function that takes in an ingredient name and returns up to 20 matches\n",
    "# Example request: https://api.spoonacular.com/food/ingredients/search?query=banana&number=2&sort=calories&sortDirection=desc\n",
    "def search_ing(ing):\n",
    "    return requests.get(search_ing_url + ing + '&number=20' + key_url).json()\n",
    "\n",
    "search_ing('all purpose flour')"
   ]
  },
  {
   "cell_type": "markdown",
   "metadata": {},
   "source": [
    "### Get ingredient 'id'"
   ]
  },
  {
   "cell_type": "code",
   "execution_count": 40,
   "metadata": {},
   "outputs": [
    {
     "name": "stdout",
     "output_type": "stream",
     "text": [
      "Match for all purpose flour:\n",
      "{'id': 20081, 'name': 'allpurpose flour', 'image': 'flour.png'}\n"
     ]
    },
    {
     "data": {
      "text/plain": [
       "20081"
      ]
     },
     "execution_count": 40,
     "metadata": {},
     "output_type": "execute_result"
    }
   ],
   "source": [
    "# Get ingredient `id`\n",
    "def get_ing_id(ing):\n",
    "    ingredient = search_ing(ing)['results'][0]\n",
    "    print(f\"Match for {ing}:\")\n",
    "    print(ingredient)\n",
    "\n",
    "    ing_id = ingredient['id']\n",
    "    return ing_id\n",
    "\n",
    "get_ing_id('all purpose flour')"
   ]
  },
  {
   "cell_type": "markdown",
   "metadata": {},
   "source": [
    "### Get ingredient information"
   ]
  },
  {
   "cell_type": "code",
   "execution_count": 41,
   "metadata": {},
   "outputs": [
    {
     "name": "stdout",
     "output_type": "stream",
     "text": [
      "Match for all purpose flour:\n",
      "{'id': 20081, 'name': 'allpurpose flour', 'image': 'flour.png'}\n"
     ]
    },
    {
     "data": {
      "text/plain": [
       "{'id': 20081,\n",
       " 'original': 'wheat flour',\n",
       " 'originalName': 'wheat flour',\n",
       " 'name': 'wheat flour',\n",
       " 'amount': 250.0,\n",
       " 'unit': 'g',\n",
       " 'unitShort': 'g',\n",
       " 'unitLong': 'grams',\n",
       " 'possibleUnits': ['g', 'oz', 'teaspoon', 'cup', 'serving', 'tablespoon'],\n",
       " 'estimatedCost': {'value': 33.33, 'unit': 'US Cents'},\n",
       " 'consistency': 'solid',\n",
       " 'shoppingListUnits': ['ounces'],\n",
       " 'aisle': 'Baking',\n",
       " 'image': 'flour.png',\n",
       " 'meta': [],\n",
       " 'nutrition': {'nutrients': [{'title': 'Cholesterol',\n",
       "    'name': 'Cholesterol',\n",
       "    'amount': 0.0,\n",
       "    'unit': 'mg'},\n",
       "   {'title': 'Vitamin K', 'name': 'Vitamin K', 'amount': 0.75, 'unit': 'µg'},\n",
       "   {'title': 'Calories', 'name': 'Calories', 'amount': 910.0, 'unit': 'kcal'},\n",
       "   {'title': 'Caffeine', 'name': 'Caffeine', 'amount': 0.0, 'unit': 'mg'},\n",
       "   {'title': 'Zinc', 'name': 'Zinc', 'amount': 1.75, 'unit': 'mg'},\n",
       "   {'title': 'Vitamin B12',\n",
       "    'name': 'Vitamin B12',\n",
       "    'amount': 0.0,\n",
       "    'unit': 'µg'},\n",
       "   {'title': 'Choline', 'name': 'Choline', 'amount': 26.0, 'unit': 'mg'},\n",
       "   {'title': 'Saturated Fat',\n",
       "    'name': 'Saturated Fat',\n",
       "    'amount': 0.39,\n",
       "    'unit': 'g'},\n",
       "   {'title': 'Vitamin B3',\n",
       "    'name': 'Vitamin B3',\n",
       "    'amount': 14.76,\n",
       "    'unit': 'mg'},\n",
       "   {'title': 'Sugar', 'name': 'Sugar', 'amount': 0.68, 'unit': 'g'},\n",
       "   {'title': 'Manganese', 'name': 'Manganese', 'amount': 1.71, 'unit': 'mg'},\n",
       "   {'title': 'Vitamin C', 'name': 'Vitamin C', 'amount': 0.0, 'unit': 'mg'},\n",
       "   {'title': 'Protein', 'name': 'Protein', 'amount': 25.83, 'unit': 'g'},\n",
       "   {'title': 'Fiber', 'name': 'Fiber', 'amount': 6.75, 'unit': 'g'},\n",
       "   {'title': 'Net Carbohydrates',\n",
       "    'name': 'Net Carbohydrates',\n",
       "    'amount': 184.03,\n",
       "    'unit': 'g'},\n",
       "   {'title': 'Folic Acid',\n",
       "    'name': 'Folic Acid',\n",
       "    'amount': 385.0,\n",
       "    'unit': 'µg'},\n",
       "   {'title': 'Iron', 'name': 'Iron', 'amount': 11.6, 'unit': 'mg'},\n",
       "   {'title': 'Magnesium', 'name': 'Magnesium', 'amount': 55.0, 'unit': 'mg'},\n",
       "   {'title': 'Carbohydrates',\n",
       "    'name': 'Carbohydrates',\n",
       "    'amount': 190.78,\n",
       "    'unit': 'g'},\n",
       "   {'title': 'Folate', 'name': 'Folate', 'amount': 457.5, 'unit': 'µg'},\n",
       "   {'title': 'Vitamin B2', 'name': 'Vitamin B2', 'amount': 1.24, 'unit': 'mg'},\n",
       "   {'title': 'Alcohol', 'name': 'Alcohol', 'amount': 0.0, 'unit': 'g'},\n",
       "   {'title': 'Calcium', 'name': 'Calcium', 'amount': 37.5, 'unit': 'mg'},\n",
       "   {'title': 'Fat', 'name': 'Fat', 'amount': 2.45, 'unit': 'g'},\n",
       "   {'title': 'Vitamin A', 'name': 'Vitamin A', 'amount': 0.0, 'unit': 'IU'},\n",
       "   {'title': 'Vitamin B6', 'name': 'Vitamin B6', 'amount': 0.11, 'unit': 'mg'},\n",
       "   {'title': 'Mono Unsaturated Fat',\n",
       "    'name': 'Mono Unsaturated Fat',\n",
       "    'amount': 0.22,\n",
       "    'unit': 'g'},\n",
       "   {'title': 'Poly Unsaturated Fat',\n",
       "    'name': 'Poly Unsaturated Fat',\n",
       "    'amount': 1.03,\n",
       "    'unit': 'g'},\n",
       "   {'title': 'Vitamin E', 'name': 'Vitamin E', 'amount': 0.15, 'unit': 'mg'},\n",
       "   {'title': 'Potassium', 'name': 'Potassium', 'amount': 267.5, 'unit': 'mg'},\n",
       "   {'title': 'Selenium', 'name': 'Selenium', 'amount': 84.75, 'unit': 'µg'},\n",
       "   {'title': 'Sodium', 'name': 'Sodium', 'amount': 5.0, 'unit': 'mg'},\n",
       "   {'title': 'Copper', 'name': 'Copper', 'amount': 0.36, 'unit': 'mg'},\n",
       "   {'title': 'Vitamin D', 'name': 'Vitamin D', 'amount': 0.0, 'unit': 'µg'},\n",
       "   {'title': 'Vitamin B5', 'name': 'Vitamin B5', 'amount': 1.1, 'unit': 'mg'},\n",
       "   {'title': 'Phosphorus',\n",
       "    'name': 'Phosphorus',\n",
       "    'amount': 270.0,\n",
       "    'unit': 'mg'},\n",
       "   {'title': 'Vitamin B1',\n",
       "    'name': 'Vitamin B1',\n",
       "    'amount': 1.96,\n",
       "    'unit': 'mg'}],\n",
       "  'properties': [{'name': 'Glycemic Index',\n",
       "    'title': 'Glycemic Index',\n",
       "    'amount': 75.0,\n",
       "    'unit': ''},\n",
       "   {'name': 'Glycemic Load',\n",
       "    'title': 'Glycemic Load',\n",
       "    'amount': 138.02,\n",
       "    'unit': ''}],\n",
       "  'flavonoids': [{'name': 'Cyanidin',\n",
       "    'title': 'Cyanidin',\n",
       "    'amount': 0.0,\n",
       "    'unit': ''},\n",
       "   {'name': 'Petunidin', 'title': 'Petunidin', 'amount': 0.0, 'unit': ''},\n",
       "   {'name': 'Delphinidin', 'title': 'Delphinidin', 'amount': 0.0, 'unit': ''},\n",
       "   {'name': 'Malvidin', 'title': 'Malvidin', 'amount': 0.0, 'unit': ''},\n",
       "   {'name': 'Pelargonidin',\n",
       "    'title': 'Pelargonidin',\n",
       "    'amount': 0.0,\n",
       "    'unit': ''},\n",
       "   {'name': 'Peonidin', 'title': 'Peonidin', 'amount': 0.0, 'unit': ''},\n",
       "   {'name': 'Catechin', 'title': 'Catechin', 'amount': 0.0, 'unit': ''},\n",
       "   {'name': 'Epigallocatechin',\n",
       "    'title': 'Epigallocatechin',\n",
       "    'amount': 0.0,\n",
       "    'unit': ''},\n",
       "   {'name': 'Epicatechin', 'title': 'Epicatechin', 'amount': 0.0, 'unit': ''},\n",
       "   {'name': 'Epicatechin 3-gallate',\n",
       "    'title': 'Epicatechin 3-gallate',\n",
       "    'amount': 0.0,\n",
       "    'unit': ''},\n",
       "   {'name': 'Epigallocatechin 3-gallate',\n",
       "    'title': 'Epigallocatechin 3-gallate',\n",
       "    'amount': 0.0,\n",
       "    'unit': ''},\n",
       "   {'name': 'Theaflavin', 'title': 'Theaflavin', 'amount': 0.0, 'unit': ''},\n",
       "   {'name': 'Thearubigins',\n",
       "    'title': 'Thearubigins',\n",
       "    'amount': 0.0,\n",
       "    'unit': ''},\n",
       "   {'name': 'Eriodictyol', 'title': 'Eriodictyol', 'amount': 0.0, 'unit': ''},\n",
       "   {'name': 'Hesperetin', 'title': 'Hesperetin', 'amount': 0.0, 'unit': ''},\n",
       "   {'name': 'Naringenin', 'title': 'Naringenin', 'amount': 0.0, 'unit': ''},\n",
       "   {'name': 'Apigenin', 'title': 'Apigenin', 'amount': 0.0, 'unit': ''},\n",
       "   {'name': 'Luteolin', 'title': 'Luteolin', 'amount': 0.0, 'unit': ''},\n",
       "   {'name': 'Isorhamnetin',\n",
       "    'title': 'Isorhamnetin',\n",
       "    'amount': 0.0,\n",
       "    'unit': ''},\n",
       "   {'name': 'Kaempferol', 'title': 'Kaempferol', 'amount': 0.0, 'unit': ''},\n",
       "   {'name': 'Myricetin', 'title': 'Myricetin', 'amount': 0.0, 'unit': ''},\n",
       "   {'name': 'Quercetin', 'title': 'Quercetin', 'amount': 0.0, 'unit': ''},\n",
       "   {'name': \"Theaflavin-3,3'-digallate\",\n",
       "    'title': \"Theaflavin-3,3'-digallate\",\n",
       "    'amount': 0.0,\n",
       "    'unit': ''},\n",
       "   {'name': \"Theaflavin-3'-gallate\",\n",
       "    'title': \"Theaflavin-3'-gallate\",\n",
       "    'amount': 0.0,\n",
       "    'unit': ''},\n",
       "   {'name': 'Theaflavin-3-gallate',\n",
       "    'title': 'Theaflavin-3-gallate',\n",
       "    'amount': 0.0,\n",
       "    'unit': ''},\n",
       "   {'name': 'Gallocatechin',\n",
       "    'title': 'Gallocatechin',\n",
       "    'amount': 0.0,\n",
       "    'unit': ''}],\n",
       "  'caloricBreakdown': {'percentProtein': 11.63,\n",
       "   'percentFat': 2.48,\n",
       "   'percentCarbs': 85.89},\n",
       "  'weightPerServing': {'amount': 250, 'unit': 'g'}},\n",
       " 'categoryPath': ['flour product']}"
      ]
     },
     "execution_count": 41,
     "metadata": {},
     "output_type": "execute_result"
    }
   ],
   "source": [
    "# Get ingredient information\n",
    "def get_ing_info(ing, ing_amount, unit):\n",
    "        ing_id = get_ing_id(ing)\n",
    "        return requests.get(f\"{spoon_url}/food/ingredients/{ing_id}/information?amount={ing_amount}&unit={unit}{key_url}\").json()\n",
    "\n",
    "get_ing_info('all purpose flour', 250, 'g')\n",
    "        "
   ]
  },
  {
   "cell_type": "markdown",
   "metadata": {},
   "source": [
    "### Create df of ingredient info"
   ]
  },
  {
   "cell_type": "code",
   "execution_count": 45,
   "metadata": {},
   "outputs": [
    {
     "name": "stdout",
     "output_type": "stream",
     "text": [
      "Match for all purpose flour:\n",
      "{'id': 20081, 'name': 'allpurpose flour', 'image': 'flour.png'}\n"
     ]
    },
    {
     "data": {
      "text/html": [
       "<div>\n",
       "<style scoped>\n",
       "    .dataframe tbody tr th:only-of-type {\n",
       "        vertical-align: middle;\n",
       "    }\n",
       "\n",
       "    .dataframe tbody tr th {\n",
       "        vertical-align: top;\n",
       "    }\n",
       "\n",
       "    .dataframe thead tr th {\n",
       "        text-align: left;\n",
       "    }\n",
       "</style>\n",
       "<table border=\"1\" class=\"dataframe\">\n",
       "  <thead>\n",
       "    <tr>\n",
       "      <th></th>\n",
       "      <th>ID</th>\n",
       "      <th>Ingredient_Name</th>\n",
       "      <th>Recipe_Qty</th>\n",
       "      <th>Recipe_Unit</th>\n",
       "      <th>Recipe_Cost_Per_Unit_$</th>\n",
       "    </tr>\n",
       "  </thead>\n",
       "  <tbody>\n",
       "    <tr>\n",
       "      <th>0</th>\n",
       "      <td>20081</td>\n",
       "      <td>wheat flour</td>\n",
       "      <td>1.0</td>\n",
       "      <td>c</td>\n",
       "      <td>0.17</td>\n",
       "    </tr>\n",
       "  </tbody>\n",
       "</table>\n",
       "</div>"
      ],
      "text/plain": [
       "      ID Ingredient_Name Recipe_Qty Recipe_Unit Recipe_Cost_Per_Unit_$\n",
       "0  20081     wheat flour        1.0           c                   0.17"
      ]
     },
     "execution_count": 45,
     "metadata": {},
     "output_type": "execute_result"
    }
   ],
   "source": [
    "# Create df from ingredient info\n",
    "def ing_info_to_df(ing, ing_amount, unit):\n",
    "    ing_info = get_ing_info(ing, ing_amount, unit)\n",
    "    df = pd.json_normalize(ing_info)[['id','name','amount','unit','estimatedCost.value']]\n",
    "    df['estimatedCost.value'] = (df['estimatedCost.value'] / 100).round(2)\n",
    "    df.columns = [['ID','Ingredient_Name','Recipe_Qty','Recipe_Unit','Recipe_Cost_Per_Unit_$']]\n",
    "    return df\n",
    "\n",
    "ing_info_to_df('all purpose flour', 1, 'c')"
   ]
  },
  {
   "cell_type": "markdown",
   "metadata": {},
   "source": [
    "### Add ingredient info df to recipe df"
   ]
  },
  {
   "cell_type": "code",
   "execution_count": null,
   "metadata": {},
   "outputs": [],
   "source": []
  },
  {
   "cell_type": "markdown",
   "metadata": {},
   "source": [
    "### Extract data needed for evaluation"
   ]
  },
  {
   "cell_type": "markdown",
   "metadata": {},
   "source": [
    "# Final Script Flow"
   ]
  },
  {
   "cell_type": "code",
   "execution_count": null,
   "metadata": {},
   "outputs": [],
   "source": []
  }
 ],
 "metadata": {
  "interpreter": {
   "hash": "8bb97bf353d03daa53e880a314ed0e005a9ddab75cfc907d4a74b673e807774c"
  },
  "kernelspec": {
   "display_name": "Python 3.7.11 64-bit ('project3': conda)",
   "name": "python3"
  },
  "language_info": {
   "codemirror_mode": {
    "name": "ipython",
    "version": 3
   },
   "file_extension": ".py",
   "mimetype": "text/x-python",
   "name": "python",
   "nbconvert_exporter": "python",
   "pygments_lexer": "ipython3",
   "version": "3.7.11"
  },
  "orig_nbformat": 4
 },
 "nbformat": 4,
 "nbformat_minor": 2
}

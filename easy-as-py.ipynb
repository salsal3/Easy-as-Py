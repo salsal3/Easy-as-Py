{
 "cells": [
  {
   "cell_type": "markdown",
   "metadata": {},
   "source": [
    "# Easy as Py"
   ]
  },
  {
   "cell_type": "markdown",
   "metadata": {},
   "source": [
    "## Summary"
   ]
  },
  {
   "cell_type": "markdown",
   "metadata": {},
   "source": [
    "### Table of Contents"
   ]
  },
  {
   "cell_type": "markdown",
   "metadata": {},
   "source": [
    "[Functions](#functions)\n",
    "\n",
    "[Google Cloud API](#google-cloud-api)\n",
    "\n",
    "[Spoonacular API](#spoonacular-api)"
   ]
  },
  {
   "cell_type": "markdown",
   "metadata": {},
   "source": [
    "### Dependencies"
   ]
  },
  {
   "cell_type": "markdown",
   "metadata": {},
   "source": [
    "#### Installations"
   ]
  },
  {
   "cell_type": "code",
   "execution_count": 1,
   "metadata": {},
   "outputs": [],
   "source": [
    "# FuzzyWuzzy\n",
    "# \\!pip install fuzzywuzzy\n",
    "\n",
    "# Docx\n",
    "# \\!pip install python-docx\n",
    "\n",
    "# Google API client library\n",
    "# \\!pip install --upgrade google-api-python-client oauth2client # google-auth-httplib2 google-auth-oauthlib\n",
    "\n",
    "# GSpread\n",
    "# \\!pip install gspread"
   ]
  },
  {
   "cell_type": "markdown",
   "metadata": {},
   "source": [
    "#### Imports"
   ]
  },
  {
   "cell_type": "code",
   "execution_count": 45,
   "metadata": {},
   "outputs": [],
   "source": [
    "from pathlib import Path\n",
    "import csv\n",
    "import pandas as pd\n",
    "# import panel as pn\n",
    "# pn.extension('plotly')\n",
    "# import plotly.express as px\n",
    "# import plotly.io as pio\n",
    "# pio.renderers.default = 'iframe_connected'  # Bypass mimetype 'renderer not found'\n",
    "# import hvplot.pandas\n",
    "import matplotlib.pyplot as plt\n",
    "import numpy as np\n",
    "# import seaborn as sns\n",
    "\n",
    "import sys\n",
    "import os\n",
    "from fuzzywuzzy import fuzz\n",
    "from fuzzywuzzy import process\n",
    "from pathlib import Path\n",
    "from dotenv import load_dotenv\n",
    "\n",
    "import json, requests\n",
    "from pandas.io.json import json_normalize\n",
    "\n",
    "# Docx\n",
    "import docx\n",
    "from docx import Document\n",
    "from docx.shared import Inches\n",
    "from os import listdir\n",
    "from os.path import isfile, join\n",
    "\n",
    "# Google Sheets API\n",
    "from pprint import pprint\n",
    "from googleapiclient import discovery\n",
    "from oauth2client.service_account import ServiceAccountCredentials\n",
    "\n",
    "# GSpread by burnash\n",
    "import gspread\n",
    "\n",
    "# 'chatter` functions from chatter.py\n",
    "\n",
    "# from chatter import *"
   ]
  },
  {
   "cell_type": "markdown",
   "metadata": {},
   "source": [
    "### Tokens, Scopes, and Credentials"
   ]
  },
  {
   "cell_type": "code",
   "execution_count": 3,
   "metadata": {},
   "outputs": [],
   "source": [
    "# API Keys for Spoonacular and Google Cloud\n",
    "load_dotenv('./tokens/token.env')\n",
    "spoon_key = os.getenv('SPOONACULAR_KEY')\n",
    "gcloud_key = os.getenv('GCLOUD_KEY')\n",
    "gcloud_oauth_key = os.getenv('GCLOUD_OAUTH_KEY')\n",
    "gcloud_oauth_secret = os.getenv('GCLOUD_OAUTH_SECRET')\n",
    "\n",
    "# Endpoints for Spoonacular\n",
    "# Requests should be formatted as \"spoon_url + endpoint + '?query=' + query_params + key_url\"\n",
    "spoon_url = 'https://api.spoonacular.com'\n",
    "key_url = '&apiKey=' + spoon_key\n",
    "# Ingredient search endpoint\n",
    "search_ing_url = spoon_url + '/food/ingredients/search?query='\n",
    "\n",
    "# Scopes for Google Cloud\n",
    "scope = [\n",
    "    'https://www.googleapis.com/auth/drive',\n",
    "    'https://www.googleapis.com/auth/documents'\n",
    "    'https://spreadsheets.google.com/feeds',\n",
    "]\n",
    "\n",
    "# Add account credentials for Google Cloud\n",
    "creds = ServiceAccountCredentials.from_json_keyfile_name('./tokens/easy-as-py-service-account.json')\n",
    "\n",
    "# Authorize clientsheet for Google Cloud\n",
    "client = gspread.authorize(creds)"
   ]
  },
  {
   "cell_type": "markdown",
   "metadata": {},
   "source": [
    "## Functions"
   ]
  },
  {
   "cell_type": "markdown",
   "metadata": {},
   "source": [
    "### Docx Functions"
   ]
  },
  {
   "cell_type": "code",
   "execution_count": 4,
   "metadata": {},
   "outputs": [],
   "source": [
    "# Path to recipes directory\n",
    "recipes_dir = './recipes/'\n",
    "\n",
    "# Get all recipe file names from directory as a list\n",
    "def get_recipe_list():\n",
    "    global recipe_files\n",
    "    recipe_files = [f for f in listdir(recipes_dir) if isfile(join(recipes_dir, f))]\n",
    "    return recipe_files\n",
    "\n",
    "# Get nest list of ingredients for a recipe from its docx\n",
    "def get_recipe_from_docx(docx_file):\n",
    "    docx_text = docx.Document(f\"{recipes_dir}{docx_file}\")\n",
    "    data = {}\n",
    "    paragraphs = docx_text.paragraphs\n",
    "    for i in range(2, len(docx_text.paragraphs)):\n",
    "        data[i] = docx_text.paragraphs[i].text.split('\\t')\n",
    "    data_values = list(data.values())\n",
    "    return data_values\n",
    "\n",
    "# To verify data, print the ingredients of all recipes as nested lists\n",
    "def print_all_recipes_ingredients():\n",
    "    for i in recipe_files:\n",
    "        print(i)\n",
    "        print(get_recipe_from_docx(f\"{i}\"), '\\n')\n",
    "\n",
    "# Create a DataFrame from a recipe's data\n",
    "def create_df_from_recipe(recipe_data):\n",
    "    df = pd.DataFrame(recipe_data, columns=['Ingredient_Name','Recipe_Qty']).dropna()\n",
    "    df = df.join(df['Recipe_Qty'].str.split(' ', 1, expand=True)).drop(columns=['Recipe_Qty']).rename(columns={0:'Recipe_Qty',1:'Recipe_Unit'})\n",
    "    return df"
   ]
  },
  {
   "cell_type": "markdown",
   "metadata": {},
   "source": [
    "### Google Sheets Functions"
   ]
  },
  {
   "cell_type": "code",
   "execution_count": 5,
   "metadata": {},
   "outputs": [],
   "source": [
    "# Get instance of spreadsheet using its title\n",
    "def open_spreadsheet(spreadsheet_title):\n",
    "    return client.open(spreadsheet_title)\n",
    "\n",
    "# Nested function to get specific sheet (tab) from spreadsheet instance\n",
    "def open_sheet(spreadsheet_title, tab_index):\n",
    "    sheet = open_spreadsheet(spreadsheet_title).get_worksheet(tab_index)\n",
    "    return sheet\n",
    "\n",
    "# Get all sheet data\n",
    "def get_sheet_data(spreadsheet_title, tab_index):\n",
    "    sheet = open_sheet(spreadsheet_title, tab_index)\n",
    "    sheet_data = sheet.get_all_records()\n",
    "    return sheet_data\n",
    "\n",
    "# Convert a letter into its numerical equivalent for use in `get_cell()`\n",
    "# Columns in spreadsheets use letters.\n",
    "# However, the API calls them via their numerical placement.\n",
    "# `ord()` returns an integer that represents a Unicode character,\n",
    "# which differs between lower and upper cases.\n",
    "def letter_to_num(column_letter):\n",
    "    number = ord(column_letter.lower()) - 96\n",
    "    return number\n",
    "\n",
    "# Get data from specified cell\n",
    "def get_cell(sheet_var, column_letter, row_num):\n",
    "    column_number = letter_to_num(column_letter)\n",
    "    return sheet.cell(col=column_number,row=row_num)\n",
    "\n",
    "# Turn sheet dictionary into a dataframe\n",
    "def create_df_from_sheet(sheet_data):\n",
    "    df = pd.DataFrame.from_dict(sheet_data)\n",
    "    return df\n",
    "\n",
    "# Create df for specified tab in 'Order Sheet' with selected columns\n",
    "# Keep rows where the 'Best Price' IS NOT equal to 0\n",
    "def create_order_sheet_df(tab_index):\n",
    "    df = create_df_from_sheet(\n",
    "        get_sheet_data(\n",
    "            'Order Sheet', tab_index\n",
    "        )\n",
    "    )[['Item','Order Unit','Best Price']]\n",
    "    df = df[df['Best Price'] != 0]\n",
    "    df = df.rename(columns={\n",
    "        'Item':'Ingredient_Name',\n",
    "        'Order Unit':'Purchase_Unit',\n",
    "        'Best Price':'Purchase_Price_$'\n",
    "    })\n",
    "    return df\n",
    "\n",
    "# Clean menu engineering DataFrame by dropping rows with no value in 'Item_Name'\n",
    "def clean_engineering_df(df):\n",
    "    df.drop(df[df['Item_Name'] == ''].index, inplace=True)\n",
    "    return df"
   ]
  },
  {
   "cell_type": "markdown",
   "metadata": {},
   "source": [
    "### Spoonacular Functions"
   ]
  },
  {
   "cell_type": "code",
   "execution_count": 70,
   "metadata": {},
   "outputs": [],
   "source": [
    "# Function that takes in an ingredient name and returns up to 20 matches\n",
    "# Example request: https://api.spoonacular.com/food/ingredients/search?query=banana&number=2&sort=calories&sortDirection=desc\n",
    "def search_ing(ing):\n",
    "    return requests.get(search_ing_url + ing + '&number=20' + key_url).json()\n",
    "\n",
    "# Get ingredient `id`\n",
    "def get_ing_id(ing):\n",
    "    ingredient = search_ing(ing)['results'][0]\n",
    "    print(f\"Match for {ing}:\")\n",
    "    print(ingredient)\n",
    "\n",
    "    ing_id = ingredient['id']\n",
    "    return ing_id\n",
    "\n",
    "# Get ingredient information\n",
    "def get_ing_info(ing, ing_amount, unit):\n",
    "        ing_id = get_ing_id(ing)\n",
    "        return requests.get(f\"{spoon_url}/food/ingredients/{ing_id}/information?amount={ing_amount}&unit={unit}{key_url}\").json()\n",
    "    \n",
    "# Create df from ingredient info\n",
    "def ing_info_to_df(ing, ing_amount, unit):\n",
    "    ing_info = get_ing_info(ing, ing_amount, unit)\n",
    "    df = pd.json_normalize(ing_info)[['id','name','amount','unit','estimatedCost.value']]\n",
    "    df['estimatedCost.value'] = (df['estimatedCost.value'] / 100).round(2)\n",
    "    df.columns = [['ID','Ingredient_Name','Recipe_Qty','Recipe_Unit','Recipe_Cost_Per_Unit_$']]\n",
    "    return df"
   ]
  },
  {
   "cell_type": "markdown",
   "metadata": {},
   "source": [
    "# Script Flow"
   ]
  },
  {
   "cell_type": "markdown",
   "metadata": {},
   "source": [
    "## Read Data from Original Sources into Python"
   ]
  },
  {
   "cell_type": "markdown",
   "metadata": {},
   "source": [
    "### Get Recipe Ingredients from Docx Files"
   ]
  },
  {
   "cell_type": "code",
   "execution_count": 7,
   "metadata": {},
   "outputs": [
    {
     "data": {
      "text/plain": [
       "['basil_ricotta_recipe.docx',\n",
       " 'cheesecake_recipe.docx',\n",
       " 'chicken_parm_meatballs_recipe.docx',\n",
       " 'marinara_recipe.docx']"
      ]
     },
     "execution_count": 7,
     "metadata": {},
     "output_type": "execute_result"
    }
   ],
   "source": [
    "# Get list of all recipes from directory\n",
    "recipe_list = get_recipe_list()\n",
    "recipe_list"
   ]
  },
  {
   "cell_type": "code",
   "execution_count": 8,
   "metadata": {},
   "outputs": [],
   "source": [
    "# Print the ingredients of all recipes\n",
    "# print_all_recipes_ingredients()"
   ]
  },
  {
   "cell_type": "code",
   "execution_count": 9,
   "metadata": {},
   "outputs": [],
   "source": [
    "# Get a recipe's list of ingredients and quantities\n",
    "data = get_recipe_from_docx(recipe_list[0])"
   ]
  },
  {
   "cell_type": "code",
   "execution_count": 10,
   "metadata": {},
   "outputs": [
    {
     "data": {
      "text/html": [
       "<div>\n",
       "<style scoped>\n",
       "    .dataframe tbody tr th:only-of-type {\n",
       "        vertical-align: middle;\n",
       "    }\n",
       "\n",
       "    .dataframe tbody tr th {\n",
       "        vertical-align: top;\n",
       "    }\n",
       "\n",
       "    .dataframe thead th {\n",
       "        text-align: right;\n",
       "    }\n",
       "</style>\n",
       "<table border=\"1\" class=\"dataframe\">\n",
       "  <thead>\n",
       "    <tr style=\"text-align: right;\">\n",
       "      <th></th>\n",
       "      <th>Ingredient_Name</th>\n",
       "      <th>Recipe_Qty</th>\n",
       "      <th>Recipe_Unit</th>\n",
       "    </tr>\n",
       "  </thead>\n",
       "  <tbody>\n",
       "    <tr>\n",
       "      <th>0</th>\n",
       "      <td>Ricotta</td>\n",
       "      <td>2</td>\n",
       "      <td>lbs</td>\n",
       "    </tr>\n",
       "    <tr>\n",
       "      <th>1</th>\n",
       "      <td>Fresh basil</td>\n",
       "      <td>1</td>\n",
       "      <td>c</td>\n",
       "    </tr>\n",
       "    <tr>\n",
       "      <th>2</th>\n",
       "      <td>Lemon (juice and zest)</td>\n",
       "      <td>1</td>\n",
       "      <td>ea</td>\n",
       "    </tr>\n",
       "    <tr>\n",
       "      <th>3</th>\n",
       "      <td>Ground nutmeg</td>\n",
       "      <td>1</td>\n",
       "      <td>tsp</td>\n",
       "    </tr>\n",
       "    <tr>\n",
       "      <th>4</th>\n",
       "      <td>Tri-mix</td>\n",
       "      <td>2</td>\n",
       "      <td>tsp</td>\n",
       "    </tr>\n",
       "    <tr>\n",
       "      <th>5</th>\n",
       "      <td>EVOO</td>\n",
       "      <td>⅛</td>\n",
       "      <td>c</td>\n",
       "    </tr>\n",
       "    <tr>\n",
       "      <th>6</th>\n",
       "      <td>Heavy cream</td>\n",
       "      <td>¼</td>\n",
       "      <td>c</td>\n",
       "    </tr>\n",
       "  </tbody>\n",
       "</table>\n",
       "</div>"
      ],
      "text/plain": [
       "          Ingredient_Name Recipe_Qty Recipe_Unit\n",
       "0                 Ricotta          2         lbs\n",
       "1             Fresh basil          1           c\n",
       "2  Lemon (juice and zest)          1          ea\n",
       "3           Ground nutmeg          1         tsp\n",
       "4                 Tri-mix          2         tsp\n",
       "5                    EVOO          ⅛           c\n",
       "6             Heavy cream          ¼           c"
      ]
     },
     "execution_count": 10,
     "metadata": {},
     "output_type": "execute_result"
    }
   ],
   "source": [
    "# Create a DataFrame of the first recipe 'Basil Ricotta'\n",
    "basil_ricotta_df = create_df_from_recipe(data)\n",
    "basil_ricotta_df"
   ]
  },
  {
   "cell_type": "markdown",
   "metadata": {},
   "source": [
    "### Get Ingredient Purchase Prices from Google Sheets"
   ]
  },
  {
   "cell_type": "code",
   "execution_count": 11,
   "metadata": {},
   "outputs": [],
   "source": [
    "# Create DataFrames from tabs in spreadsheet\n",
    "order_sheet_df = pd.DataFrame()\n",
    "produce_df = create_order_sheet_df(0)\n",
    "groceries_df = create_order_sheet_df(1)\n",
    "poultry_seafood_df = create_order_sheet_df(2)\n",
    "spices_df = create_order_sheet_df(4)"
   ]
  },
  {
   "cell_type": "code",
   "execution_count": 12,
   "metadata": {},
   "outputs": [
    {
     "data": {
      "text/html": [
       "<div>\n",
       "<style scoped>\n",
       "    .dataframe tbody tr th:only-of-type {\n",
       "        vertical-align: middle;\n",
       "    }\n",
       "\n",
       "    .dataframe tbody tr th {\n",
       "        vertical-align: top;\n",
       "    }\n",
       "\n",
       "    .dataframe thead th {\n",
       "        text-align: right;\n",
       "    }\n",
       "</style>\n",
       "<table border=\"1\" class=\"dataframe\">\n",
       "  <thead>\n",
       "    <tr style=\"text-align: right;\">\n",
       "      <th></th>\n",
       "      <th>Ingredient_Name</th>\n",
       "      <th>Purchase_Unit</th>\n",
       "      <th>Purchase_Price_$</th>\n",
       "    </tr>\n",
       "  </thead>\n",
       "  <tbody>\n",
       "    <tr>\n",
       "      <th>0</th>\n",
       "      <td>Asparagus, 11lb</td>\n",
       "      <td>cse/11ct</td>\n",
       "      <td>23.97</td>\n",
       "    </tr>\n",
       "    <tr>\n",
       "      <th>1</th>\n",
       "      <td>Arugula</td>\n",
       "      <td>3 lb cse</td>\n",
       "      <td>18.36</td>\n",
       "    </tr>\n",
       "    <tr>\n",
       "      <th>2</th>\n",
       "      <td>Apples,granny smith</td>\n",
       "      <td>ea</td>\n",
       "      <td>0.89</td>\n",
       "    </tr>\n",
       "    <tr>\n",
       "      <th>3</th>\n",
       "      <td>Avocado, Hass, Ripe</td>\n",
       "      <td>ea</td>\n",
       "      <td>1.60</td>\n",
       "    </tr>\n",
       "    <tr>\n",
       "      <th>4</th>\n",
       "      <td>Bananas   ( 3x per week )</td>\n",
       "      <td>lb</td>\n",
       "      <td>0.67</td>\n",
       "    </tr>\n",
       "    <tr>\n",
       "      <th>...</th>\n",
       "      <td>...</td>\n",
       "      <td>...</td>\n",
       "      <td>...</td>\n",
       "    </tr>\n",
       "    <tr>\n",
       "      <th>75</th>\n",
       "      <td>Tomatoes, 6x6</td>\n",
       "      <td>cs</td>\n",
       "      <td>46.86</td>\n",
       "    </tr>\n",
       "    <tr>\n",
       "      <th>76</th>\n",
       "      <td>Tomatoes, Grape</td>\n",
       "      <td>cs/12/ea</td>\n",
       "      <td>20.86</td>\n",
       "    </tr>\n",
       "    <tr>\n",
       "      <th>77</th>\n",
       "      <td>Tomatoes, Plum</td>\n",
       "      <td>cs</td>\n",
       "      <td>38.31</td>\n",
       "    </tr>\n",
       "    <tr>\n",
       "      <th>78</th>\n",
       "      <td>Tomatoes, Tomatillo</td>\n",
       "      <td>lb</td>\n",
       "      <td>2.58</td>\n",
       "    </tr>\n",
       "    <tr>\n",
       "      <th>79</th>\n",
       "      <td>Watermelon seedless</td>\n",
       "      <td>ea</td>\n",
       "      <td>9.78</td>\n",
       "    </tr>\n",
       "  </tbody>\n",
       "</table>\n",
       "<p>80 rows × 3 columns</p>\n",
       "</div>"
      ],
      "text/plain": [
       "               Ingredient_Name Purchase_Unit  Purchase_Price_$\n",
       "0              Asparagus, 11lb      cse/11ct             23.97\n",
       "1                      Arugula      3 lb cse             18.36\n",
       "2          Apples,granny smith            ea              0.89\n",
       "3          Avocado, Hass, Ripe            ea              1.60\n",
       "4   Bananas   ( 3x per week )             lb              0.67\n",
       "..                         ...           ...               ...\n",
       "75               Tomatoes, 6x6            cs             46.86\n",
       "76             Tomatoes, Grape      cs/12/ea             20.86\n",
       "77              Tomatoes, Plum            cs             38.31\n",
       "78         Tomatoes, Tomatillo            lb              2.58\n",
       "79         Watermelon seedless            ea              9.78\n",
       "\n",
       "[80 rows x 3 columns]"
      ]
     },
     "execution_count": 12,
     "metadata": {},
     "output_type": "execute_result"
    }
   ],
   "source": [
    "produce_df"
   ]
  },
  {
   "cell_type": "code",
   "execution_count": 13,
   "metadata": {},
   "outputs": [
    {
     "data": {
      "text/html": [
       "<div>\n",
       "<style scoped>\n",
       "    .dataframe tbody tr th:only-of-type {\n",
       "        vertical-align: middle;\n",
       "    }\n",
       "\n",
       "    .dataframe tbody tr th {\n",
       "        vertical-align: top;\n",
       "    }\n",
       "\n",
       "    .dataframe thead th {\n",
       "        text-align: right;\n",
       "    }\n",
       "</style>\n",
       "<table border=\"1\" class=\"dataframe\">\n",
       "  <thead>\n",
       "    <tr style=\"text-align: right;\">\n",
       "      <th></th>\n",
       "      <th>Ingredient_Name</th>\n",
       "      <th>Purchase_Unit</th>\n",
       "      <th>Purchase_Price_$</th>\n",
       "    </tr>\n",
       "  </thead>\n",
       "  <tbody>\n",
       "    <tr>\n",
       "      <th>0</th>\n",
       "      <td>Asparagus, 11lb</td>\n",
       "      <td>cse/11ct</td>\n",
       "      <td>23.97</td>\n",
       "    </tr>\n",
       "    <tr>\n",
       "      <th>1</th>\n",
       "      <td>Arugula</td>\n",
       "      <td>3 lb cse</td>\n",
       "      <td>18.36</td>\n",
       "    </tr>\n",
       "    <tr>\n",
       "      <th>2</th>\n",
       "      <td>Apples,granny smith</td>\n",
       "      <td>ea</td>\n",
       "      <td>0.89</td>\n",
       "    </tr>\n",
       "    <tr>\n",
       "      <th>3</th>\n",
       "      <td>Avocado, Hass, Ripe</td>\n",
       "      <td>ea</td>\n",
       "      <td>1.6</td>\n",
       "    </tr>\n",
       "    <tr>\n",
       "      <th>4</th>\n",
       "      <td>Bananas   ( 3x per week )</td>\n",
       "      <td>lb</td>\n",
       "      <td>0.67</td>\n",
       "    </tr>\n",
       "    <tr>\n",
       "      <th>...</th>\n",
       "      <td>...</td>\n",
       "      <td>...</td>\n",
       "      <td>...</td>\n",
       "    </tr>\n",
       "    <tr>\n",
       "      <th>66</th>\n",
       "      <td>Tri Mix</td>\n",
       "      <td>50lb</td>\n",
       "      <td>120.0</td>\n",
       "    </tr>\n",
       "    <tr>\n",
       "      <th>67</th>\n",
       "      <td>Tumerick</td>\n",
       "      <td>18oz</td>\n",
       "      <td>6.75</td>\n",
       "    </tr>\n",
       "    <tr>\n",
       "      <th>68</th>\n",
       "      <td>Vanilla Beans</td>\n",
       "      <td>4oz</td>\n",
       "      <td>22.95</td>\n",
       "    </tr>\n",
       "    <tr>\n",
       "      <th>69</th>\n",
       "      <td>Wasabi</td>\n",
       "      <td>4lb</td>\n",
       "      <td>36.5</td>\n",
       "    </tr>\n",
       "    <tr>\n",
       "      <th>70</th>\n",
       "      <td>Zanzibar Cloves</td>\n",
       "      <td></td>\n",
       "      <td>8.99</td>\n",
       "    </tr>\n",
       "  </tbody>\n",
       "</table>\n",
       "<p>427 rows × 3 columns</p>\n",
       "</div>"
      ],
      "text/plain": [
       "               Ingredient_Name Purchase_Unit Purchase_Price_$\n",
       "0              Asparagus, 11lb      cse/11ct            23.97\n",
       "1                      Arugula      3 lb cse            18.36\n",
       "2          Apples,granny smith            ea             0.89\n",
       "3          Avocado, Hass, Ripe            ea              1.6\n",
       "4   Bananas   ( 3x per week )             lb             0.67\n",
       "..                         ...           ...              ...\n",
       "66                    Tri Mix           50lb            120.0\n",
       "67                    Tumerick          18oz             6.75\n",
       "68               Vanilla Beans           4oz            22.95\n",
       "69                      Wasabi           4lb             36.5\n",
       "70             Zanzibar Cloves                           8.99\n",
       "\n",
       "[427 rows x 3 columns]"
      ]
     },
     "execution_count": 13,
     "metadata": {},
     "output_type": "execute_result"
    }
   ],
   "source": [
    "# Combine all DataFrames into one\n",
    "order_sheet_df = order_sheet_df.append([produce_df,groceries_df,poultry_seafood_df,spices_df])\n",
    "order_sheet_df"
   ]
  },
  {
   "cell_type": "markdown",
   "metadata": {},
   "source": [
    "### Calculate Individual Recipe Costs"
   ]
  },
  {
   "cell_type": "markdown",
   "metadata": {},
   "source": [
    "#### Using Order Sheet"
   ]
  },
  {
   "cell_type": "code",
   "execution_count": 14,
   "metadata": {},
   "outputs": [
    {
     "data": {
      "text/plain": [
       "['basil_ricotta_recipe.docx',\n",
       " 'cheesecake_recipe.docx',\n",
       " 'chicken_parm_meatballs_recipe.docx',\n",
       " 'marinara_recipe.docx']"
      ]
     },
     "execution_count": 14,
     "metadata": {},
     "output_type": "execute_result"
    }
   ],
   "source": [
    "recipe_list"
   ]
  },
  {
   "cell_type": "code",
   "execution_count": 75,
   "metadata": {},
   "outputs": [
    {
     "data": {
      "text/html": [
       "<div>\n",
       "<style scoped>\n",
       "    .dataframe tbody tr th:only-of-type {\n",
       "        vertical-align: middle;\n",
       "    }\n",
       "\n",
       "    .dataframe tbody tr th {\n",
       "        vertical-align: top;\n",
       "    }\n",
       "\n",
       "    .dataframe thead th {\n",
       "        text-align: right;\n",
       "    }\n",
       "</style>\n",
       "<table border=\"1\" class=\"dataframe\">\n",
       "  <thead>\n",
       "    <tr style=\"text-align: right;\">\n",
       "      <th></th>\n",
       "      <th>Ingredient_Name</th>\n",
       "      <th>Recipe_Qty</th>\n",
       "      <th>Recipe_Unit</th>\n",
       "    </tr>\n",
       "  </thead>\n",
       "  <tbody>\n",
       "    <tr>\n",
       "      <th>0</th>\n",
       "      <td>Cream cheese</td>\n",
       "      <td>20</td>\n",
       "      <td>oz</td>\n",
       "    </tr>\n",
       "    <tr>\n",
       "      <th>1</th>\n",
       "      <td>Granulated sugar</td>\n",
       "      <td>17.5</td>\n",
       "      <td>oz</td>\n",
       "    </tr>\n",
       "    <tr>\n",
       "      <th>2</th>\n",
       "      <td>Sour cream</td>\n",
       "      <td>4</td>\n",
       "      <td>oz</td>\n",
       "    </tr>\n",
       "    <tr>\n",
       "      <th>3</th>\n",
       "      <td>All purpose flour</td>\n",
       "      <td>3</td>\n",
       "      <td>Tbsp</td>\n",
       "    </tr>\n",
       "    <tr>\n",
       "      <th>4</th>\n",
       "      <td>Eggs</td>\n",
       "      <td>5</td>\n",
       "      <td>each</td>\n",
       "    </tr>\n",
       "    <tr>\n",
       "      <th>5</th>\n",
       "      <td>Egg yolks</td>\n",
       "      <td>2</td>\n",
       "      <td>each</td>\n",
       "    </tr>\n",
       "    <tr>\n",
       "      <th>6</th>\n",
       "      <td>Vanilla extract</td>\n",
       "      <td>3</td>\n",
       "      <td>tsp</td>\n",
       "    </tr>\n",
       "    <tr>\n",
       "      <th>7</th>\n",
       "      <td>Graham cracker crumbs</td>\n",
       "      <td>6.75</td>\n",
       "      <td>oz</td>\n",
       "    </tr>\n",
       "    <tr>\n",
       "      <th>8</th>\n",
       "      <td>Unsalted butter</td>\n",
       "      <td>6</td>\n",
       "      <td>oz</td>\n",
       "    </tr>\n",
       "  </tbody>\n",
       "</table>\n",
       "</div>"
      ],
      "text/plain": [
       "         Ingredient_Name Recipe_Qty Recipe_Unit\n",
       "0           Cream cheese         20          oz\n",
       "1       Granulated sugar       17.5          oz\n",
       "2             Sour cream          4          oz\n",
       "3      All purpose flour          3        Tbsp\n",
       "4                   Eggs          5        each\n",
       "5              Egg yolks          2        each\n",
       "6        Vanilla extract          3         tsp\n",
       "7  Graham cracker crumbs       6.75          oz\n",
       "8        Unsalted butter          6          oz"
      ]
     },
     "execution_count": 75,
     "metadata": {},
     "output_type": "execute_result"
    }
   ],
   "source": [
    "cheesecake_df = create_df_from_recipe(get_recipe_from_docx(recipe_list[1]))\n",
    "cheesecake_df"
   ]
  },
  {
   "cell_type": "code",
   "execution_count": 46,
   "metadata": {},
   "outputs": [],
   "source": [
    "def price_match(df_1, df_2, key1, key2, threshold=90, limit=2):\n",
    "    s = df_2.iloc[key2].tolist()\n",
    "    m = df_1.iloc[key1].apply(lambda x: process.extract(x, s, limit=limit))\n",
    "    df_1['matches'] = m\n",
    "\n",
    "    m2 = df_1['matches'].apply(lambda x: ', '.join([i[0] for i in x if i[1] >= threshold]))\n",
    "    df_1['matches'] = m2\n",
    "\n",
    "    return df_1"
   ]
  },
  {
   "cell_type": "code",
   "execution_count": 68,
   "metadata": {},
   "outputs": [
    {
     "name": "stdout",
     "output_type": "stream",
     "text": [
      "['Cream cheese', 'Granulated sugar', 'Sour cream', 'All purpose flour', 'Eggs', 'Egg yolks', 'Vanilla extract', 'Graham cracker crumbs', 'Unsalted butter']\n",
      "['Asparagus, 11lb', 'Arugula', 'Apples,granny smith', 'Avocado, Hass, Ripe', 'Bananas   ( 3x per week ) ', 'Basil', 'Beets, Purple, and Golden', 'Blueberries, Fresh', 'Bok Choy, Baby', 'Bok Choy, Large']\n"
     ]
    },
    {
     "data": {
      "text/html": [
       "<div>\n",
       "<style scoped>\n",
       "    .dataframe tbody tr th:only-of-type {\n",
       "        vertical-align: middle;\n",
       "    }\n",
       "\n",
       "    .dataframe tbody tr th {\n",
       "        vertical-align: top;\n",
       "    }\n",
       "\n",
       "    .dataframe thead th {\n",
       "        text-align: right;\n",
       "    }\n",
       "</style>\n",
       "<table border=\"1\" class=\"dataframe\">\n",
       "  <thead>\n",
       "    <tr style=\"text-align: right;\">\n",
       "      <th></th>\n",
       "      <th>0</th>\n",
       "      <th>1</th>\n",
       "    </tr>\n",
       "  </thead>\n",
       "  <tbody>\n",
       "    <tr>\n",
       "      <th>0</th>\n",
       "      <td>(Cheese,Cream, 95)</td>\n",
       "      <td>(Cheese, Mozz, Stick's - Sysco Imp, 86)</td>\n",
       "    </tr>\n",
       "    <tr>\n",
       "      <th>1</th>\n",
       "      <td>(Sugar,granulated, 95)</td>\n",
       "      <td>(Garlic, Granulated, 81)</td>\n",
       "    </tr>\n",
       "    <tr>\n",
       "      <th>2</th>\n",
       "      <td>(Cream, Sour, 95)</td>\n",
       "      <td>(Cream, Culinary, Minors, 86)</td>\n",
       "    </tr>\n",
       "    <tr>\n",
       "      <th>3</th>\n",
       "      <td>(Flour Sir Lancelott High Gluten (pizza), 86)</td>\n",
       "      <td>(Flour, PATENT 4X, Pillsbury, 86)</td>\n",
       "    </tr>\n",
       "    <tr>\n",
       "      <th>4</th>\n",
       "      <td>(Eggs bag  break-o-morn, 90)</td>\n",
       "      <td>(Eggs, Large, Grade A, 90)</td>\n",
       "    </tr>\n",
       "    <tr>\n",
       "      <th>5</th>\n",
       "      <td>(Eggs, Yolks, Frozen, 86)</td>\n",
       "      <td>(Leeks, 68)</td>\n",
       "    </tr>\n",
       "    <tr>\n",
       "      <th>6</th>\n",
       "      <td>(Vanilla extract, Imitation, 90)</td>\n",
       "      <td>(Ice Cream, Vanilla,B&amp;J (#3476), 86)</td>\n",
       "    </tr>\n",
       "    <tr>\n",
       "      <th>7</th>\n",
       "      <td>(Crackers, Graham, Crushed, 82)</td>\n",
       "      <td>(Rib Rub , 64)</td>\n",
       "    </tr>\n",
       "    <tr>\n",
       "      <th>8</th>\n",
       "      <td>(Butter, Unsalted, 95)</td>\n",
       "      <td>(Peanut Butter, Skippy,Smooth, 86)</td>\n",
       "    </tr>\n",
       "  </tbody>\n",
       "</table>\n",
       "</div>"
      ],
      "text/plain": [
       "                                               0  \\\n",
       "0                             (Cheese,Cream, 95)   \n",
       "1                         (Sugar,granulated, 95)   \n",
       "2                              (Cream, Sour, 95)   \n",
       "3  (Flour Sir Lancelott High Gluten (pizza), 86)   \n",
       "4                   (Eggs bag  break-o-morn, 90)   \n",
       "5                      (Eggs, Yolks, Frozen, 86)   \n",
       "6               (Vanilla extract, Imitation, 90)   \n",
       "7                (Crackers, Graham, Crushed, 82)   \n",
       "8                         (Butter, Unsalted, 95)   \n",
       "\n",
       "                                         1  \n",
       "0  (Cheese, Mozz, Stick's - Sysco Imp, 86)  \n",
       "1                 (Garlic, Granulated, 81)  \n",
       "2            (Cream, Culinary, Minors, 86)  \n",
       "3        (Flour, PATENT 4X, Pillsbury, 86)  \n",
       "4               (Eggs, Large, Grade A, 90)  \n",
       "5                              (Leeks, 68)  \n",
       "6     (Ice Cream, Vanilla,B&J (#3476), 86)  \n",
       "7                           (Rib Rub , 64)  \n",
       "8       (Peanut Butter, Skippy,Smooth, 86)  "
      ]
     },
     "execution_count": 68,
     "metadata": {},
     "output_type": "execute_result"
    }
   ],
   "source": [
    "mat1 = []\n",
    "mat2 = []\n",
    "list1 = cheesecake_df['Ingredient_Name'].tolist()\n",
    "list2 = order_sheet_df['Ingredient_Name'].tolist()\n",
    "print(list1)\n",
    "print(list2[:10])\n",
    "threshold = 90\n",
    "\n",
    "for i in list1:\n",
    "    mat1.append(process.extract(i, list2, limit=2))\n",
    "pd.DataFrame(mat1)"
   ]
  },
  {
   "cell_type": "markdown",
   "metadata": {},
   "source": [
    "#### Using Spoonacular"
   ]
  },
  {
   "cell_type": "code",
   "execution_count": 91,
   "metadata": {},
   "outputs": [
    {
     "data": {
      "text/plain": [
       "Int64Index([0, 1, 2, 3, 4, 5, 6, 7, 8], dtype='int64')"
      ]
     },
     "execution_count": 91,
     "metadata": {},
     "output_type": "execute_result"
    }
   ],
   "source": [
    "cheesecake_df.index"
   ]
  },
  {
   "cell_type": "code",
   "execution_count": 84,
   "metadata": {},
   "outputs": [
    {
     "name": "stdout",
     "output_type": "stream",
     "text": [
      "Match for Cream cheese:\n",
      "{'id': 1001017, 'name': 'cheese soft cream', 'image': 'cream-cheese.jpg'}\n"
     ]
    },
    {
     "data": {
      "text/html": [
       "<div>\n",
       "<style scoped>\n",
       "    .dataframe tbody tr th:only-of-type {\n",
       "        vertical-align: middle;\n",
       "    }\n",
       "\n",
       "    .dataframe tbody tr th {\n",
       "        vertical-align: top;\n",
       "    }\n",
       "\n",
       "    .dataframe thead tr th {\n",
       "        text-align: left;\n",
       "    }\n",
       "</style>\n",
       "<table border=\"1\" class=\"dataframe\">\n",
       "  <thead>\n",
       "    <tr>\n",
       "      <th></th>\n",
       "      <th>ID</th>\n",
       "      <th>Ingredient_Name</th>\n",
       "      <th>Recipe_Qty</th>\n",
       "      <th>Recipe_Unit</th>\n",
       "      <th>Recipe_Cost_Per_Unit_$</th>\n",
       "    </tr>\n",
       "  </thead>\n",
       "  <tbody>\n",
       "    <tr>\n",
       "      <th>0</th>\n",
       "      <td>1001017</td>\n",
       "      <td>cheese soft cream</td>\n",
       "      <td>20.0</td>\n",
       "      <td>oz</td>\n",
       "      <td>6.07</td>\n",
       "    </tr>\n",
       "  </tbody>\n",
       "</table>\n",
       "</div>"
      ],
      "text/plain": [
       "        ID    Ingredient_Name Recipe_Qty Recipe_Unit Recipe_Cost_Per_Unit_$\n",
       "0  1001017  cheese soft cream       20.0          oz                   6.07"
      ]
     },
     "execution_count": 84,
     "metadata": {},
     "output_type": "execute_result"
    }
   ],
   "source": [
    "# cheesecake_df['Ingredient_Name']#,cheesecake_df[1],cheesecake_df[2]\n",
    "# cheesecake_df['Ingredient_Name'][0]\n",
    "ing_info_to_df(cheesecake_df.iloc[0][0],cheesecake_df.iloc[0][1],cheesecake_df.iloc[0][2])"
   ]
  },
  {
   "cell_type": "markdown",
   "metadata": {},
   "source": [
    "### Write Recipe Costs into Menu Engineering GSheet"
   ]
  },
  {
   "cell_type": "markdown",
   "metadata": {},
   "source": [
    "### Visualize Menu Engineering Data"
   ]
  },
  {
   "cell_type": "code",
   "execution_count": 15,
   "metadata": {},
   "outputs": [],
   "source": [
    "# import turtle\n",
    "# turtle.write('Congratulations, FinTech Bootcamp Class 2021!')"
   ]
  }
 ],
 "metadata": {
  "interpreter": {
   "hash": "8bb97bf353d03daa53e880a314ed0e005a9ddab75cfc907d4a74b673e807774c"
  },
  "kernelspec": {
   "display_name": "Python 3.7.11 64-bit ('project3': conda)",
   "name": "python3"
  },
  "language_info": {
   "codemirror_mode": {
    "name": "ipython",
    "version": 3
   },
   "file_extension": ".py",
   "mimetype": "text/x-python",
   "name": "python",
   "nbconvert_exporter": "python",
   "pygments_lexer": "ipython3",
   "version": "3.7.11"
  },
  "orig_nbformat": 4
 },
 "nbformat": 4,
 "nbformat_minor": 2
}

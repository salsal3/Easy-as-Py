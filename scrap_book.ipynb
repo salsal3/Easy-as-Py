{
 "cells": [
  {
   "cell_type": "markdown",
   "metadata": {},
   "source": [
    "# Summary"
   ]
  },
  {
   "cell_type": "markdown",
   "metadata": {},
   "source": [
    "- What it does\n",
    "    - Recipe management/storage\n",
    "        - Input recipe, output df, csv, txt\n",
    "    - Recipe costing\n",
    "    - ?Restaurant simulation\n",
    "        - Point rewards\n",
    "        - Blockchain payments\n",
    "- Who it helps\n",
    "- What tools/libraries does it use"
   ]
  },
  {
   "cell_type": "markdown",
   "metadata": {},
   "source": [
    "## To Do:\n",
    "- Set up Spoonacular API\n",
    "    - Explore to relevant endpoints\n",
    "    - Create functions to get data from endpoints\n"
   ]
  },
  {
   "cell_type": "markdown",
   "metadata": {},
   "source": [
    "## Resources\n",
    "[Python Dev Interface: Requests](https://docs.python-requests.org/en/latest/api/)"
   ]
  },
  {
   "cell_type": "markdown",
   "metadata": {},
   "source": [
    "# Imports, Base Functions"
   ]
  },
  {
   "cell_type": "code",
   "execution_count": 5,
   "metadata": {},
   "outputs": [],
   "source": [
    "from pathlib import Path\n",
    "import csv\n",
    "import pandas as pd\n",
    "import panel as pn\n",
    "pn.extension('plotly')\n",
    "import plotly.express as px\n",
    "import plotly.io as pio\n",
    "pio.renderers.default = 'iframe_connected'  # Bypass mimetype 'renderer not found'\n",
    "import pandas as pd\n",
    "import hvplot.pandas\n",
    "import matplotlib.pyplot as plt\n",
    "# import numpy as np\n",
    "# import seaborn as sns\n",
    "\n",
    "import os\n",
    "from pathlib import Path\n",
    "from dotenv import load_dotenv\n",
    "load_dotenv('token.env')\n",
    "spoon_key = os.getenv('SPOONACULAR_KEY')\n",
    "gcloud_key = os.getenv('GCLOUD_KEY')\n",
    "gsheets_oauth = os.getenv('GSHEETS_OAUTH')\n",
    "\n",
    "import json, requests\n",
    "from pandas.io.json import json_normalize\n",
    "\n",
    "# import alpaca_trade_api as tradeapi\n",
    "\n",
    "# Import `chatter` functions from chatter.py\n",
    "import sys\n",
    "from chatter import *"
   ]
  },
  {
   "cell_type": "markdown",
   "metadata": {},
   "source": [
    "# Spoonacular\n",
    "API with endpoints related to food, including ingredient price and nutrition data, recipe cost breakdown, product comparisons, and menu data from over 800 American restaurant chains.\n",
    "\n",
    "- "
   ]
  },
  {
   "cell_type": "markdown",
   "metadata": {},
   "source": [
    "## API and key URLs"
   ]
  },
  {
   "cell_type": "code",
   "execution_count": 3,
   "metadata": {},
   "outputs": [],
   "source": [
    "# Requests should be formatted as \"api + endpoint + \"?query=\" + {query_params} + api_key\n",
    "spoon_url = 'https://api.spoonacular.com'\n",
    "key_url = '&apiKey=' + spoon_key\n",
    "# requests.get(spoon_url + key_url + spoon_key)"
   ]
  },
  {
   "cell_type": "markdown",
   "metadata": {},
   "source": [
    "## Endpoints\n",
    "Learn more about [quotas](https://spoonacular.com/food-api/docs#Quotas)."
   ]
  },
  {
   "cell_type": "markdown",
   "metadata": {},
   "source": [
    "### [Search Recipes](https://spoonacular.com/food-api/docs#Search-Recipes-Complex)"
   ]
  },
  {
   "cell_type": "markdown",
   "metadata": {},
   "source": [
    "Search through hundreds of thousands of recipes using advanced filtering and ranking.\n",
    "\n",
    "NOTE: This method combines searching by query, by ingredients, and by nutrients into one endpoint.\n",
    "\n",
    "Calling this endpoint requires `1 point` and `0.01 points` per result returned. Since this endpoint combines the capabilities of four different endpoints into one, additional points may be required depending on the parameters you set.\n",
    "\n",
    "- If `fillIngredients` is set to true, `0.025 points` will be added per recipe returned.\n",
    "- If a nutrient filter is set, `1 point` will be added.\n",
    "- If `addRecipeInformation` is set to true, `0.025 points` will be added per recipe returned.\n",
    "- If `addRecipeNutrition` is set to true, `0.025 points` will be added per recipe returned and `addRecipeInformation` will automatically be set to true as well.\n",
    "\n",
    "Parameters:\n",
    "- `query`: the (natural language) recipe search query.\n",
    "- `cuisine`: the cuisine(s) of the recipes. One or more, comma separated. [List of supported cuisines](https://spoonacular.com/food-api/docs#Cuisines)\n",
    "- `excludeCuisine`: the cuisine(s) the recipes must not match. One or more, comma separated.\n",
    "- `includeIngredients`: a comma-separated list of ingredients that should/must be used in the recipes.\n",
    "- `excludeIngredients`: a comma-separated list of ingredients or ingredient types that the recipes must not contain."
   ]
  },
  {
   "cell_type": "code",
   "execution_count": 21,
   "metadata": {},
   "outputs": [
    {
     "data": {
      "text/plain": [
       "{'results': [{'id': 654028,\n",
       "   'title': 'Oreo Cookies & Cream No-Bake Cheesecake',\n",
       "   'image': 'https://spoonacular.com/recipeImages/654028-312x231.jpg',\n",
       "   'imageType': 'jpg'},\n",
       "  {'id': 662151,\n",
       "   'title': 'Sugar Cookies',\n",
       "   'image': 'https://spoonacular.com/recipeImages/662151-312x231.jpg',\n",
       "   'imageType': 'jpg'},\n",
       "  {'id': 1095878,\n",
       "   'title': 'Muesli Cookies',\n",
       "   'image': 'https://spoonacular.com/recipeImages/1095878-312x231.jpg',\n",
       "   'imageType': 'jpg'},\n",
       "  {'id': 639865,\n",
       "   'title': 'Coffee Cookies',\n",
       "   'image': 'https://spoonacular.com/recipeImages/639865-312x231.jpg',\n",
       "   'imageType': 'jpg'},\n",
       "  {'id': 662786,\n",
       "   'title': 'Tahini Cookies',\n",
       "   'image': 'https://spoonacular.com/recipeImages/662786-312x231.jpg',\n",
       "   'imageType': 'jpg'},\n",
       "  {'id': 655353,\n",
       "   'title': 'Peanut Cookies',\n",
       "   'image': 'https://spoonacular.com/recipeImages/655353-312x231.jpg',\n",
       "   'imageType': 'jpg'},\n",
       "  {'id': 640246,\n",
       "   'title': 'Cowboy Cookies With Pretzels and Raisinettes',\n",
       "   'image': 'https://spoonacular.com/recipeImages/640246-312x231.jpg',\n",
       "   'imageType': 'jpg'},\n",
       "  {'id': 644570,\n",
       "   'title': 'Ginger Cookies- gluten free, soy free, vegan',\n",
       "   'image': 'https://spoonacular.com/recipeImages/644570-312x231.jpg',\n",
       "   'imageType': 'jpg'},\n",
       "  {'id': 646825,\n",
       "   'title': 'Holiday Cookies',\n",
       "   'image': 'https://spoonacular.com/recipeImages/646825-312x231.jpg',\n",
       "   'imageType': 'jpg'},\n",
       "  {'id': 673442,\n",
       "   'title': 'No Bake Cookies',\n",
       "   'image': 'https://spoonacular.com/recipeImages/673442-312x231.jpg',\n",
       "   'imageType': 'jpg'}],\n",
       " 'offset': 0,\n",
       " 'number': 10,\n",
       " 'totalResults': 170}"
      ]
     },
     "execution_count": 21,
     "metadata": {},
     "output_type": "execute_result"
    }
   ],
   "source": [
    "# Search Recipes endpoint\n",
    "search_recipe_url = spoon_url + '/recipes/complexSearch?query='\n",
    "\n",
    "# Function that takes in a query, ingredient, or nutrient and returns up to 10 relevant recipes\n",
    "# Example request: https://api.spoonacular.com/recipes/complexSearch?query=pasta&maxFat=25&number=2\n",
    "def search_recipe(query):\n",
    "    return requests.get(search_recipe_url + query + '&number=10' + key_url).json()\n",
    "\n",
    "search_recipe('cookies')"
   ]
  },
  {
   "cell_type": "markdown",
   "metadata": {},
   "source": [
    "### [Search Recipes by Ingredients](https://spoonacular.com/food-api/docs#Search-Recipes-by-Ingredients)"
   ]
  },
  {
   "cell_type": "markdown",
   "metadata": {},
   "source": [
    "Ever wondered what recipes you can cook with the ingredients you have in your fridge or pantry? This endpoint lets you find recipes that either maximize the usage of ingredients you have at hand (pre shopping) or minimize the ingredients that you don't currently have (post shopping).\n",
    "\n",
    "Find recipes that use as many of the given ingredients as possible and require as few additional ingredients as possible. This is a \"what's in your fridge\" API endpoint.\n",
    "\n",
    "Calling this endpoint requires `1 point` and `0.01 points` per recipe returned.\n",
    "\n",
    "Parameters:\n",
    "- `ingredients`: a comma-separated list of ingredients that the recipes should contain\n",
    "- `number` the maximum number of recipes to return (between 1 and 100). Default 10."
   ]
  },
  {
   "cell_type": "code",
   "execution_count": 22,
   "metadata": {},
   "outputs": [],
   "source": [
    "recipe_by_ing_url = spoon_url + '/recipes/findByIngredients?ingredients='\n",
    "\n",
    "def search_recipe_by_ing():\n",
    "    pass"
   ]
  },
  {
   "cell_type": "markdown",
   "metadata": {},
   "source": [
    "### [Ingredient Search](https://spoonacular.com/food-api/docs#Ingredient-Search)"
   ]
  },
  {
   "cell_type": "markdown",
   "metadata": {},
   "source": [
    "Search for simple whole foods (e.g. fruits, vegetables, nuts, grains, meat, fish, dairy etc.).\n",
    "\n",
    "Calling this endpoint requires `1 point` and `0.01 points` per result if `metaInformation` is set to true.\n",
    "\n",
    "Parameters:\n",
    "- `query`: the partial or full ingredient name.\n",
    "- `number`: the number of expected results (between 1 and 100)."
   ]
  },
  {
   "cell_type": "code",
   "execution_count": 23,
   "metadata": {},
   "outputs": [
    {
     "data": {
      "text/plain": [
       "{'results': [{'id': 19081, 'name': 'chocolate', 'image': 'milk-chocolate.jpg'},\n",
       "  {'id': 1102, 'name': 'chocolate milk', 'image': 'chocolate-milk.jpg'},\n",
       "  {'id': 1002064, 'name': 'chocolate mint', 'image': 'mint.jpg'},\n",
       "  {'id': 99278, 'name': 'chocolate chips', 'image': 'chocolate-chips.jpg'},\n",
       "  {'id': 14181, 'name': 'chocolate syrup', 'image': 'chocolate-syrup.jpg'},\n",
       "  {'id': 10119903, 'name': 'chocolate curls', 'image': 'chocolate-curls.jpg'},\n",
       "  {'id': 10019348, 'name': 'chocolate sauce', 'image': 'chocolate-glaze.png'},\n",
       "  {'id': 10419903, 'name': 'chocolate chunks', 'image': 'chocolate-chips.jpg'},\n",
       "  {'id': 10118157,\n",
       "   'name': 'chocolate wafers',\n",
       "   'image': 'chocolate-wafer-cookies.jpg'},\n",
       "  {'id': 19375, 'name': 'chocolate glaze', 'image': 'chocolate-glaze.png'},\n",
       "  {'id': 19226,\n",
       "   'name': 'chocolate frosting',\n",
       "   'image': 'chocolate-frosting.png'},\n",
       "  {'id': 18157,\n",
       "   'name': 'chocolate cookies',\n",
       "   'image': 'chocolate-wafer-cookies.jpg'},\n",
       "  {'id': 10219903,\n",
       "   'name': 'chocolate shavings',\n",
       "   'image': 'chocolate-curls.jpg'},\n",
       "  {'id': 19270,\n",
       "   'name': 'chocolate ice cream',\n",
       "   'image': 'chocolate-ice-cream.png'},\n",
       "  {'id': 10093645,\n",
       "   'name': 'chocolate sprinkles',\n",
       "   'image': 'chocolate-sprinkles.jpg'},\n",
       "  {'id': 93743,\n",
       "   'name': 'chocolate kisses',\n",
       "   'image': 'hersheys-kisses-or-chocolate-kisses.jpg'},\n",
       "  {'id': 99112,\n",
       "   'name': 'chocolate eggs',\n",
       "   'image': 'chocolate-easter-eggs.jpg'},\n",
       "  {'id': 13411111, 'name': 'chocolate extract', 'image': 'extract.png'},\n",
       "  {'id': 28027,\n",
       "   'name': 'chocolate chip cookie',\n",
       "   'image': 'chocolate-chip-cookie.png'},\n",
       "  {'id': 19184,\n",
       "   'name': 'chocolate pudding mix',\n",
       "   'image': 'chocolate-pudding.jpg'}],\n",
       " 'offset': 0,\n",
       " 'number': 20,\n",
       " 'totalResults': 73}"
      ]
     },
     "execution_count": 23,
     "metadata": {},
     "output_type": "execute_result"
    }
   ],
   "source": [
    "# Ingredient Search endpoint\n",
    "search_ing_url = spoon_url + '/food/ingredients/search?query='\n",
    "\n",
    "# Function that takes in an ingredient and returns up to 20 matches\n",
    "# Example request: https://api.spoonacular.com/food/ingredients/search?query=banana&number=2&sort=calories&sortDirection=desc\n",
    "def search_ing(ing):\n",
    "    return requests.get(search_ing_url + ing + '&number=20' + key_url).json()\n",
    "\n",
    "search_ing('chocolate')"
   ]
  },
  {
   "cell_type": "markdown",
   "metadata": {},
   "source": [
    "### [Get Ingredient Information](https://spoonacular.com/food-api/docs#Get-Ingredient-Information)\n",
    "Use an ingredient id to get all available information about an ingredient, such as its image and supermarket aisle.\n",
    "\n",
    "Calling this endpoint requires `1 point`.\n",
    "\n",
    "Parameters:\n",
    "- `id`: the ingredient ID#\n",
    "- `amount`: the amount of this ingredient\n",
    "- `unit`: the unit of measure for the given amount (e.g. grams)"
   ]
  },
  {
   "cell_type": "code",
   "execution_count": 85,
   "metadata": {},
   "outputs": [],
   "source": [
    "# Get ingredient information\n",
    "def get_ing_info(ing_id, ing_amount, unit):\n",
    "        return requests.get(f\"{spoon_url}/food/ingredients/{ing_id}/information?amount={ing_amount}&unit={unit}{key_url}\").json()"
   ]
  },
  {
   "cell_type": "code",
   "execution_count": 86,
   "metadata": {},
   "outputs": [],
   "source": [
    "# Create df with desired ingredient info\n",
    "def ing_info_to_df(ing_id, ing_amount, unit):\n",
    "    ing_info = get_ing_info(ing_id, ing_amount, unit)\n",
    "    return pd.json_normalize(ing_info)[['id','name','amount','unit','possibleUnits','estimatedCost.value','estimatedCost.unit']]"
   ]
  },
  {
   "cell_type": "markdown",
   "metadata": {},
   "source": [
    "#### Tests"
   ]
  },
  {
   "cell_type": "code",
   "execution_count": 87,
   "metadata": {},
   "outputs": [
    {
     "data": {
      "text/plain": [
       "{'id': 99278,\n",
       " 'original': 'chocolate morsels',\n",
       " 'originalName': 'chocolate morsels',\n",
       " 'name': 'chocolate morsels',\n",
       " 'amount': 200.0,\n",
       " 'unit': 'g',\n",
       " 'unitShort': 'g',\n",
       " 'unitLong': 'grams',\n",
       " 'possibleUnits': ['g', 'oz'],\n",
       " 'estimatedCost': {'value': 135.71, 'unit': 'US Cents'},\n",
       " 'consistency': 'solid',\n",
       " 'aisle': 'Baking',\n",
       " 'image': 'chocolate-chips.jpg',\n",
       " 'meta': [],\n",
       " 'nutrition': {'nutrients': [{'title': 'Mono Unsaturated Fat',\n",
       "    'name': 'Mono Unsaturated Fat',\n",
       "    'amount': 0.0,\n",
       "    'unit': 'g'},\n",
       "   {'title': 'Fat', 'name': 'Fat', 'amount': 28.26, 'unit': 'g'},\n",
       "   {'title': 'Vitamin B3', 'name': 'Vitamin B3', 'amount': 0.0, 'unit': 'mg'},\n",
       "   {'title': 'Carbohydrates',\n",
       "    'name': 'Carbohydrates',\n",
       "    'amount': 63.6,\n",
       "    'unit': 'g'},\n",
       "   {'title': 'Vitamin A', 'name': 'Vitamin A', 'amount': 0.0, 'unit': 'IU'},\n",
       "   {'title': 'Vitamin B6', 'name': 'Vitamin B6', 'amount': 0.0, 'unit': 'mg'},\n",
       "   {'title': 'Iron', 'name': 'Iron', 'amount': 0.0, 'unit': 'mg'},\n",
       "   {'title': 'Potassium', 'name': 'Potassium', 'amount': 0.0, 'unit': 'mg'},\n",
       "   {'title': 'Vitamin C', 'name': 'Vitamin C', 'amount': 0.0, 'unit': 'mg'},\n",
       "   {'title': 'Protein', 'name': 'Protein', 'amount': 0.0, 'unit': 'g'},\n",
       "   {'title': 'Vitamin B2', 'name': 'Vitamin B2', 'amount': 0.0, 'unit': 'mg'},\n",
       "   {'title': 'Poly Unsaturated Fat',\n",
       "    'name': 'Poly Unsaturated Fat',\n",
       "    'amount': 0.0,\n",
       "    'unit': 'g'},\n",
       "   {'title': 'Magnesium', 'name': 'Magnesium', 'amount': 0.0, 'unit': 'mg'},\n",
       "   {'title': 'Vitamin D', 'name': 'Vitamin D', 'amount': 0.0, 'unit': 'µg'},\n",
       "   {'title': 'Calcium', 'name': 'Calcium', 'amount': 0.0, 'unit': 'mg'},\n",
       "   {'title': 'Caffeine', 'name': 'Caffeine', 'amount': 0.0, 'unit': 'mg'},\n",
       "   {'title': 'Saturated Fat',\n",
       "    'name': 'Saturated Fat',\n",
       "    'amount': 17.66,\n",
       "    'unit': 'g'},\n",
       "   {'title': 'Phosphorus', 'name': 'Phosphorus', 'amount': 0.0, 'unit': 'mg'},\n",
       "   {'title': 'Vitamin E', 'name': 'Vitamin E', 'amount': 0.0, 'unit': 'mg'},\n",
       "   {'title': 'Vitamin B1', 'name': 'Vitamin B1', 'amount': 0.0, 'unit': 'mg'},\n",
       "   {'title': 'Folate', 'name': 'Folate', 'amount': 0.0, 'unit': 'µg'},\n",
       "   {'title': 'Sodium', 'name': 'Sodium', 'amount': 35.34, 'unit': 'mg'},\n",
       "   {'title': 'Vitamin B5', 'name': 'Vitamin B5', 'amount': 0.0, 'unit': 'mg'},\n",
       "   {'title': 'Net Carbohydrates',\n",
       "    'name': 'Net Carbohydrates',\n",
       "    'amount': 63.6,\n",
       "    'unit': 'g'},\n",
       "   {'title': 'Fluoride', 'name': 'Fluoride', 'amount': 0.0, 'unit': 'mg'},\n",
       "   {'title': 'Calories', 'name': 'Calories', 'amount': 494.7, 'unit': 'kcal'},\n",
       "   {'title': 'Cholesterol',\n",
       "    'name': 'Cholesterol',\n",
       "    'amount': 28.26,\n",
       "    'unit': 'mg'},\n",
       "   {'title': 'Vitamin B12',\n",
       "    'name': 'Vitamin B12',\n",
       "    'amount': 0.0,\n",
       "    'unit': 'µg'},\n",
       "   {'title': 'Selenium', 'name': 'Selenium', 'amount': 0.0, 'unit': 'µg'},\n",
       "   {'title': 'Vitamin K', 'name': 'Vitamin K', 'amount': 0.0, 'unit': 'µg'},\n",
       "   {'title': 'Trans Fat', 'name': 'Trans Fat', 'amount': 0.0, 'unit': 'g'},\n",
       "   {'title': 'Fiber', 'name': 'Fiber', 'amount': 0.0, 'unit': 'g'},\n",
       "   {'title': 'Copper', 'name': 'Copper', 'amount': 0.0, 'unit': 'mg'},\n",
       "   {'title': 'Alcohol', 'name': 'Alcohol', 'amount': 0.0, 'unit': 'g'},\n",
       "   {'title': 'Zinc', 'name': 'Zinc', 'amount': 0.0, 'unit': 'mg'},\n",
       "   {'title': 'Manganese', 'name': 'Manganese', 'amount': 0.0, 'unit': 'mg'},\n",
       "   {'title': 'Sugar', 'name': 'Sugar', 'amount': 56.54, 'unit': 'g'}],\n",
       "  'properties': [{'name': 'Glycemic Index',\n",
       "    'title': 'Glycemic Index',\n",
       "    'amount': 0.0,\n",
       "    'unit': ''},\n",
       "   {'name': 'Glycemic Load',\n",
       "    'title': 'Glycemic Load',\n",
       "    'amount': 0.0,\n",
       "    'unit': ''}],\n",
       "  'flavonoids': [{'name': 'Cyanidin',\n",
       "    'title': 'Cyanidin',\n",
       "    'amount': 0.0,\n",
       "    'unit': ''},\n",
       "   {'name': 'Petunidin', 'title': 'Petunidin', 'amount': 0.0, 'unit': ''},\n",
       "   {'name': 'Delphinidin', 'title': 'Delphinidin', 'amount': 0.0, 'unit': ''},\n",
       "   {'name': 'Malvidin', 'title': 'Malvidin', 'amount': 0.0, 'unit': ''},\n",
       "   {'name': 'Pelargonidin',\n",
       "    'title': 'Pelargonidin',\n",
       "    'amount': 0.0,\n",
       "    'unit': ''},\n",
       "   {'name': 'Peonidin', 'title': 'Peonidin', 'amount': 0.0, 'unit': ''},\n",
       "   {'name': 'Catechin', 'title': 'Catechin', 'amount': 0.0, 'unit': ''},\n",
       "   {'name': 'Epigallocatechin',\n",
       "    'title': 'Epigallocatechin',\n",
       "    'amount': 0.0,\n",
       "    'unit': ''},\n",
       "   {'name': 'Epicatechin', 'title': 'Epicatechin', 'amount': 0.0, 'unit': ''},\n",
       "   {'name': 'Epicatechin 3-gallate',\n",
       "    'title': 'Epicatechin 3-gallate',\n",
       "    'amount': 0.0,\n",
       "    'unit': ''},\n",
       "   {'name': 'Epigallocatechin 3-gallate',\n",
       "    'title': 'Epigallocatechin 3-gallate',\n",
       "    'amount': 0.0,\n",
       "    'unit': ''},\n",
       "   {'name': 'Theaflavin', 'title': 'Theaflavin', 'amount': 0.0, 'unit': ''},\n",
       "   {'name': 'Thearubigins',\n",
       "    'title': 'Thearubigins',\n",
       "    'amount': 0.0,\n",
       "    'unit': ''},\n",
       "   {'name': 'Eriodictyol', 'title': 'Eriodictyol', 'amount': 0.0, 'unit': ''},\n",
       "   {'name': 'Hesperetin', 'title': 'Hesperetin', 'amount': 0.0, 'unit': ''},\n",
       "   {'name': 'Naringenin', 'title': 'Naringenin', 'amount': 0.0, 'unit': ''},\n",
       "   {'name': 'Apigenin', 'title': 'Apigenin', 'amount': 0.0, 'unit': ''},\n",
       "   {'name': 'Luteolin', 'title': 'Luteolin', 'amount': 0.0, 'unit': ''},\n",
       "   {'name': 'Isorhamnetin',\n",
       "    'title': 'Isorhamnetin',\n",
       "    'amount': 0.0,\n",
       "    'unit': ''},\n",
       "   {'name': 'Kaempferol', 'title': 'Kaempferol', 'amount': 0.0, 'unit': ''},\n",
       "   {'name': 'Myricetin', 'title': 'Myricetin', 'amount': 0.0, 'unit': ''},\n",
       "   {'name': 'Quercetin', 'title': 'Quercetin', 'amount': 0.0, 'unit': ''},\n",
       "   {'name': \"Theaflavin-3,3'-digallate\",\n",
       "    'title': \"Theaflavin-3,3'-digallate\",\n",
       "    'amount': 0.0,\n",
       "    'unit': ''},\n",
       "   {'name': \"Theaflavin-3'-gallate\",\n",
       "    'title': \"Theaflavin-3'-gallate\",\n",
       "    'amount': 0.0,\n",
       "    'unit': ''},\n",
       "   {'name': 'Theaflavin-3-gallate',\n",
       "    'title': 'Theaflavin-3-gallate',\n",
       "    'amount': 0.0,\n",
       "    'unit': ''},\n",
       "   {'name': 'Gallocatechin',\n",
       "    'title': 'Gallocatechin',\n",
       "    'amount': 0.0,\n",
       "    'unit': ''}],\n",
       "  'caloricBreakdown': {'percentProtein': 0.0,\n",
       "   'percentFat': 49.99,\n",
       "   'percentCarbs': 50.01},\n",
       "  'weightPerServing': {'amount': 200, 'unit': 'g'}},\n",
       " 'categoryPath': ['baking pieces']}"
      ]
     },
     "execution_count": 87,
     "metadata": {},
     "output_type": "execute_result"
    }
   ],
   "source": [
    "# Test of get_ing_info()\n",
    "test_chocolate = get_ing_info('99278','200','g')\n",
    "test_chocolate"
   ]
  },
  {
   "cell_type": "code",
   "execution_count": 92,
   "metadata": {},
   "outputs": [
    {
     "name": "stdout",
     "output_type": "stream",
     "text": [
      "135.71 US Cents\n"
     ]
    },
    {
     "data": {
      "text/html": [
       "<div>\n",
       "<style scoped>\n",
       "    .dataframe tbody tr th:only-of-type {\n",
       "        vertical-align: middle;\n",
       "    }\n",
       "\n",
       "    .dataframe tbody tr th {\n",
       "        vertical-align: top;\n",
       "    }\n",
       "\n",
       "    .dataframe thead th {\n",
       "        text-align: right;\n",
       "    }\n",
       "</style>\n",
       "<table border=\"1\" class=\"dataframe\">\n",
       "  <thead>\n",
       "    <tr style=\"text-align: right;\">\n",
       "      <th></th>\n",
       "      <th>id</th>\n",
       "      <th>name</th>\n",
       "      <th>amount</th>\n",
       "      <th>unit</th>\n",
       "      <th>possibleUnits</th>\n",
       "      <th>estimatedCost.value</th>\n",
       "      <th>estimatedCost.unit</th>\n",
       "    </tr>\n",
       "  </thead>\n",
       "  <tbody>\n",
       "    <tr>\n",
       "      <th>0</th>\n",
       "      <td>99278</td>\n",
       "      <td>chocolate morsels</td>\n",
       "      <td>200.0</td>\n",
       "      <td>g</td>\n",
       "      <td>[g, oz]</td>\n",
       "      <td>135.71</td>\n",
       "      <td>US Cents</td>\n",
       "    </tr>\n",
       "  </tbody>\n",
       "</table>\n",
       "</div>"
      ],
      "text/plain": [
       "      id               name  amount unit possibleUnits  estimatedCost.value  \\\n",
       "0  99278  chocolate morsels   200.0    g       [g, oz]               135.71   \n",
       "\n",
       "  estimatedCost.unit  \n",
       "0           US Cents  "
      ]
     },
     "execution_count": 92,
     "metadata": {},
     "output_type": "execute_result"
    }
   ],
   "source": [
    "# Extracting desired data from ingredient info\n",
    "print(f\"{test_chocolate['estimatedCost']['value']} {test_chocolate['estimatedCost']['unit']}\")\n",
    "pd.json_normalize(test_chocolate)[['id','name','amount','unit','possibleUnits','estimatedCost.value','estimatedCost.unit']]"
   ]
  },
  {
   "cell_type": "code",
   "execution_count": 91,
   "metadata": {},
   "outputs": [
    {
     "data": {
      "text/html": [
       "<div>\n",
       "<style scoped>\n",
       "    .dataframe tbody tr th:only-of-type {\n",
       "        vertical-align: middle;\n",
       "    }\n",
       "\n",
       "    .dataframe tbody tr th {\n",
       "        vertical-align: top;\n",
       "    }\n",
       "\n",
       "    .dataframe thead th {\n",
       "        text-align: right;\n",
       "    }\n",
       "</style>\n",
       "<table border=\"1\" class=\"dataframe\">\n",
       "  <thead>\n",
       "    <tr style=\"text-align: right;\">\n",
       "      <th></th>\n",
       "      <th>id</th>\n",
       "      <th>name</th>\n",
       "      <th>amount</th>\n",
       "      <th>unit</th>\n",
       "      <th>possibleUnits</th>\n",
       "      <th>estimatedCost.value</th>\n",
       "      <th>estimatedCost.unit</th>\n",
       "    </tr>\n",
       "  </thead>\n",
       "  <tbody>\n",
       "    <tr>\n",
       "      <th>0</th>\n",
       "      <td>99278</td>\n",
       "      <td>chocolate morsels</td>\n",
       "      <td>1.0</td>\n",
       "      <td>g</td>\n",
       "      <td>[g, oz]</td>\n",
       "      <td>0.68</td>\n",
       "      <td>US Cents</td>\n",
       "    </tr>\n",
       "  </tbody>\n",
       "</table>\n",
       "</div>"
      ],
      "text/plain": [
       "      id               name  amount unit possibleUnits  estimatedCost.value  \\\n",
       "0  99278  chocolate morsels     1.0    g       [g, oz]                 0.68   \n",
       "\n",
       "  estimatedCost.unit  \n",
       "0           US Cents  "
      ]
     },
     "execution_count": 91,
     "metadata": {},
     "output_type": "execute_result"
    }
   ],
   "source": [
    "# Test of ing_info_to_df()\n",
    "ing_info_to_df('99278','1','g')"
   ]
  },
  {
   "cell_type": "markdown",
   "metadata": {},
   "source": [
    "### [Convert Amounts](https://spoonacular.com/food-api/docs#Convert-Amounts)\n",
    "Convert unit measurements like \"2.5 cups of flour to grams\".\n",
    "\n",
    "Parameters:\n",
    "- `ingredientName`: the ingredient to convert.\n",
    "- `sourceAmount`: the original amount you're converting **<u>from</u>** (e.g. the \"2.5\" in \"2.5 cups of flour to grams\").\n",
    "- `sourceUnit`: the original unit of measure you're converting **<u>from</u>** (e.g. the \"cups\" in \"2.5 cups of flour to grams\").\n",
    "- `targetUnit`: the new unit of measure you're converting **<u>to</u>** (e.g. the \"grams\" in \"2.5 cups of flour to grams\")."
   ]
  },
  {
   "cell_type": "code",
   "execution_count": 25,
   "metadata": {},
   "outputs": [
    {
     "data": {
      "text/plain": [
       "{'sourceAmount': 2.5,\n",
       " 'sourceUnit': 'cups',\n",
       " 'targetAmount': 312.5,\n",
       " 'targetUnit': 'grams',\n",
       " 'answer': '2.5 cups flour translates to 312.5 grams.',\n",
       " 'type': 'CONVERSION'}"
      ]
     },
     "execution_count": 25,
     "metadata": {},
     "output_type": "execute_result"
    }
   ],
   "source": [
    "# Function to convert an ingredient's unit of measure\n",
    "# Example request: https://api.spoonacular.com/recipes/convert?ingredientName=flour&sourceAmount=2.5&sourceUnit=cups&targetUnit=grams\n",
    "def convert(ing, sourceAmount, sourceUnit, targetUnit):\n",
    "    return requests.get(f\"{spoon_url}/recipes/convert?ingredientName={ing}&sourceAmount={str(sourceAmount)}&sourceUnit={sourceUnit}&targetUnit={targetUnit}{key_url}\").json()\n",
    "\n",
    "convert('flour', 2.5, 'cups', 'grams')"
   ]
  },
  {
   "cell_type": "code",
   "execution_count": 26,
   "metadata": {},
   "outputs": [
    {
     "name": "stdout",
     "output_type": "stream",
     "text": [
      "2.5 cups\n",
      "312.5 grams\n"
     ]
    }
   ],
   "source": [
    "# Test convert() function and separating data\n",
    "test_convert = convert('flour', 2.5, 'cups', 'grams')\n",
    "print(f\"{test_convert['sourceAmount']} {test_convert['sourceUnit']}\")\n",
    "print(f\"{test_convert['targetAmount']} {test_convert['targetUnit']}\")"
   ]
  },
  {
   "cell_type": "code",
   "execution_count": 27,
   "metadata": {},
   "outputs": [
    {
     "data": {
      "text/html": [
       "<div>\n",
       "<style scoped>\n",
       "    .dataframe tbody tr th:only-of-type {\n",
       "        vertical-align: middle;\n",
       "    }\n",
       "\n",
       "    .dataframe tbody tr th {\n",
       "        vertical-align: top;\n",
       "    }\n",
       "\n",
       "    .dataframe thead th {\n",
       "        text-align: right;\n",
       "    }\n",
       "</style>\n",
       "<table border=\"1\" class=\"dataframe\">\n",
       "  <thead>\n",
       "    <tr style=\"text-align: right;\">\n",
       "      <th></th>\n",
       "      <th>sourceAmount</th>\n",
       "      <th>sourceUnit</th>\n",
       "      <th>targetAmount</th>\n",
       "      <th>targetUnit</th>\n",
       "    </tr>\n",
       "  </thead>\n",
       "  <tbody>\n",
       "    <tr>\n",
       "      <th>0</th>\n",
       "      <td>2.5</td>\n",
       "      <td>cups</td>\n",
       "      <td>312.5</td>\n",
       "      <td>grams</td>\n",
       "    </tr>\n",
       "  </tbody>\n",
       "</table>\n",
       "</div>"
      ],
      "text/plain": [
       "   sourceAmount sourceUnit  targetAmount targetUnit\n",
       "0           2.5       cups         312.5      grams"
      ]
     },
     "execution_count": 27,
     "metadata": {},
     "output_type": "execute_result"
    }
   ],
   "source": [
    "# Create a DataFrame from the convert() json data\n",
    "test_df = pd.json_normalize(test_convert).drop(columns=['answer','type'])\n",
    "test_df"
   ]
  },
  {
   "cell_type": "markdown",
   "metadata": {},
   "source": [
    "### Other Endpoints"
   ]
  },
  {
   "cell_type": "code",
   "execution_count": null,
   "metadata": {},
   "outputs": [],
   "source": [
    "# # Ingredients endpoints\n",
    "# search_ingredient = spoon_url + '/food/ingredients/search?query='\n",
    "\n",
    "# # Products endpoints\n",
    "# products = spoon_url + '/food/products'\n",
    "\n",
    "# # Menu Items endpoints\n",
    "# menu_item = spoon_url + '/food/menuItems'\n",
    "\n",
    "# # Meal Planner endpoints\n",
    "# meal_plan = spoon_url + '/mealplanner'\n",
    "\n",
    "# # Wine endpoints\n",
    "# wine = spoon_url + '/food/wine'\n",
    "\n",
    "# # Detect Food in Text endpoint\n",
    "# detect = spoon_url + '/food/detect'"
   ]
  },
  {
   "cell_type": "code",
   "execution_count": 29,
   "metadata": {},
   "outputs": [],
   "source": [
    "# Get ID from search results\n"
   ]
  },
  {
   "cell_type": "code",
   "execution_count": 30,
   "metadata": {},
   "outputs": [],
   "source": [
    "# # Dictionary containing endpoints\n",
    "# ends = {\n",
    "#     'recipes': '/recipes/complexSearch?',\n",
    "#     'ingredient': '/food/ingredients?',\n",
    "#     'products': '/food/products?',\n",
    "#     'menu_items': '/food/menuItems?',\n",
    "#     'meal_plan': '/mealplanner?',\n",
    "#     'wine': '/food/wine?',\n",
    "#     'detect': '/food/detect?',\n",
    "# }\n",
    "\n",
    "# def search(endpoint, query_item):\n",
    "#     # user_ends = input(\"Select endpoint: \")\n",
    "#     search_url = f\"{spoon_url}{ends[endpoint]}query={query_item}{key_url}\"\n",
    "#     print(search_url)"
   ]
  },
  {
   "cell_type": "code",
   "execution_count": 31,
   "metadata": {},
   "outputs": [
    {
     "name": "stdout",
     "output_type": "stream",
     "text": [
      "https://api.spoonacular.com/recipes/complexSearch?query=mango&apiKey=1dbea58c8d314428b670f768096872bc\n"
     ]
    }
   ],
   "source": [
    "# search(\"recipes\", \"mango\")"
   ]
  },
  {
   "cell_type": "code",
   "execution_count": 32,
   "metadata": {},
   "outputs": [],
   "source": [
    "# search_ing + 'banana' + api_key + '?format=json'\n",
    "# requests.get(z)\n",
    "# y = search_ing + 'mango' + api_key #+ '?format=json'\n",
    "# print(y)\n",
    "# requests.get(y)"
   ]
  },
  {
   "cell_type": "code",
   "execution_count": 33,
   "metadata": {},
   "outputs": [],
   "source": [
    "# z = search_ing + '/search?' + api_key + '&query=mango'\n",
    "# print(z)\n",
    "# requests.get(z)"
   ]
  },
  {
   "cell_type": "code",
   "execution_count": 36,
   "metadata": {},
   "outputs": [],
   "source": [
    "# def find_ing(ing):\n",
    "#     search_ing + ing + api_key\n",
    "# find_ing(\"banana\")"
   ]
  },
  {
   "cell_type": "code",
   "execution_count": 42,
   "metadata": {},
   "outputs": [
    {
     "data": {
      "text/plain": [
       "{<Response [404]>}"
      ]
     },
     "execution_count": 42,
     "metadata": {},
     "output_type": "execute_result"
    }
   ],
   "source": [
    "request = requests.get(spoon_url, params={\n",
    "    'grant_type': 'client_credentials',\n",
    "    'client_id': spoon_key,\n",
    "})\n",
    "{request}"
   ]
  },
  {
   "cell_type": "code",
   "execution_count": null,
   "metadata": {},
   "outputs": [],
   "source": [
    "request = requests.post(spoon_url + '?apiKey=' + spoon_key, {\n",
    "    'grant_type': 'client_credentials',\n",
    "    'client_id': api_key,\n",
    "})"
   ]
  },
  {
   "cell_type": "code",
   "execution_count": null,
   "metadata": {},
   "outputs": [],
   "source": [
    "request"
   ]
  },
  {
   "cell_type": "code",
   "execution_count": null,
   "metadata": {},
   "outputs": [],
   "source": [
    "recipe_id = ''\n",
    "ingredient = ''\n",
    "x = ''\n",
    "class spoon:\n",
    "    class recipes():\n",
    "        recipes = api + 'recipes/'\n",
    "        search = recipes + 'complexSearch/'\n",
    "        price = recipes + recipe_id + 'priceBreakdownWidget.json'\n",
    "        ingredients = recipes + recipe_id + 'ingredientWidget.json'\n",
    "        nutrition = recipes + recipe_id + 'nutritionWidget.json'\n",
    "    class ingredient(x):\n",
    "        ingredient = api + 'food/ingredients/'\n",
    "        search = ingredient + 'search?query=' + x"
   ]
  },
  {
   "cell_type": "code",
   "execution_count": null,
   "metadata": {},
   "outputs": [],
   "source": [
    "# Imports\n",
    "import time\n",
    "import sys\n",
    "from random import randrange\n",
    "\n",
    "# List for holding 'chatter' text\n",
    "npc_chatter = []\n",
    "\n",
    "# Function is based off an example found in Stack Overflow\n",
    "def chatter(npc_chatter):\n",
    "    print()\n",
    "    for c in npc_chatter:\n",
    "        sys.stdout.write(c)\n",
    "        sys.stdout.flush()\n",
    "        secs = '0.0' + str(randrange(10,20,1))\n",
    "        secs = float(secs)\n",
    "        time.sleep(secs)\n",
    "    print()\n",
    "    time.sleep(2)\n",
    "\n",
    "# 'Chatter' function test using an appended list of dialog\n",
    "# Though this aspect of the function is not utilized, it is kept in case it proves useful later\n",
    "# If the line break (\\n) is desired, double tab to align the separated lines\n",
    "test_chatter = 'NPC: \"This is just a test to see if your function functions,\\n      and it\\'s functioning just fine, friend!\"'\n",
    "npc_chatter.append(test_chatter)\n",
    "chatter(test_chatter)"
   ]
  },
  {
   "cell_type": "markdown",
   "metadata": {},
   "source": [
    "# Google Sheets API\n",
    "[Google Sheets for Developers: Sheets API](https://developers.google.com/sheets/api/reference/rest)"
   ]
  },
  {
   "cell_type": "code",
   "execution_count": null,
   "metadata": {},
   "outputs": [],
   "source": [
    "# Google Client Library Installation\n",
    "# !#pip install --upgrade google-api-python-client google-auth-httplib2 google-auth-oauthlib\n",
    "\n",
    "# Imports for Google Cloud\n",
    "from googleapiclient import discovery\n",
    "from oauth2client.client import OAuth2Credentials as creds\n",
    "crm = discovery.build(\n",
    "    'cloudresourcemanager', 'v3', http=creds.authorize(httplib2.Http()))\n",
    "\n",
    "project = crm.projects().get(projectId=flags.projectId).execute()"
   ]
  },
  {
   "cell_type": "code",
   "execution_count": null,
   "metadata": {},
   "outputs": [],
   "source": [
    "# from __future__ import print_function\n",
    "# import os.path\n",
    "# from googleapiclient.discovery import build\n",
    "# from google_auth_oauthlib.flow import InstalledAppFlow\n",
    "# from google.auth.transport.requests import Request\n",
    "# from google.oauth2.credentials import Credentials\n",
    "\n",
    "# # If modifying these scopes, delete the file token.json.\n",
    "# SCOPES = ['https://www.googleapis.com/auth/spreadsheets.readonly']\n",
    "\n",
    "# # The ID and range of a sample spreadsheet.\n",
    "# SAMPLE_SPREADSHEET_ID = '1BxiMVs0XRA5nFMdKvBdBZjgmUUqptlbs74OgvE2upms'\n",
    "# SAMPLE_RANGE_NAME = 'Class Data!A2:E'\n",
    "\n",
    "# def main():\n",
    "#     \"\"\"Shows basic usage of the Sheets API.\n",
    "#     Prints values from a sample spreadsheet.\n",
    "#     \"\"\"\n",
    "#     creds = None\n",
    "#     # The file token.json stores the user's access and refresh tokens, and is\n",
    "#     # created automatically when the authorization flow completes for the first\n",
    "#     # time.\n",
    "#     if os.path.exists('token.json'):\n",
    "#         creds = Credentials.from_authorized_user_file('token.json', SCOPES)\n",
    "#     # If there are no (valid) credentials available, let the user log in.\n",
    "#     if not creds or not creds.valid:\n",
    "#         if creds and creds.expired and creds.refresh_token:\n",
    "#             creds.refresh(Request())\n",
    "#         else:\n",
    "#             flow = InstalledAppFlow.from_client_secrets_file(\n",
    "#                 'credentials.json', SCOPES)\n",
    "#             creds = flow.run_local_server(port=0)\n",
    "#         # Save the credentials for the next run\n",
    "#         with open('token.json', 'w') as token:\n",
    "#             token.write(creds.to_json())\n",
    "\n",
    "#     service = build('sheets', 'v4', credentials=creds)\n",
    "\n",
    "#     # Call the Sheets API\n",
    "#     sheet = service.spreadsheets()\n",
    "#     result = sheet.values().get(spreadsheetId=SAMPLE_SPREADSHEET_ID,\n",
    "#                                 range=SAMPLE_RANGE_NAME).execute()\n",
    "#     values = result.get('values', [])\n",
    "\n",
    "#     if not values:\n",
    "#         print('No data found.')\n",
    "#     else:\n",
    "#         print('Name, Major:')\n",
    "#         for row in values:\n",
    "#             # Print columns A and E, which correspond to indices 0 and 4.\n",
    "#             print('%s, %s' % (row[0], row[4]))\n",
    "\n",
    "# if __name__ == '__main__':\n",
    "#     main()"
   ]
  },
  {
   "cell_type": "code",
   "execution_count": null,
   "metadata": {},
   "outputs": [],
   "source": [
    "# Google Sheets service endpoint\n",
    "sheets_url = 'https://sheets.googleapis.com'\n",
    "sheets_response = requests.get(sheets_url)\n",
    "sheets_response"
   ]
  },
  {
   "cell_type": "code",
   "execution_count": null,
   "metadata": {},
   "outputs": [],
   "source": [
    "# https://developers.google.com/sheets/api/reference/rest/v4/ValueRenderOption"
   ]
  },
  {
   "cell_type": "markdown",
   "metadata": {},
   "source": [
    "## [GSpread by burnash](https://github.com/burnash/gspread)"
   ]
  },
  {
   "cell_type": "code",
   "execution_count": 2,
   "metadata": {},
   "outputs": [],
   "source": [
    "# \\!pip install gspread"
   ]
  },
  {
   "cell_type": "markdown",
   "metadata": {},
   "source": [
    "# Product List CSV"
   ]
  },
  {
   "cell_type": "markdown",
   "metadata": {},
   "source": [
    "# Recipe Cost CSV\n"
   ]
  },
  {
   "cell_type": "markdown",
   "metadata": {},
   "source": [
    "# News API\n",
    "API for searching articles and breaking news headlines from around the world, even in other languages."
   ]
  }
 ],
 "metadata": {
  "interpreter": {
   "hash": "8bb97bf353d03daa53e880a314ed0e005a9ddab75cfc907d4a74b673e807774c"
  },
  "kernelspec": {
   "display_name": "Python 3.7.11 64-bit ('project3': conda)",
   "name": "python3"
  },
  "language_info": {
   "codemirror_mode": {
    "name": "ipython",
    "version": 3
   },
   "file_extension": ".py",
   "mimetype": "text/x-python",
   "name": "python",
   "nbconvert_exporter": "python",
   "pygments_lexer": "ipython3",
   "version": "3.7.11"
  },
  "orig_nbformat": 4
 },
 "nbformat": 4,
 "nbformat_minor": 2
}

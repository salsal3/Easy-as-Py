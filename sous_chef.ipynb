{
 "cells": [
  {
   "cell_type": "code",
   "execution_count": 3,
   "metadata": {},
   "outputs": [],
   "source": [
    "from pathlib import Path\n",
    "import csv\n",
    "import pandas as pd\n",
    "import panel as pn\n",
    "pn.extension('plotly')\n",
    "import plotly.express as px\n",
    "import plotly.io as pio\n",
    "pio.renderers.default = 'iframe_connected'  # Bypass mimetype 'renderer not found'\n",
    "import pandas as pd\n",
    "import hvplot.pandas\n",
    "import matplotlib.pyplot as plt\n",
    "# import numpy as np\n",
    "# import seaborn as sns\n",
    "\n",
    "import os\n",
    "from pathlib import Path\n",
    "from dotenv import load_dotenv\n",
    "load_dotenv('token.env')\n",
    "spoon_key = os.getenv('SPOONACULAR_KEY')\n",
    "gcloud_key = os.getenv('GCLOUD_KEY')\n",
    "gsheets_oauth = os.getenv('GSHEETS_OAUTH')\n",
    "\n",
    "import json, requests\n",
    "from pandas.io.json import json_normalize\n",
    "\n",
    "# import alpaca_trade_api as tradeapi"
   ]
  },
  {
   "cell_type": "code",
   "execution_count": 2,
   "metadata": {},
   "outputs": [
    {
     "name": "stdout",
     "output_type": "stream",
     "text": [
      "\n",
      "NPC: \"This is just a test to see if the function functions,\n",
      "      and it functions just fine, friend!\"\n",
      "\n",
      "NPC: \"Just so we're clear, have another test here!\"\n",
      "\n",
      "NPC: \"This is just a test to see if the function functions,\n",
      "      and it functions just fine, friend!\"\n"
     ]
    }
   ],
   "source": [
    "import sys\n",
    "from chatter import *\n",
    "chatter(npc_chatter[0])"
   ]
  },
  {
   "cell_type": "code",
   "execution_count": null,
   "metadata": {},
   "outputs": [],
   "source": []
  }
 ],
 "metadata": {
  "interpreter": {
   "hash": "8bb97bf353d03daa53e880a314ed0e005a9ddab75cfc907d4a74b673e807774c"
  },
  "kernelspec": {
   "display_name": "Python 3.7.11 64-bit ('project3': conda)",
   "name": "python3"
  },
  "language_info": {
   "codemirror_mode": {
    "name": "ipython",
    "version": 3
   },
   "file_extension": ".py",
   "mimetype": "text/x-python",
   "name": "python",
   "nbconvert_exporter": "python",
   "pygments_lexer": "ipython3",
   "version": "3.7.11"
  },
  "orig_nbformat": 4
 },
 "nbformat": 4,
 "nbformat_minor": 2
}

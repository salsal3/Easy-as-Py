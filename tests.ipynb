{
 "cells": [
  {
   "cell_type": "markdown",
   "metadata": {},
   "source": [
    "# Summary"
   ]
  },
  {
   "cell_type": "markdown",
   "metadata": {},
   "source": [
    "- What it does\n",
    "    - Recipe management/storage\n",
    "        - Input recipe, output df, csv, txt\n",
    "    - Recipe costing\n",
    "    - ?Restaurant simulation\n",
    "        - Point rewards\n",
    "        - Blockchain payments\n",
    "- Who it helps\n",
    "- What tools/libraries does it use"
   ]
  },
  {
   "cell_type": "markdown",
   "metadata": {},
   "source": [
    "## To Do:\n",
    "- Set up Spoonacular API\n",
    "    - Explore to relevant endpoints\n",
    "    - Create functions to get data from endpoints\n"
   ]
  },
  {
   "cell_type": "markdown",
   "metadata": {},
   "source": [
    "## Jump to:\n",
    "[Imports, Base Functions](#imports-base-functions)\n",
    "\n",
    "[Spoonacular](#spoonacular)\n",
    "\n",
    "[Google Sheets API](#google-sheets-api)"
   ]
  },
  {
   "cell_type": "markdown",
   "metadata": {},
   "source": [
    "## Resources\n",
    "[Python Dev Interface: Requests](https://docs.python-requests.org/en/latest/api/)"
   ]
  },
  {
   "cell_type": "markdown",
   "metadata": {},
   "source": [
    "# Libraries"
   ]
  },
  {
   "cell_type": "markdown",
   "metadata": {},
   "source": [
    "## Installations\n",
    "[Google Sheets for Developers: Sheets API](https://developers.google.com/sheets/api/reference/rest)\n",
    "- Install `google-auth-httplib2` and `google-auth-oauthlib` if using oauth2. Their functions have largely been incorporated into the API client library\n",
    "\n",
    "[GSpread by burnash](https://github.com/burnash/gspread)"
   ]
  },
  {
   "cell_type": "code",
   "execution_count": null,
   "metadata": {},
   "outputs": [],
   "source": [
    "# Google API client library\n",
    "# \\!pip install --upgrade google-api-python-client oauth2client # google-auth-httplib2 google-auth-oauthlib\n",
    "\n",
    "# GSpread\n",
    "# \\!pip install gspread\n",
    "\n",
    "# Docx\n",
    "# \\!pip install python-docx"
   ]
  },
  {
   "cell_type": "markdown",
   "metadata": {},
   "source": [
    "## Imports"
   ]
  },
  {
   "cell_type": "code",
   "execution_count": 1,
   "metadata": {},
   "outputs": [],
   "source": [
    "from pathlib import Path\n",
    "import csv\n",
    "import pandas as pd\n",
    "# import hvplot.pandas\n",
    "# import panel as pn\n",
    "# pn.extension('plotly')\n",
    "# import plotly.express as px\n",
    "# import plotly.io as pio\n",
    "# pio.renderers.default = 'iframe_connected'  # Bypass mimetype 'renderer not found'\n",
    "import matplotlib.pyplot as plt\n",
    "# import numpy as np\n",
    "# import seaborn as sns\n",
    "\n",
    "import os\n",
    "from pathlib import Path\n",
    "from dotenv import load_dotenv\n",
    "load_dotenv('token.env')\n",
    "spoon_key = os.getenv('SPOONACULAR_KEY')\n",
    "gcloud_key = os.getenv('GCLOUD_KEY')\n",
    "gcloud_oauth_key = os.getenv('GCLOUD_OAUTH_KEY')\n",
    "gcloud_oauth_secret = os.getenv('GCLOUD_OAUTH_SECRET')\n",
    "\n",
    "import json, requests\n",
    "from pandas.io.json import json_normalize\n",
    "\n",
    "# import alpaca_trade_api as tradeapi\n",
    "\n",
    "# Google Sheets API\n",
    "from pprint import pprint\n",
    "from googleapiclient import discovery\n",
    "from oauth2client.service_account import ServiceAccountCredentials\n",
    "\n",
    "# GSpread by burnash\n",
    "import gspread\n",
    "\n",
    "# MS Docx\n",
    "import docx\n",
    "\n",
    "# 'chatter` functions from chatter.py\n",
    "import sys\n",
    "# from chatter import *"
   ]
  },
  {
   "cell_type": "markdown",
   "metadata": {},
   "source": [
    "# Spoonacular\n",
    "API with endpoints related to food, including ing price and nutrition data, recipe cost breakdown, product comparisons, and menu data from over 800 American restaurant chains."
   ]
  },
  {
   "cell_type": "markdown",
   "metadata": {},
   "source": [
    "## API and key URLs"
   ]
  },
  {
   "cell_type": "code",
   "execution_count": 3,
   "metadata": {},
   "outputs": [],
   "source": [
    "# Requests should be formatted as \"api + endpoint + \"?query=\" + {query_params} + api_key\n",
    "spoon_url = 'https://api.spoonacular.com'\n",
    "key_url = '&apiKey=' + spoon_key\n",
    "# requests.get(spoon_url + key_url + spoon_key)"
   ]
  },
  {
   "cell_type": "markdown",
   "metadata": {},
   "source": [
    "## Endpoints\n",
    "Learn more about [quotas](https://spoonacular.com/food-api/docs#Quotas)."
   ]
  },
  {
   "cell_type": "markdown",
   "metadata": {},
   "source": [
    "### [Search Recipes](https://spoonacular.com/food-api/docs#Search-Recipes-Complex)"
   ]
  },
  {
   "cell_type": "markdown",
   "metadata": {},
   "source": [
    "Search through hundreds of thousands of recipes using advanced filtering and ranking.\n",
    "\n",
    "NOTE: This method combines searching by query, by ingredients, and by nutrients into one endpoint.\n",
    "\n",
    "Calling this endpoint requires `1 point` and `0.01 points` per result returned. Since this endpoint combines the capabilities of four different endpoints into one, additional points may be required depending on the parameters you set.\n",
    "\n",
    "- If `fillIngredients` is set to true, `0.025 points` will be added per recipe returned.\n",
    "- If a nutrient filter is set, `1 point` will be added.\n",
    "- If `addRecipeInformation` is set to true, `0.025 points` will be added per recipe returned.\n",
    "- If `addRecipeNutrition` is set to true, `0.025 points` will be added per recipe returned and `addRecipeInformation` will automatically be set to true as well.\n",
    "\n",
    "Parameters:\n",
    "- `query`: the (natural language) recipe search query.\n",
    "- `cuisine`: the cuisine(s) of the recipes. One or more, comma separated. [List of supported cuisines](https://spoonacular.com/food-api/docs#Cuisines)\n",
    "- `excludeCuisine`: the cuisine(s) the recipes must not match. One or more, comma separated.\n",
    "- `includeIngredients`: a comma-separated list of ingredients that should/must be used in the recipes.\n",
    "- `excludeIngredients`: a comma-separated list of ingredients or ingredient types that the recipes must not contain."
   ]
  },
  {
   "cell_type": "code",
   "execution_count": 4,
   "metadata": {},
   "outputs": [
    {
     "data": {
      "text/plain": [
       "{'results': [{'id': 654028,\n",
       "   'title': 'Oreo Cookies & Cream No-Bake Cheesecake',\n",
       "   'image': 'https://spoonacular.com/recipeImages/654028-312x231.jpg',\n",
       "   'imageType': 'jpg'},\n",
       "  {'id': 662151,\n",
       "   'title': 'Sugar Cookies',\n",
       "   'image': 'https://spoonacular.com/recipeImages/662151-312x231.jpg',\n",
       "   'imageType': 'jpg'},\n",
       "  {'id': 1095878,\n",
       "   'title': 'Muesli Cookies',\n",
       "   'image': 'https://spoonacular.com/recipeImages/1095878-312x231.jpg',\n",
       "   'imageType': 'jpg'},\n",
       "  {'id': 639865,\n",
       "   'title': 'Coffee Cookies',\n",
       "   'image': 'https://spoonacular.com/recipeImages/639865-312x231.jpg',\n",
       "   'imageType': 'jpg'},\n",
       "  {'id': 662786,\n",
       "   'title': 'Tahini Cookies',\n",
       "   'image': 'https://spoonacular.com/recipeImages/662786-312x231.jpg',\n",
       "   'imageType': 'jpg'},\n",
       "  {'id': 655353,\n",
       "   'title': 'Peanut Cookies',\n",
       "   'image': 'https://spoonacular.com/recipeImages/655353-312x231.jpg',\n",
       "   'imageType': 'jpg'},\n",
       "  {'id': 640246,\n",
       "   'title': 'Cowboy Cookies With Pretzels and Raisinettes',\n",
       "   'image': 'https://spoonacular.com/recipeImages/640246-312x231.jpg',\n",
       "   'imageType': 'jpg'},\n",
       "  {'id': 644570,\n",
       "   'title': 'Ginger Cookies- gluten free, soy free, vegan',\n",
       "   'image': 'https://spoonacular.com/recipeImages/644570-312x231.jpg',\n",
       "   'imageType': 'jpg'},\n",
       "  {'id': 646825,\n",
       "   'title': 'Holiday Cookies',\n",
       "   'image': 'https://spoonacular.com/recipeImages/646825-312x231.jpg',\n",
       "   'imageType': 'jpg'},\n",
       "  {'id': 673442,\n",
       "   'title': 'No Bake Cookies',\n",
       "   'image': 'https://spoonacular.com/recipeImages/673442-312x231.jpg',\n",
       "   'imageType': 'jpg'}],\n",
       " 'offset': 0,\n",
       " 'number': 10,\n",
       " 'totalResults': 170}"
      ]
     },
     "execution_count": 4,
     "metadata": {},
     "output_type": "execute_result"
    }
   ],
   "source": [
    "# Search Recipes endpoint\n",
    "search_recipe_url = spoon_url + '/recipes/complexSearch?query='\n",
    "\n",
    "# Function that takes in a query, ingredient, or nutrient and returns up to 10 relevant recipes\n",
    "# Example request: https://api.spoonacular.com/recipes/complexSearch?query=pasta&maxFat=25&number=2\n",
    "def search_recipe(query):\n",
    "    return requests.get(search_recipe_url + query + '&number=10' + key_url).json()\n",
    "\n",
    "search_recipe('cookies')"
   ]
  },
  {
   "cell_type": "markdown",
   "metadata": {},
   "source": [
    "### [Search Recipes by Ingredients](https://spoonacular.com/food-api/docs#Search-Recipes-by-Ingredients)"
   ]
  },
  {
   "cell_type": "markdown",
   "metadata": {},
   "source": [
    "Ever wondered what recipes you can cook with the ingredients you have in your fridge or pantry? This endpoint lets you find recipes that either maximize the usage of ingredients you have at hand (pre shopping) or minimize the ingredients that you don't currently have (post shopping).\n",
    "\n",
    "Find recipes that use as many of the given ingredients as possible and require as few additional ingredients as possible. This is a \"what's in your fridge\" API endpoint.\n",
    "\n",
    "Calling this endpoint requires `1 point` and `0.01 points` per recipe returned.\n",
    "\n",
    "Parameters:\n",
    "- `ingredients`: a comma-separated list of ingredients that the recipes should contain\n",
    "- `number` the maximum number of recipes to return (between 1 and 100). Default 10."
   ]
  },
  {
   "cell_type": "code",
   "execution_count": 5,
   "metadata": {},
   "outputs": [],
   "source": [
    "recipe_by_ing_url = spoon_url + '/recipes/findByIngredients?ingredients='\n",
    "\n",
    "def search_recipe_by_ing():\n",
    "    pass"
   ]
  },
  {
   "cell_type": "markdown",
   "metadata": {},
   "source": [
    "### [Ingredient Search](https://spoonacular.com/food-api/docs#Ingredient-Search)"
   ]
  },
  {
   "cell_type": "markdown",
   "metadata": {},
   "source": [
    "Search for simple whole foods (e.g. fruits, vegetables, nuts, grains, meat, fish, dairy etc.).\n",
    "\n",
    "Calling this endpoint requires `1 point` and `0.01 points` per result if `metaInformation` is set to true.\n",
    "\n",
    "Parameters:\n",
    "- `query`: the partial or full ingredient name.\n",
    "- `number`: the number of expected results (between 1 and 100).\n",
    "\n",
    "Necessary steps:\n",
    "- Search ingredients\n",
    "- Get ingredient ID\n",
    "- Get ingredient info\n",
    "- Create df of ingredient info\n",
    "- Add ingredient info df to recipe df\n",
    "- Extract specific data needed for evaluation"
   ]
  },
  {
   "cell_type": "code",
   "execution_count": 6,
   "metadata": {},
   "outputs": [
    {
     "data": {
      "text/plain": [
       "{'results': [{'id': 20081, 'name': 'allpurpose flour', 'image': 'flour.png'},\n",
       "  {'id': 20581, 'name': 'unbleached all purpose flour', 'image': 'flour.png'},\n",
       "  {'id': 93620,\n",
       "   'name': 'gluten free all purpose flour',\n",
       "   'image': 'gluten-free-flour.jpg'}],\n",
       " 'offset': 0,\n",
       " 'number': 20,\n",
       " 'totalResults': 3}"
      ]
     },
     "execution_count": 6,
     "metadata": {},
     "output_type": "execute_result"
    }
   ],
   "source": [
    "# Ingredient Search endpoint\n",
    "search_ing_url = spoon_url + '/food/ingredients/search?query='\n",
    "\n",
    "# Function that takes in an ingredient and returns up to 20 matches\n",
    "# Example request: https://api.spoonacular.com/food/ingredients/search?query=banana&number=2&sort=calories&sortDirection=desc\n",
    "def search_ing(ing):\n",
    "    return requests.get(search_ing_url + ing + '&number=20' + key_url).json()\n",
    "\n",
    "ing_search = search_ing('all purpose flour')\n",
    "ing_search"
   ]
  },
  {
   "cell_type": "code",
   "execution_count": 7,
   "metadata": {},
   "outputs": [
    {
     "data": {
      "text/plain": [
       "[{'id': 20081, 'name': 'allpurpose flour', 'image': 'flour.png'},\n",
       " {'id': 20581, 'name': 'unbleached all purpose flour', 'image': 'flour.png'},\n",
       " {'id': 93620,\n",
       "  'name': 'gluten free all purpose flour',\n",
       "  'image': 'gluten-free-flour.jpg'}]"
      ]
     },
     "execution_count": 7,
     "metadata": {},
     "output_type": "execute_result"
    }
   ],
   "source": [
    "# Get results from `ing_search`\n",
    "ing_result = ing_search['results']\n",
    "ing_result"
   ]
  },
  {
   "cell_type": "code",
   "execution_count": 8,
   "metadata": {},
   "outputs": [
    {
     "data": {
      "text/plain": [
       "{'id': 20081, 'name': 'allpurpose flour', 'image': 'flour.png'}"
      ]
     },
     "execution_count": 8,
     "metadata": {},
     "output_type": "execute_result"
    }
   ],
   "source": [
    "# Select first result\n",
    "ing_result[0]"
   ]
  },
  {
   "cell_type": "code",
   "execution_count": 9,
   "metadata": {},
   "outputs": [
    {
     "data": {
      "text/html": [
       "<div>\n",
       "<style scoped>\n",
       "    .dataframe tbody tr th:only-of-type {\n",
       "        vertical-align: middle;\n",
       "    }\n",
       "\n",
       "    .dataframe tbody tr th {\n",
       "        vertical-align: top;\n",
       "    }\n",
       "\n",
       "    .dataframe thead th {\n",
       "        text-align: right;\n",
       "    }\n",
       "</style>\n",
       "<table border=\"1\" class=\"dataframe\">\n",
       "  <thead>\n",
       "    <tr style=\"text-align: right;\">\n",
       "      <th></th>\n",
       "      <th>id</th>\n",
       "      <th>name</th>\n",
       "    </tr>\n",
       "  </thead>\n",
       "  <tbody>\n",
       "    <tr>\n",
       "      <th>0</th>\n",
       "      <td>20081</td>\n",
       "      <td>allpurpose flour</td>\n",
       "    </tr>\n",
       "  </tbody>\n",
       "</table>\n",
       "</div>"
      ],
      "text/plain": [
       "      id              name\n",
       "0  20081  allpurpose flour"
      ]
     },
     "execution_count": 9,
     "metadata": {},
     "output_type": "execute_result"
    }
   ],
   "source": [
    "# Create df from results, dropping 'image' column\n",
    "ing_df = pd.DataFrame(ing_result[0], index=[0]).drop(columns='image')\n",
    "ing_df"
   ]
  },
  {
   "cell_type": "code",
   "execution_count": 10,
   "metadata": {},
   "outputs": [
    {
     "name": "stdout",
     "output_type": "stream",
     "text": [
      "0    20081\n",
      "Name: id, dtype: int64\n",
      "\n",
      "id                 20081\n",
      "name    allpurpose flour\n",
      "Name: 0, dtype: object\n",
      "\n",
      "id                 20081\n",
      "name    allpurpose flour\n",
      "Name: 0, dtype: object\n",
      "\n"
     ]
    },
    {
     "data": {
      "text/plain": [
       "20081"
      ]
     },
     "execution_count": 10,
     "metadata": {},
     "output_type": "execute_result"
    }
   ],
   "source": [
    "# Get ingredient `id`\n",
    "print(ing_df['id'])\n",
    "print()\n",
    "print(ing_df.loc[0])\n",
    "print()\n",
    "print(ing_df.iloc[0])\n",
    "print()\n",
    "\n",
    "ing_id = ing_df.iloc[0]['id']\n",
    "ing_id"
   ]
  },
  {
   "cell_type": "code",
   "execution_count": 11,
   "metadata": {},
   "outputs": [
    {
     "name": "stdout",
     "output_type": "stream",
     "text": [
      "Match for all purpose flour:\n",
      "{'id': 20081, 'name': 'allpurpose flour', 'image': 'flour.png'}\n"
     ]
    },
    {
     "data": {
      "text/plain": [
       "20081"
      ]
     },
     "execution_count": 11,
     "metadata": {},
     "output_type": "execute_result"
    }
   ],
   "source": [
    "# Function to get ingredient `id`\n",
    "def get_ing_id(ing):\n",
    "    ingredient = search_ing(ing)['results'][0]\n",
    "    print(f\"Match for {ing}:\")\n",
    "    print(ingredient)\n",
    "\n",
    "    ing_id = ingredient['id']\n",
    "    return ing_id\n",
    "\n",
    "get_ing_id('all purpose flour')"
   ]
  },
  {
   "cell_type": "markdown",
   "metadata": {},
   "source": [
    "### [Get Ingredient Information](https://spoonacular.com/food-api/docs#Get-Ingredient-Information)\n",
    "Use an ingredient id to get all available information about an ingredient, such as its image and supermarket aisle.\n",
    "\n",
    "Calling this endpoint requires `1 point`.\n",
    "\n",
    "Parameters:\n",
    "- `id`: the ingredient ID#\n",
    "- `amount`: the amount of this ingredient\n",
    "- `unit`: the unit of measure for the given amount (e.g. grams)"
   ]
  },
  {
   "cell_type": "code",
   "execution_count": 12,
   "metadata": {},
   "outputs": [
    {
     "name": "stdout",
     "output_type": "stream",
     "text": [
      "Match for all purpose flour:\n",
      "{'id': 20081, 'name': 'allpurpose flour', 'image': 'flour.png'}\n"
     ]
    },
    {
     "data": {
      "text/plain": [
       "{'id': 20081,\n",
       " 'original': 'wheat flour',\n",
       " 'originalName': 'wheat flour',\n",
       " 'name': 'wheat flour',\n",
       " 'amount': 250.0,\n",
       " 'unit': 'g',\n",
       " 'unitShort': 'g',\n",
       " 'unitLong': 'grams',\n",
       " 'possibleUnits': ['g', 'oz', 'teaspoon', 'cup', 'serving', 'tablespoon'],\n",
       " 'estimatedCost': {'value': 33.33, 'unit': 'US Cents'},\n",
       " 'consistency': 'solid',\n",
       " 'shoppingListUnits': ['ounces'],\n",
       " 'aisle': 'Baking',\n",
       " 'image': 'flour.png',\n",
       " 'meta': [],\n",
       " 'nutrition': {'nutrients': [{'title': 'Cholesterol',\n",
       "    'name': 'Cholesterol',\n",
       "    'amount': 0.0,\n",
       "    'unit': 'mg'},\n",
       "   {'title': 'Vitamin K', 'name': 'Vitamin K', 'amount': 0.75, 'unit': 'µg'},\n",
       "   {'title': 'Calories', 'name': 'Calories', 'amount': 910.0, 'unit': 'kcal'},\n",
       "   {'title': 'Caffeine', 'name': 'Caffeine', 'amount': 0.0, 'unit': 'mg'},\n",
       "   {'title': 'Zinc', 'name': 'Zinc', 'amount': 1.75, 'unit': 'mg'},\n",
       "   {'title': 'Vitamin B12',\n",
       "    'name': 'Vitamin B12',\n",
       "    'amount': 0.0,\n",
       "    'unit': 'µg'},\n",
       "   {'title': 'Choline', 'name': 'Choline', 'amount': 26.0, 'unit': 'mg'},\n",
       "   {'title': 'Saturated Fat',\n",
       "    'name': 'Saturated Fat',\n",
       "    'amount': 0.39,\n",
       "    'unit': 'g'},\n",
       "   {'title': 'Vitamin B3',\n",
       "    'name': 'Vitamin B3',\n",
       "    'amount': 14.76,\n",
       "    'unit': 'mg'},\n",
       "   {'title': 'Sugar', 'name': 'Sugar', 'amount': 0.68, 'unit': 'g'},\n",
       "   {'title': 'Manganese', 'name': 'Manganese', 'amount': 1.71, 'unit': 'mg'},\n",
       "   {'title': 'Vitamin C', 'name': 'Vitamin C', 'amount': 0.0, 'unit': 'mg'},\n",
       "   {'title': 'Protein', 'name': 'Protein', 'amount': 25.83, 'unit': 'g'},\n",
       "   {'title': 'Fiber', 'name': 'Fiber', 'amount': 6.75, 'unit': 'g'},\n",
       "   {'title': 'Net Carbohydrates',\n",
       "    'name': 'Net Carbohydrates',\n",
       "    'amount': 184.03,\n",
       "    'unit': 'g'},\n",
       "   {'title': 'Folic Acid',\n",
       "    'name': 'Folic Acid',\n",
       "    'amount': 385.0,\n",
       "    'unit': 'µg'},\n",
       "   {'title': 'Iron', 'name': 'Iron', 'amount': 11.6, 'unit': 'mg'},\n",
       "   {'title': 'Magnesium', 'name': 'Magnesium', 'amount': 55.0, 'unit': 'mg'},\n",
       "   {'title': 'Carbohydrates',\n",
       "    'name': 'Carbohydrates',\n",
       "    'amount': 190.78,\n",
       "    'unit': 'g'},\n",
       "   {'title': 'Folate', 'name': 'Folate', 'amount': 457.5, 'unit': 'µg'},\n",
       "   {'title': 'Vitamin B2', 'name': 'Vitamin B2', 'amount': 1.24, 'unit': 'mg'},\n",
       "   {'title': 'Alcohol', 'name': 'Alcohol', 'amount': 0.0, 'unit': 'g'},\n",
       "   {'title': 'Calcium', 'name': 'Calcium', 'amount': 37.5, 'unit': 'mg'},\n",
       "   {'title': 'Fat', 'name': 'Fat', 'amount': 2.45, 'unit': 'g'},\n",
       "   {'title': 'Vitamin A', 'name': 'Vitamin A', 'amount': 0.0, 'unit': 'IU'},\n",
       "   {'title': 'Vitamin B6', 'name': 'Vitamin B6', 'amount': 0.11, 'unit': 'mg'},\n",
       "   {'title': 'Mono Unsaturated Fat',\n",
       "    'name': 'Mono Unsaturated Fat',\n",
       "    'amount': 0.22,\n",
       "    'unit': 'g'},\n",
       "   {'title': 'Poly Unsaturated Fat',\n",
       "    'name': 'Poly Unsaturated Fat',\n",
       "    'amount': 1.03,\n",
       "    'unit': 'g'},\n",
       "   {'title': 'Vitamin E', 'name': 'Vitamin E', 'amount': 0.15, 'unit': 'mg'},\n",
       "   {'title': 'Potassium', 'name': 'Potassium', 'amount': 267.5, 'unit': 'mg'},\n",
       "   {'title': 'Selenium', 'name': 'Selenium', 'amount': 84.75, 'unit': 'µg'},\n",
       "   {'title': 'Sodium', 'name': 'Sodium', 'amount': 5.0, 'unit': 'mg'},\n",
       "   {'title': 'Copper', 'name': 'Copper', 'amount': 0.36, 'unit': 'mg'},\n",
       "   {'title': 'Vitamin D', 'name': 'Vitamin D', 'amount': 0.0, 'unit': 'µg'},\n",
       "   {'title': 'Vitamin B5', 'name': 'Vitamin B5', 'amount': 1.1, 'unit': 'mg'},\n",
       "   {'title': 'Phosphorus',\n",
       "    'name': 'Phosphorus',\n",
       "    'amount': 270.0,\n",
       "    'unit': 'mg'},\n",
       "   {'title': 'Vitamin B1',\n",
       "    'name': 'Vitamin B1',\n",
       "    'amount': 1.96,\n",
       "    'unit': 'mg'}],\n",
       "  'properties': [{'name': 'Glycemic Index',\n",
       "    'title': 'Glycemic Index',\n",
       "    'amount': 75.0,\n",
       "    'unit': ''},\n",
       "   {'name': 'Glycemic Load',\n",
       "    'title': 'Glycemic Load',\n",
       "    'amount': 138.02,\n",
       "    'unit': ''}],\n",
       "  'flavonoids': [{'name': 'Cyanidin',\n",
       "    'title': 'Cyanidin',\n",
       "    'amount': 0.0,\n",
       "    'unit': ''},\n",
       "   {'name': 'Petunidin', 'title': 'Petunidin', 'amount': 0.0, 'unit': ''},\n",
       "   {'name': 'Delphinidin', 'title': 'Delphinidin', 'amount': 0.0, 'unit': ''},\n",
       "   {'name': 'Malvidin', 'title': 'Malvidin', 'amount': 0.0, 'unit': ''},\n",
       "   {'name': 'Pelargonidin',\n",
       "    'title': 'Pelargonidin',\n",
       "    'amount': 0.0,\n",
       "    'unit': ''},\n",
       "   {'name': 'Peonidin', 'title': 'Peonidin', 'amount': 0.0, 'unit': ''},\n",
       "   {'name': 'Catechin', 'title': 'Catechin', 'amount': 0.0, 'unit': ''},\n",
       "   {'name': 'Epigallocatechin',\n",
       "    'title': 'Epigallocatechin',\n",
       "    'amount': 0.0,\n",
       "    'unit': ''},\n",
       "   {'name': 'Epicatechin', 'title': 'Epicatechin', 'amount': 0.0, 'unit': ''},\n",
       "   {'name': 'Epicatechin 3-gallate',\n",
       "    'title': 'Epicatechin 3-gallate',\n",
       "    'amount': 0.0,\n",
       "    'unit': ''},\n",
       "   {'name': 'Epigallocatechin 3-gallate',\n",
       "    'title': 'Epigallocatechin 3-gallate',\n",
       "    'amount': 0.0,\n",
       "    'unit': ''},\n",
       "   {'name': 'Theaflavin', 'title': 'Theaflavin', 'amount': 0.0, 'unit': ''},\n",
       "   {'name': 'Thearubigins',\n",
       "    'title': 'Thearubigins',\n",
       "    'amount': 0.0,\n",
       "    'unit': ''},\n",
       "   {'name': 'Eriodictyol', 'title': 'Eriodictyol', 'amount': 0.0, 'unit': ''},\n",
       "   {'name': 'Hesperetin', 'title': 'Hesperetin', 'amount': 0.0, 'unit': ''},\n",
       "   {'name': 'Naringenin', 'title': 'Naringenin', 'amount': 0.0, 'unit': ''},\n",
       "   {'name': 'Apigenin', 'title': 'Apigenin', 'amount': 0.0, 'unit': ''},\n",
       "   {'name': 'Luteolin', 'title': 'Luteolin', 'amount': 0.0, 'unit': ''},\n",
       "   {'name': 'Isorhamnetin',\n",
       "    'title': 'Isorhamnetin',\n",
       "    'amount': 0.0,\n",
       "    'unit': ''},\n",
       "   {'name': 'Kaempferol', 'title': 'Kaempferol', 'amount': 0.0, 'unit': ''},\n",
       "   {'name': 'Myricetin', 'title': 'Myricetin', 'amount': 0.0, 'unit': ''},\n",
       "   {'name': 'Quercetin', 'title': 'Quercetin', 'amount': 0.0, 'unit': ''},\n",
       "   {'name': \"Theaflavin-3,3'-digallate\",\n",
       "    'title': \"Theaflavin-3,3'-digallate\",\n",
       "    'amount': 0.0,\n",
       "    'unit': ''},\n",
       "   {'name': \"Theaflavin-3'-gallate\",\n",
       "    'title': \"Theaflavin-3'-gallate\",\n",
       "    'amount': 0.0,\n",
       "    'unit': ''},\n",
       "   {'name': 'Theaflavin-3-gallate',\n",
       "    'title': 'Theaflavin-3-gallate',\n",
       "    'amount': 0.0,\n",
       "    'unit': ''},\n",
       "   {'name': 'Gallocatechin',\n",
       "    'title': 'Gallocatechin',\n",
       "    'amount': 0.0,\n",
       "    'unit': ''}],\n",
       "  'caloricBreakdown': {'percentProtein': 11.63,\n",
       "   'percentFat': 2.48,\n",
       "   'percentCarbs': 85.89},\n",
       "  'weightPerServing': {'amount': 250, 'unit': 'g'}},\n",
       " 'categoryPath': ['flour product']}"
      ]
     },
     "execution_count": 12,
     "metadata": {},
     "output_type": "execute_result"
    }
   ],
   "source": [
    "# Get ingredient information\n",
    "def get_ing_info(ing, ing_amount, unit):\n",
    "        ing_id = get_ing_id(ing)\n",
    "        return requests.get(f\"{spoon_url}/food/ingredients/{ing_id}/information?amount={ing_amount}&unit={unit}{key_url}\").json()\n",
    "\n",
    "get_ing_info('all purpose flour', 250, 'g')"
   ]
  },
  {
   "cell_type": "code",
   "execution_count": 13,
   "metadata": {},
   "outputs": [
    {
     "name": "stdout",
     "output_type": "stream",
     "text": [
      "Match for all purpose flour:\n",
      "{'id': 20081, 'name': 'allpurpose flour', 'image': 'flour.png'}\n"
     ]
    },
    {
     "data": {
      "text/html": [
       "<div>\n",
       "<style scoped>\n",
       "    .dataframe tbody tr th:only-of-type {\n",
       "        vertical-align: middle;\n",
       "    }\n",
       "\n",
       "    .dataframe tbody tr th {\n",
       "        vertical-align: top;\n",
       "    }\n",
       "\n",
       "    .dataframe thead tr th {\n",
       "        text-align: left;\n",
       "    }\n",
       "</style>\n",
       "<table border=\"1\" class=\"dataframe\">\n",
       "  <thead>\n",
       "    <tr>\n",
       "      <th></th>\n",
       "      <th>ID</th>\n",
       "      <th>Ingredient_Name</th>\n",
       "      <th>Recipe_Qty</th>\n",
       "      <th>Recipe_Unit</th>\n",
       "      <th>Recipe_Cost_Per_Unit_$</th>\n",
       "    </tr>\n",
       "  </thead>\n",
       "  <tbody>\n",
       "    <tr>\n",
       "      <th>0</th>\n",
       "      <td>20081</td>\n",
       "      <td>wheat flour</td>\n",
       "      <td>1.0</td>\n",
       "      <td>c</td>\n",
       "      <td>0.17</td>\n",
       "    </tr>\n",
       "  </tbody>\n",
       "</table>\n",
       "</div>"
      ],
      "text/plain": [
       "      ID Ingredient_Name Recipe_Qty Recipe_Unit Recipe_Cost_Per_Unit_$\n",
       "0  20081     wheat flour        1.0           c                   0.17"
      ]
     },
     "execution_count": 13,
     "metadata": {},
     "output_type": "execute_result"
    }
   ],
   "source": [
    "# Create df from ingredient info\n",
    "def ing_info_to_df(ing, ing_amount, unit):\n",
    "    ing_info = get_ing_info(ing, ing_amount, unit)\n",
    "    df = pd.json_normalize(ing_info)[['id','name','amount','unit','estimatedCost.value']]\n",
    "    df['estimatedCost.value'] = (df['estimatedCost.value'] / 100).round(2)\n",
    "    df.columns = [['ID','Ingredient_Name','Recipe_Qty','Recipe_Unit','Recipe_Cost_Per_Unit_$']]\n",
    "    return df\n",
    "\n",
    "# ing_info_to_df('all purpose flour', 16, 'tbsp')     # 16 Tbsp = 1c\n",
    "ing_info_to_df('all purpose flour', 1, 'c')"
   ]
  },
  {
   "cell_type": "markdown",
   "metadata": {},
   "source": [
    "#### Tests"
   ]
  },
  {
   "cell_type": "code",
   "execution_count": 14,
   "metadata": {},
   "outputs": [
    {
     "name": "stdout",
     "output_type": "stream",
     "text": [
      "Match for milk chocolate chips:\n",
      "{'id': 10099278, 'name': 'milk chocolate chips', 'image': 'chocolate-chips.jpg'}\n"
     ]
    },
    {
     "data": {
      "text/plain": [
       "{'id': 10099278,\n",
       " 'original': 'milk chocolate morsels',\n",
       " 'originalName': 'milk chocolate morsels',\n",
       " 'name': 'milk chocolate morsels',\n",
       " 'amount': 200.0,\n",
       " 'unit': 'g',\n",
       " 'unitShort': 'g',\n",
       " 'unitLong': 'grams',\n",
       " 'possibleUnits': ['g', 'oz'],\n",
       " 'estimatedCost': {'value': 135.71, 'unit': 'US Cents'},\n",
       " 'consistency': 'solid',\n",
       " 'aisle': 'Baking',\n",
       " 'image': 'chocolate-chips.jpg',\n",
       " 'meta': [],\n",
       " 'nutrition': {'nutrients': [{'title': 'Cholesterol',\n",
       "    'name': 'Cholesterol',\n",
       "    'amount': 28.26,\n",
       "    'unit': 'mg'},\n",
       "   {'title': 'Vitamin K', 'name': 'Vitamin K', 'amount': 0.0, 'unit': 'µg'},\n",
       "   {'title': 'Calories', 'name': 'Calories', 'amount': 494.7, 'unit': 'kcal'},\n",
       "   {'title': 'Caffeine', 'name': 'Caffeine', 'amount': 0.0, 'unit': 'mg'},\n",
       "   {'title': 'Zinc', 'name': 'Zinc', 'amount': 0.0, 'unit': 'mg'},\n",
       "   {'title': 'Vitamin B12',\n",
       "    'name': 'Vitamin B12',\n",
       "    'amount': 0.0,\n",
       "    'unit': 'µg'},\n",
       "   {'title': 'Saturated Fat',\n",
       "    'name': 'Saturated Fat',\n",
       "    'amount': 17.66,\n",
       "    'unit': 'g'},\n",
       "   {'title': 'Vitamin B3', 'name': 'Vitamin B3', 'amount': 0.0, 'unit': 'mg'},\n",
       "   {'title': 'Sugar', 'name': 'Sugar', 'amount': 56.54, 'unit': 'g'},\n",
       "   {'title': 'Manganese', 'name': 'Manganese', 'amount': 0.0, 'unit': 'mg'},\n",
       "   {'title': 'Fluoride', 'name': 'Fluoride', 'amount': 0.0, 'unit': 'mg'},\n",
       "   {'title': 'Vitamin C', 'name': 'Vitamin C', 'amount': 0.0, 'unit': 'mg'},\n",
       "   {'title': 'Protein', 'name': 'Protein', 'amount': 0.0, 'unit': 'g'},\n",
       "   {'title': 'Fiber', 'name': 'Fiber', 'amount': 0.0, 'unit': 'g'},\n",
       "   {'title': 'Net Carbohydrates',\n",
       "    'name': 'Net Carbohydrates',\n",
       "    'amount': 63.6,\n",
       "    'unit': 'g'},\n",
       "   {'title': 'Iron', 'name': 'Iron', 'amount': 0.0, 'unit': 'mg'},\n",
       "   {'title': 'Magnesium', 'name': 'Magnesium', 'amount': 0.0, 'unit': 'mg'},\n",
       "   {'title': 'Carbohydrates',\n",
       "    'name': 'Carbohydrates',\n",
       "    'amount': 63.6,\n",
       "    'unit': 'g'},\n",
       "   {'title': 'Folate', 'name': 'Folate', 'amount': 0.0, 'unit': 'µg'},\n",
       "   {'title': 'Vitamin B2', 'name': 'Vitamin B2', 'amount': 0.0, 'unit': 'mg'},\n",
       "   {'title': 'Alcohol', 'name': 'Alcohol', 'amount': 0.0, 'unit': 'g'},\n",
       "   {'title': 'Trans Fat', 'name': 'Trans Fat', 'amount': 0.0, 'unit': 'g'},\n",
       "   {'title': 'Calcium', 'name': 'Calcium', 'amount': 0.0, 'unit': 'mg'},\n",
       "   {'title': 'Fat', 'name': 'Fat', 'amount': 28.26, 'unit': 'g'},\n",
       "   {'title': 'Vitamin A', 'name': 'Vitamin A', 'amount': 0.0, 'unit': 'IU'},\n",
       "   {'title': 'Vitamin B6', 'name': 'Vitamin B6', 'amount': 0.0, 'unit': 'mg'},\n",
       "   {'title': 'Mono Unsaturated Fat',\n",
       "    'name': 'Mono Unsaturated Fat',\n",
       "    'amount': 0.0,\n",
       "    'unit': 'g'},\n",
       "   {'title': 'Poly Unsaturated Fat',\n",
       "    'name': 'Poly Unsaturated Fat',\n",
       "    'amount': 0.0,\n",
       "    'unit': 'g'},\n",
       "   {'title': 'Vitamin E', 'name': 'Vitamin E', 'amount': 0.0, 'unit': 'mg'},\n",
       "   {'title': 'Potassium', 'name': 'Potassium', 'amount': 0.0, 'unit': 'mg'},\n",
       "   {'title': 'Selenium', 'name': 'Selenium', 'amount': 0.0, 'unit': 'µg'},\n",
       "   {'title': 'Sodium', 'name': 'Sodium', 'amount': 35.34, 'unit': 'mg'},\n",
       "   {'title': 'Copper', 'name': 'Copper', 'amount': 0.0, 'unit': 'mg'},\n",
       "   {'title': 'Vitamin D', 'name': 'Vitamin D', 'amount': 0.0, 'unit': 'µg'},\n",
       "   {'title': 'Vitamin B5', 'name': 'Vitamin B5', 'amount': 0.0, 'unit': 'mg'},\n",
       "   {'title': 'Phosphorus', 'name': 'Phosphorus', 'amount': 0.0, 'unit': 'mg'},\n",
       "   {'title': 'Vitamin B1', 'name': 'Vitamin B1', 'amount': 0.0, 'unit': 'mg'}],\n",
       "  'properties': [{'name': 'Glycemic Index',\n",
       "    'title': 'Glycemic Index',\n",
       "    'amount': 0.0,\n",
       "    'unit': ''},\n",
       "   {'name': 'Glycemic Load',\n",
       "    'title': 'Glycemic Load',\n",
       "    'amount': 0.0,\n",
       "    'unit': ''}],\n",
       "  'flavonoids': [{'name': 'Cyanidin',\n",
       "    'title': 'Cyanidin',\n",
       "    'amount': 0.0,\n",
       "    'unit': ''},\n",
       "   {'name': 'Petunidin', 'title': 'Petunidin', 'amount': 0.0, 'unit': ''},\n",
       "   {'name': 'Delphinidin', 'title': 'Delphinidin', 'amount': 0.0, 'unit': ''},\n",
       "   {'name': 'Malvidin', 'title': 'Malvidin', 'amount': 0.0, 'unit': ''},\n",
       "   {'name': 'Pelargonidin',\n",
       "    'title': 'Pelargonidin',\n",
       "    'amount': 0.0,\n",
       "    'unit': ''},\n",
       "   {'name': 'Peonidin', 'title': 'Peonidin', 'amount': 0.0, 'unit': ''},\n",
       "   {'name': 'Catechin', 'title': 'Catechin', 'amount': 0.0, 'unit': ''},\n",
       "   {'name': 'Epigallocatechin',\n",
       "    'title': 'Epigallocatechin',\n",
       "    'amount': 0.0,\n",
       "    'unit': ''},\n",
       "   {'name': 'Epicatechin', 'title': 'Epicatechin', 'amount': 0.0, 'unit': ''},\n",
       "   {'name': 'Epicatechin 3-gallate',\n",
       "    'title': 'Epicatechin 3-gallate',\n",
       "    'amount': 0.0,\n",
       "    'unit': ''},\n",
       "   {'name': 'Epigallocatechin 3-gallate',\n",
       "    'title': 'Epigallocatechin 3-gallate',\n",
       "    'amount': 0.0,\n",
       "    'unit': ''},\n",
       "   {'name': 'Theaflavin', 'title': 'Theaflavin', 'amount': 0.0, 'unit': ''},\n",
       "   {'name': 'Thearubigins',\n",
       "    'title': 'Thearubigins',\n",
       "    'amount': 0.0,\n",
       "    'unit': ''},\n",
       "   {'name': 'Eriodictyol', 'title': 'Eriodictyol', 'amount': 0.0, 'unit': ''},\n",
       "   {'name': 'Hesperetin', 'title': 'Hesperetin', 'amount': 0.0, 'unit': ''},\n",
       "   {'name': 'Naringenin', 'title': 'Naringenin', 'amount': 0.0, 'unit': ''},\n",
       "   {'name': 'Apigenin', 'title': 'Apigenin', 'amount': 0.0, 'unit': ''},\n",
       "   {'name': 'Luteolin', 'title': 'Luteolin', 'amount': 0.0, 'unit': ''},\n",
       "   {'name': 'Isorhamnetin',\n",
       "    'title': 'Isorhamnetin',\n",
       "    'amount': 0.0,\n",
       "    'unit': ''},\n",
       "   {'name': 'Kaempferol', 'title': 'Kaempferol', 'amount': 0.0, 'unit': ''},\n",
       "   {'name': 'Myricetin', 'title': 'Myricetin', 'amount': 0.0, 'unit': ''},\n",
       "   {'name': 'Quercetin', 'title': 'Quercetin', 'amount': 0.0, 'unit': ''},\n",
       "   {'name': \"Theaflavin-3,3'-digallate\",\n",
       "    'title': \"Theaflavin-3,3'-digallate\",\n",
       "    'amount': 0.0,\n",
       "    'unit': ''},\n",
       "   {'name': \"Theaflavin-3'-gallate\",\n",
       "    'title': \"Theaflavin-3'-gallate\",\n",
       "    'amount': 0.0,\n",
       "    'unit': ''},\n",
       "   {'name': 'Theaflavin-3-gallate',\n",
       "    'title': 'Theaflavin-3-gallate',\n",
       "    'amount': 0.0,\n",
       "    'unit': ''},\n",
       "   {'name': 'Gallocatechin',\n",
       "    'title': 'Gallocatechin',\n",
       "    'amount': 0.0,\n",
       "    'unit': ''}],\n",
       "  'caloricBreakdown': {'percentProtein': 0.0,\n",
       "   'percentFat': 49.99,\n",
       "   'percentCarbs': 50.01},\n",
       "  'weightPerServing': {'amount': 200, 'unit': 'g'}},\n",
       " 'categoryPath': ['chocolate chips', 'baking pieces']}"
      ]
     },
     "execution_count": 14,
     "metadata": {},
     "output_type": "execute_result"
    }
   ],
   "source": [
    "# Test of get_ing_info()\n",
    "test_chocolate = get_ing_info('milk chocolate chips',200,'g')\n",
    "test_chocolate"
   ]
  },
  {
   "cell_type": "code",
   "execution_count": 15,
   "metadata": {},
   "outputs": [
    {
     "name": "stdout",
     "output_type": "stream",
     "text": [
      "Match for milk chocolate chips:\n",
      "{'id': 10099278, 'name': 'milk chocolate chips', 'image': 'chocolate-chips.jpg'}\n"
     ]
    },
    {
     "data": {
      "text/html": [
       "<div>\n",
       "<style scoped>\n",
       "    .dataframe tbody tr th:only-of-type {\n",
       "        vertical-align: middle;\n",
       "    }\n",
       "\n",
       "    .dataframe tbody tr th {\n",
       "        vertical-align: top;\n",
       "    }\n",
       "\n",
       "    .dataframe thead tr th {\n",
       "        text-align: left;\n",
       "    }\n",
       "</style>\n",
       "<table border=\"1\" class=\"dataframe\">\n",
       "  <thead>\n",
       "    <tr>\n",
       "      <th></th>\n",
       "      <th>ID</th>\n",
       "      <th>Ingredient_Name</th>\n",
       "      <th>Recipe_Qty</th>\n",
       "      <th>Recipe_Unit</th>\n",
       "      <th>Recipe_Cost_Per_Unit_$</th>\n",
       "    </tr>\n",
       "  </thead>\n",
       "  <tbody>\n",
       "    <tr>\n",
       "      <th>0</th>\n",
       "      <td>10099278</td>\n",
       "      <td>milk chocolate morsels</td>\n",
       "      <td>200.0</td>\n",
       "      <td>g</td>\n",
       "      <td>1.36</td>\n",
       "    </tr>\n",
       "  </tbody>\n",
       "</table>\n",
       "</div>"
      ],
      "text/plain": [
       "         ID         Ingredient_Name Recipe_Qty Recipe_Unit  \\\n",
       "0  10099278  milk chocolate morsels      200.0           g   \n",
       "\n",
       "  Recipe_Cost_Per_Unit_$  \n",
       "0                   1.36  "
      ]
     },
     "execution_count": 15,
     "metadata": {},
     "output_type": "execute_result"
    }
   ],
   "source": [
    "ing_info_to_df('milk chocolate chips',200,'g')"
   ]
  },
  {
   "cell_type": "code",
   "execution_count": 16,
   "metadata": {},
   "outputs": [
    {
     "name": "stdout",
     "output_type": "stream",
     "text": [
      "135.71 US Cents\n"
     ]
    },
    {
     "data": {
      "text/html": [
       "<div>\n",
       "<style scoped>\n",
       "    .dataframe tbody tr th:only-of-type {\n",
       "        vertical-align: middle;\n",
       "    }\n",
       "\n",
       "    .dataframe tbody tr th {\n",
       "        vertical-align: top;\n",
       "    }\n",
       "\n",
       "    .dataframe thead th {\n",
       "        text-align: right;\n",
       "    }\n",
       "</style>\n",
       "<table border=\"1\" class=\"dataframe\">\n",
       "  <thead>\n",
       "    <tr style=\"text-align: right;\">\n",
       "      <th></th>\n",
       "      <th>id</th>\n",
       "      <th>name</th>\n",
       "      <th>amount</th>\n",
       "      <th>unit</th>\n",
       "      <th>possibleUnits</th>\n",
       "      <th>estimatedCost.value</th>\n",
       "      <th>estimatedCost.unit</th>\n",
       "    </tr>\n",
       "  </thead>\n",
       "  <tbody>\n",
       "    <tr>\n",
       "      <th>0</th>\n",
       "      <td>10099278</td>\n",
       "      <td>milk chocolate morsels</td>\n",
       "      <td>200.0</td>\n",
       "      <td>g</td>\n",
       "      <td>[g, oz]</td>\n",
       "      <td>135.71</td>\n",
       "      <td>US Cents</td>\n",
       "    </tr>\n",
       "  </tbody>\n",
       "</table>\n",
       "</div>"
      ],
      "text/plain": [
       "         id                    name  amount unit possibleUnits  \\\n",
       "0  10099278  milk chocolate morsels   200.0    g       [g, oz]   \n",
       "\n",
       "   estimatedCost.value estimatedCost.unit  \n",
       "0               135.71           US Cents  "
      ]
     },
     "execution_count": 16,
     "metadata": {},
     "output_type": "execute_result"
    }
   ],
   "source": [
    "# Extracting desired data from ingredient info\n",
    "print(f\"{test_chocolate['estimatedCost']['value']} {test_chocolate['estimatedCost']['unit']}\")\n",
    "pd.json_normalize(test_chocolate)[['id','name','amount','unit','possibleUnits','estimatedCost.value','estimatedCost.unit']]"
   ]
  },
  {
   "cell_type": "code",
   "execution_count": 17,
   "metadata": {},
   "outputs": [
    {
     "name": "stdout",
     "output_type": "stream",
     "text": [
      "Match for milk chocolate chips:\n",
      "{'id': 10099278, 'name': 'milk chocolate chips', 'image': 'chocolate-chips.jpg'}\n"
     ]
    },
    {
     "data": {
      "text/html": [
       "<div>\n",
       "<style scoped>\n",
       "    .dataframe tbody tr th:only-of-type {\n",
       "        vertical-align: middle;\n",
       "    }\n",
       "\n",
       "    .dataframe tbody tr th {\n",
       "        vertical-align: top;\n",
       "    }\n",
       "\n",
       "    .dataframe thead tr th {\n",
       "        text-align: left;\n",
       "    }\n",
       "</style>\n",
       "<table border=\"1\" class=\"dataframe\">\n",
       "  <thead>\n",
       "    <tr>\n",
       "      <th></th>\n",
       "      <th>ID</th>\n",
       "      <th>Ingredient_Name</th>\n",
       "      <th>Recipe_Qty</th>\n",
       "      <th>Recipe_Unit</th>\n",
       "      <th>Recipe_Cost_Per_Unit_$</th>\n",
       "    </tr>\n",
       "  </thead>\n",
       "  <tbody>\n",
       "    <tr>\n",
       "      <th>0</th>\n",
       "      <td>10099278</td>\n",
       "      <td>milk chocolate morsels</td>\n",
       "      <td>200.0</td>\n",
       "      <td>g</td>\n",
       "      <td>1.36</td>\n",
       "    </tr>\n",
       "  </tbody>\n",
       "</table>\n",
       "</div>"
      ],
      "text/plain": [
       "         ID         Ingredient_Name Recipe_Qty Recipe_Unit  \\\n",
       "0  10099278  milk chocolate morsels      200.0           g   \n",
       "\n",
       "  Recipe_Cost_Per_Unit_$  \n",
       "0                   1.36  "
      ]
     },
     "execution_count": 17,
     "metadata": {},
     "output_type": "execute_result"
    }
   ],
   "source": [
    "# Test of ing_info_to_df()\n",
    "ing_info_to_df('milk chocolate chips','200','g')"
   ]
  },
  {
   "cell_type": "markdown",
   "metadata": {},
   "source": [
    "### [Convert Amounts](https://spoonacular.com/food-api/docs#Convert-Amounts)\n",
    "Convert unit measurements like \"2.5 cups of flour to grams\".\n",
    "\n",
    "Parameters:\n",
    "- `ingredientName`: the ingredient to convert.\n",
    "- `sourceAmount`: the original amount you're converting **<u>from</u>** (e.g. the \"2.5\" in \"2.5 cups of flour to grams\").\n",
    "- `sourceUnit`: the original unit of measure you're converting **<u>from</u>** (e.g. the \"cups\" in \"2.5 cups of flour to grams\").\n",
    "- `targetUnit`: the new unit of measure you're converting **<u>to</u>** (e.g. the \"grams\" in \"2.5 cups of flour to grams\")."
   ]
  },
  {
   "cell_type": "code",
   "execution_count": 18,
   "metadata": {},
   "outputs": [
    {
     "data": {
      "text/plain": [
       "{'sourceAmount': 2.5,\n",
       " 'sourceUnit': 'cups',\n",
       " 'targetAmount': 312.5,\n",
       " 'targetUnit': 'grams',\n",
       " 'answer': '2.5 cups flour translates to 312.5 grams.',\n",
       " 'type': 'CONVERSION'}"
      ]
     },
     "execution_count": 18,
     "metadata": {},
     "output_type": "execute_result"
    }
   ],
   "source": [
    "# Function to convert an ingredient's unit of measure\n",
    "# Example request: https://api.spoonacular.com/recipes/convert?ingredientName=flour&sourceAmount=2.5&sourceUnit=cups&targetUnit=grams\n",
    "def convert(ing, sourceAmount, sourceUnit, targetUnit):\n",
    "    return requests.get(f\"{spoon_url}/recipes/convert?ingredientName={ing}&sourceAmount={str(sourceAmount)}&sourceUnit={sourceUnit}&targetUnit={targetUnit}{key_url}\").json()\n",
    "\n",
    "convert('flour', 2.5, 'cups', 'grams')"
   ]
  },
  {
   "cell_type": "code",
   "execution_count": 19,
   "metadata": {},
   "outputs": [
    {
     "name": "stdout",
     "output_type": "stream",
     "text": [
      "2.5 cups\n",
      "312.5 grams\n"
     ]
    }
   ],
   "source": [
    "# Test convert() function and separating data\n",
    "test_convert = convert('flour', 2.5, 'cups', 'grams')\n",
    "print(f\"{test_convert['sourceAmount']} {test_convert['sourceUnit']}\")\n",
    "print(f\"{test_convert['targetAmount']} {test_convert['targetUnit']}\")"
   ]
  },
  {
   "cell_type": "code",
   "execution_count": 20,
   "metadata": {},
   "outputs": [
    {
     "data": {
      "text/html": [
       "<div>\n",
       "<style scoped>\n",
       "    .dataframe tbody tr th:only-of-type {\n",
       "        vertical-align: middle;\n",
       "    }\n",
       "\n",
       "    .dataframe tbody tr th {\n",
       "        vertical-align: top;\n",
       "    }\n",
       "\n",
       "    .dataframe thead th {\n",
       "        text-align: right;\n",
       "    }\n",
       "</style>\n",
       "<table border=\"1\" class=\"dataframe\">\n",
       "  <thead>\n",
       "    <tr style=\"text-align: right;\">\n",
       "      <th></th>\n",
       "      <th>sourceAmount</th>\n",
       "      <th>sourceUnit</th>\n",
       "      <th>targetAmount</th>\n",
       "      <th>targetUnit</th>\n",
       "    </tr>\n",
       "  </thead>\n",
       "  <tbody>\n",
       "    <tr>\n",
       "      <th>0</th>\n",
       "      <td>2.5</td>\n",
       "      <td>cups</td>\n",
       "      <td>312.5</td>\n",
       "      <td>grams</td>\n",
       "    </tr>\n",
       "  </tbody>\n",
       "</table>\n",
       "</div>"
      ],
      "text/plain": [
       "   sourceAmount sourceUnit  targetAmount targetUnit\n",
       "0           2.5       cups         312.5      grams"
      ]
     },
     "execution_count": 20,
     "metadata": {},
     "output_type": "execute_result"
    }
   ],
   "source": [
    "# Create a DataFrame from the convert() json data\n",
    "test_df = pd.json_normalize(test_convert).drop(columns=['answer','type'])\n",
    "test_df"
   ]
  },
  {
   "cell_type": "markdown",
   "metadata": {},
   "source": [
    "### Other Endpoints"
   ]
  },
  {
   "cell_type": "code",
   "execution_count": 21,
   "metadata": {},
   "outputs": [],
   "source": [
    "# # Ingredients endpoints\n",
    "# search_ingredient = spoon_url + '/food/ingredients/search?query='\n",
    "\n",
    "# # Products endpoints\n",
    "# products = spoon_url + '/food/products'\n",
    "\n",
    "# # Menu Items endpoints\n",
    "# menu_item = spoon_url + '/food/menuItems'\n",
    "\n",
    "# # Meal Planner endpoints\n",
    "# meal_plan = spoon_url + '/mealplanner'\n",
    "\n",
    "# # Wine endpoints\n",
    "# wine = spoon_url + '/food/wine'\n",
    "\n",
    "# # Detect Food in Text endpoint\n",
    "# detect = spoon_url + '/food/detect'"
   ]
  },
  {
   "cell_type": "code",
   "execution_count": 22,
   "metadata": {},
   "outputs": [],
   "source": [
    "# Get ID from search results\n"
   ]
  },
  {
   "cell_type": "code",
   "execution_count": 23,
   "metadata": {},
   "outputs": [],
   "source": [
    "# # Dictionary containing endpoints\n",
    "# ends = {\n",
    "#     'recipes': '/recipes/complexSearch?',\n",
    "#     'ingredient': '/food/ingredients?',\n",
    "#     'products': '/food/products?',\n",
    "#     'menu_items': '/food/menuItems?',\n",
    "#     'meal_plan': '/mealplanner?',\n",
    "#     'wine': '/food/wine?',\n",
    "#     'detect': '/food/detect?',\n",
    "# }\n",
    "\n",
    "# def search(endpoint, query_item):\n",
    "#     # user_ends = input(\"Select endpoint: \")\n",
    "#     search_url = f\"{spoon_url}{ends[endpoint]}query={query_item}{key_url}\"\n",
    "#     print(search_url)"
   ]
  },
  {
   "cell_type": "code",
   "execution_count": 24,
   "metadata": {},
   "outputs": [],
   "source": [
    "# search(\"recipes\", \"mango\")"
   ]
  },
  {
   "cell_type": "code",
   "execution_count": 25,
   "metadata": {},
   "outputs": [],
   "source": [
    "# search_ing + 'banana' + api_key + '?format=json'\n",
    "# requests.get(z)\n",
    "# y = search_ing + 'mango' + api_key #+ '?format=json'\n",
    "# print(y)\n",
    "# requests.get(y)"
   ]
  },
  {
   "cell_type": "code",
   "execution_count": 26,
   "metadata": {},
   "outputs": [],
   "source": [
    "# z = search_ing + '/search?' + api_key + '&query=mango'\n",
    "# print(z)\n",
    "# requests.get(z)"
   ]
  },
  {
   "cell_type": "code",
   "execution_count": 27,
   "metadata": {},
   "outputs": [],
   "source": [
    "# def find_ing(ing):\n",
    "#     search_ing + ing + api_key\n",
    "# find_ing(\"banana\")"
   ]
  },
  {
   "cell_type": "code",
   "execution_count": 28,
   "metadata": {},
   "outputs": [
    {
     "data": {
      "text/plain": [
       "{<Response [404]>}"
      ]
     },
     "execution_count": 28,
     "metadata": {},
     "output_type": "execute_result"
    }
   ],
   "source": [
    "request = requests.get(spoon_url, params={\n",
    "    'grant_type': 'client_credentials',\n",
    "    'client_id': spoon_key,\n",
    "})\n",
    "{request}"
   ]
  },
  {
   "cell_type": "code",
   "execution_count": 29,
   "metadata": {},
   "outputs": [],
   "source": [
    "# request = requests.post(spoon_url + '?apiKey=' + spoon_key, {\n",
    "#     'grant_type': 'client_credentials',\n",
    "#     'client_id': api_key,\n",
    "# })"
   ]
  },
  {
   "cell_type": "code",
   "execution_count": 30,
   "metadata": {},
   "outputs": [],
   "source": [
    "# recipe_id = ''\n",
    "# ingredient = ''\n",
    "# x = ''\n",
    "# class spoon:\n",
    "#     class recipes():\n",
    "#         recipes = api + 'recipes/'\n",
    "#         search = recipes + 'complexSearch/'\n",
    "#         price = recipes + recipe_id + 'priceBreakdownWidget.json'\n",
    "#         ingredients = recipes + recipe_id + 'ingredientWidget.json'\n",
    "#         nutrition = recipes + recipe_id + 'nutritionWidget.json'\n",
    "#     class ingredient(x):\n",
    "#         ingredient = api + 'food/ingredients/'\n",
    "#         search = ingredient + 'search?query=' + x"
   ]
  },
  {
   "cell_type": "markdown",
   "metadata": {},
   "source": [
    "# Google Sheets API\n",
    "[Google Sheets for Developers: Sheets API](https://developers.google.com/sheets/api/reference/rest)\n",
    "\n",
    "`gcloud_key`, `gcloud_oauth_key`, `gcloud_oauth_secret`"
   ]
  },
  {
   "cell_type": "markdown",
   "metadata": {},
   "source": [
    "## Google API Client Library"
   ]
  },
  {
   "cell_type": "markdown",
   "metadata": {},
   "source": [
    "OAuth scopes:\n",
    "- https://www.googleapis.com/auth/drive\n",
    "- https://www.googleapis.com/auth/drive.readonly\n",
    "- https://www.googleapis.com/auth/drive.file\n",
    "- https://www.googleapis.com/auth/spreadsheets\n",
    "- https://www.googleapis.com/auth/spreadsheets.readonly"
   ]
  },
  {
   "cell_type": "code",
   "execution_count": 31,
   "metadata": {},
   "outputs": [],
   "source": [
    "# Google Client Library Installation\n",
    "# \\!pip install --upgrade google-api-python-client\n",
    "\n",
    "# Imports for Google Cloud\n",
    "# from googleapiclient import discovery\n",
    "# from oauth2client.client import OAuth2Credentials as creds\n",
    "# crm = discovery.build(\n",
    "#     'cloudresourcemanager', 'v3', http=creds.authorize(httplib2.Http()))\n",
    "\n",
    "# project = crm.projects().get(projectId=flags.projectId).execute()"
   ]
  },
  {
   "cell_type": "code",
   "execution_count": 32,
   "metadata": {},
   "outputs": [
    {
     "name": "stdout",
     "output_type": "stream",
     "text": [
      "Name, Major:\n",
      "Alexandra, English\n",
      "Andrew, Math\n",
      "Anna, English\n",
      "Becky, Art\n",
      "Benjamin, English\n",
      "Carl, Art\n",
      "Carrie, English\n",
      "Dorothy, Math\n",
      "Dylan, Math\n",
      "Edward, English\n",
      "Ellen, Physics\n",
      "Fiona, Art\n",
      "John, Physics\n",
      "Jonathan, Math\n",
      "Joseph, English\n",
      "Josephine, Math\n",
      "Karen, English\n",
      "Kevin, Physics\n",
      "Lisa, Art\n",
      "Mary, Physics\n",
      "Maureen, Physics\n",
      "Nick, Art\n",
      "Olivia, Physics\n",
      "Pamela, Math\n",
      "Patrick, Art\n",
      "Robert, English\n",
      "Sean, Physics\n",
      "Stacy, Math\n",
      "Thomas, Art\n",
      "Will, Math\n"
     ]
    }
   ],
   "source": [
    "# Sample script from Google API documentation\n",
    "from __future__ import print_function\n",
    "import os.path\n",
    "from googleapiclient.discovery import build\n",
    "from google_auth_oauthlib.flow import InstalledAppFlow\n",
    "from google.auth.transport.requests import Request\n",
    "from google.oauth2.credentials import Credentials\n",
    "\n",
    "# If modifying these scopes, delete the file token.json.\n",
    "SCOPES = ['https://www.googleapis.com/auth/spreadsheets.readonly']\n",
    "\n",
    "# The ID and range of a sample spreadsheet.\n",
    "SAMPLE_SPREADSHEET_ID = '1BxiMVs0XRA5nFMdKvBdBZjgmUUqptlbs74OgvE2upms'\n",
    "SAMPLE_RANGE_NAME = 'Class Data!A2:E'\n",
    "\n",
    "def main():\n",
    "    \"\"\"Shows basic usage of the Sheets API.\n",
    "    Prints values from a sample spreadsheet.\n",
    "    \"\"\"\n",
    "    creds = None\n",
    "    # The file token.json stores the user's access and refresh tokens, and is\n",
    "    # created automatically when the authorization flow completes for the first\n",
    "    # time.\n",
    "    if os.path.exists('token.json'):\n",
    "        creds = Credentials.from_authorized_user_file('token.json', SCOPES)\n",
    "    # If there are no (valid) credentials available, let the user log in.\n",
    "    if not creds or not creds.valid:\n",
    "        if creds and creds.expired and creds.refresh_token:\n",
    "            creds.refresh(Request())\n",
    "        else:\n",
    "            flow = InstalledAppFlow.from_client_secrets_file(\n",
    "                'credentials.json', SCOPES)\n",
    "            creds = flow.run_local_server(port=0)\n",
    "        # Save the credentials for the next run\n",
    "        with open('token.json', 'w') as token:\n",
    "            token.write(creds.to_json())\n",
    "\n",
    "    service = build('sheets', 'v4', credentials=creds)\n",
    "\n",
    "    # Call the Sheets API\n",
    "    sheet = service.spreadsheets()\n",
    "    result = sheet.values().get(spreadsheetId=SAMPLE_SPREADSHEET_ID,\n",
    "                                range=SAMPLE_RANGE_NAME).execute()\n",
    "    values = result.get('values', [])\n",
    "\n",
    "    if not values:\n",
    "        print('No data found.')\n",
    "    else:\n",
    "        print('Name, Major:')\n",
    "        for row in values:\n",
    "            # Print columns A and E, which correspond to indices 0 and 4.\n",
    "            print('%s, %s' % (row[0], row[4]))\n",
    "\n",
    "if __name__ == '__main__':\n",
    "    main()"
   ]
  },
  {
   "cell_type": "code",
   "execution_count": 33,
   "metadata": {},
   "outputs": [],
   "source": [
    "# # Google Sheets service endpoint for HTTP requests\n",
    "# # https://developers.google.com/sheets/api/reference/rest/v4/spreadsheets/get\n",
    "# sheets_url = 'https://sheets.googleapis.com/v4/spreadsheets/'\n",
    "# sheet_id = '1-WrIRryaOObpAzJNzRKtc0lsdhDhkaVJRT7xyPN4coU'\n",
    "# requests_url = f\"{sheets_url}{sheet_id}?key={gcloud_key}\"\n",
    "# credentials = ['https://www.googleapis.com/auth/drive','https://www.googleapis.com/auth/spreadsheets']\n",
    "# service = discovery.build('sheets', 'v4')#, credentials=credentials)\n",
    "# ranges = ['A1:H28']\n",
    "# include_grid_data = True\n",
    "# requests = service.spreadsheets().get(\n",
    "#     spreadsheetId=sheet_id,\n",
    "#     ranges=ranges,\n",
    "#     includeGridData=include_grid_data\n",
    "#     )\n",
    "# response = request.execute()\n",
    "# pprint(response)"
   ]
  },
  {
   "cell_type": "code",
   "execution_count": 34,
   "metadata": {},
   "outputs": [],
   "source": [
    "# r = requests.get(requests_url, params={\n",
    "#     'client_id': gcloud_oauth_key,\n",
    "#     'client_secret': gcloud_oauth_secret,\n",
    "# })\n",
    "# r.json()"
   ]
  },
  {
   "cell_type": "code",
   "execution_count": 35,
   "metadata": {},
   "outputs": [],
   "source": [
    "# def request(url):\n",
    "#     r = requests.get(url)\n",
    "#     return r.json()\n",
    "# request(requests_url)"
   ]
  },
  {
   "cell_type": "code",
   "execution_count": 36,
   "metadata": {},
   "outputs": [],
   "source": [
    "# print(f\"{sheets_url}{sheet_id}/values:batchGet?key={gcloud_key}\")"
   ]
  },
  {
   "cell_type": "code",
   "execution_count": 37,
   "metadata": {},
   "outputs": [],
   "source": [
    "# request(f\"{sheets_url}{sheet_id}/values:batchGet?key={gcloud_key}\")"
   ]
  },
  {
   "cell_type": "code",
   "execution_count": 38,
   "metadata": {},
   "outputs": [],
   "source": [
    "# def req():\n",
    "#     r = requests.get(\n",
    "#         sheets_url,\n",
    "#         headers = {\n",
    "#             'Authorization': 'Bearer {gcloud_key}'.format(token=)},\n",
    "#     )\n",
    "#     return r.json()\n",
    "\n",
    "# req()"
   ]
  },
  {
   "cell_type": "code",
   "execution_count": 39,
   "metadata": {},
   "outputs": [],
   "source": [
    "# https://developers.google.com/sheets/api/reference/rest/v4/ValueRenderOption"
   ]
  },
  {
   "cell_type": "markdown",
   "metadata": {},
   "source": [
    "## GSpread\n",
    "[Read and Update Google Spreadsheets with Python!](https://www.analyticsvidhya.com/blog/2020/07/read-and-update-google-spreadsheets-with-python/)\n",
    "\n",
    "[GSpread User Guide](https://github.com/burnash/gspread/blob/6d01d7b5bb79601d0eece20255eabed9d13aa5bf/docs/user-guide.rst)\n",
    "\n",
    "[Authentication](https://github.com/burnash/gspread/blob/6d01d7b5bb79601d0eece20255eabed9d13aa5bf/docs/oauth2.rst)\n",
    "\n",
    "[User Guide](https://github.com/burnash/gspread/blob/6d01d7b5bb79601d0eece20255eabed9d13aa5bf/docs/user-guide.rst)"
   ]
  },
  {
   "cell_type": "markdown",
   "metadata": {},
   "source": [
    "### Methods"
   ]
  },
  {
   "cell_type": "markdown",
   "metadata": {},
   "source": [
    "1. Opening a Spreadsheet\n",
    "- a. by title:\n",
    "    - `sh = gc.open('My poor gym results')`\n",
    "- b. by key: \n",
    "    - `sht1 = gc.open_by_key('0BmgG6nO_6dprdS1MN3d3MkdPa142WFRrdnRRUWl1UFE')`\n",
    "- c. by URL:\n",
    "    - `sht2 = gc.open_by_url('https://docs.google.com/spreadsheet/ccc?key=0Bm...FE&hl')`\n",
    "\n",
    "2. Creating a Spreadsheet\n",
    "If you're using a `service account`, this new spreadsheet will be visible only to this account. To be able to access newly created spreadsheet from Google Sheets with your own Google account you must share it with your email. See how to share a spreadsheet in the section below.\n",
    "- `sh = gc.create('A new spreadsheet')`\n",
    "\n",
    "3. Sharing a Spreadsheet\n",
    "- `sh.share('email@host.com', perm_type='user', role='writer')`\n",
    "\n",
    "4. Selecting a Worksheet\n",
    "- a. by index, starting from zero:\n",
    "    - `worksheet = sh.get_worksheet(0)`\n",
    "- b. by title:\n",
    "    - `worksheet = sh.worksheet(\"January\")`\n",
    "- c. by the most common case: *Sheet1*:\n",
    "    - `worksheet = sh.sheet1`\n",
    "- Get a list of all worksheets:\n",
    "    - `worksheet_list = sh.worksheets()`\n",
    "\n",
    "5. Creating a Worksheet\n",
    "- `worksheet = sh.add_worksheet(title=\"A worksheet\", rows=\"100\", cols=\"20\")`\n",
    "\n",
    "6. Deleting a Worksheet\n",
    "- `sh.del_worksheet(worksheet)`\n",
    "\n",
    "7. Getting a Cell Value\n",
    "- a. Using A1 notation:\n",
    "    - `val = worksheet.acell('B1').value`\n",
    "- b. By row and column coordinates:\n",
    "    - `val = worksheet.cell(1, 2).value`\n",
    "- To get a cell formula:\n",
    "    - `cell = worksheet.acell('B1', value_render_option='FORMULA').value`\n",
    "    - OR\n",
    "    - `cell = worksheet.cell(1, 2, value_render_option='FORMULA').value`\n"
   ]
  },
  {
   "cell_type": "markdown",
   "metadata": {},
   "source": [
    "### Define Scopes and Add Credentials"
   ]
  },
  {
   "cell_type": "code",
   "execution_count": 49,
   "metadata": {},
   "outputs": [],
   "source": [
    "# Scopes for Google APIs\n",
    "scope = [\n",
    "    'https://www.googleapis.com/auth/drive',\n",
    "    'https://www.googleapis.com/auth/documents'\n",
    "    'https://spreadsheets.google.com/feeds',\n",
    "    \n",
    "]\n",
    "\n",
    "# Account credentials\n",
    "creds = ServiceAccountCredentials.from_json_keyfile_name('easy-as-py-service-account.json')\n",
    "\n",
    "# Authorize clientsheet\n",
    "client = gspread.authorize(creds)"
   ]
  },
  {
   "cell_type": "markdown",
   "metadata": {},
   "source": [
    "### Open Spreadsheet and Sheet (Tab)"
   ]
  },
  {
   "cell_type": "code",
   "execution_count": 41,
   "metadata": {},
   "outputs": [],
   "source": [
    "# Get instance of 'Cost Cheesecake' spreadsheet using its title\n",
    "costing_sheet = client.open('Cheesecake Cost')\n",
    "\n",
    "# Get second sheet from spreadsheet using its index number\n",
    "costing_instance = costing_sheet.get_worksheet(1)"
   ]
  },
  {
   "cell_type": "markdown",
   "metadata": {},
   "source": [
    "### Data Exploration"
   ]
  },
  {
   "cell_type": "code",
   "execution_count": 42,
   "metadata": {},
   "outputs": [
    {
     "name": "stdout",
     "output_type": "stream",
     "text": [
      "Number of columns: 26\n"
     ]
    },
    {
     "data": {
      "text/plain": [
       "<Cell R13C8 None>"
      ]
     },
     "execution_count": 42,
     "metadata": {},
     "output_type": "execute_result"
    }
   ],
   "source": [
    "# Get total number of columns\n",
    "print(f\"Number of columns: {costing_instance.col_count}\")\n",
    "\n",
    "# Get value in 'Ingredient_Cost_Total' cell\n",
    "costing_instance.cell(col=8,row=13)"
   ]
  },
  {
   "cell_type": "code",
   "execution_count": 43,
   "metadata": {},
   "outputs": [
    {
     "data": {
      "text/plain": [
       "[{'Item_Name': 'Cheesecake New York',\n",
       "  'Menu_Category': 'Dessert',\n",
       "  'Recipe_Yield': '',\n",
       "  'Menu_Sale_Price': '',\n",
       "  'Total_Recipe_Cost': '',\n",
       "  'Food_Cost_Percentage': '',\n",
       "  'Individual_Portion_Cost': '',\n",
       "  'Total_Recipe_Sales': '',\n",
       "  'Profit_Margin': ''}]"
      ]
     },
     "execution_count": 43,
     "metadata": {},
     "output_type": "execute_result"
    }
   ],
   "source": [
    "# Get all records in the data\n",
    "records_data = costing_instance.get_all_records()\n",
    "\n",
    "# View data\n",
    "records_data"
   ]
  },
  {
   "cell_type": "code",
   "execution_count": 44,
   "metadata": {},
   "outputs": [
    {
     "data": {
      "text/html": [
       "<div>\n",
       "<style scoped>\n",
       "    .dataframe tbody tr th:only-of-type {\n",
       "        vertical-align: middle;\n",
       "    }\n",
       "\n",
       "    .dataframe tbody tr th {\n",
       "        vertical-align: top;\n",
       "    }\n",
       "\n",
       "    .dataframe thead th {\n",
       "        text-align: right;\n",
       "    }\n",
       "</style>\n",
       "<table border=\"1\" class=\"dataframe\">\n",
       "  <thead>\n",
       "    <tr style=\"text-align: right;\">\n",
       "      <th></th>\n",
       "      <th>Item_Name</th>\n",
       "      <th>Menu_Category</th>\n",
       "      <th>Recipe_Yield</th>\n",
       "      <th>Menu_Sale_Price</th>\n",
       "      <th>Total_Recipe_Cost</th>\n",
       "      <th>Food_Cost_Percentage</th>\n",
       "      <th>Individual_Portion_Cost</th>\n",
       "      <th>Total_Recipe_Sales</th>\n",
       "      <th>Profit_Margin</th>\n",
       "    </tr>\n",
       "  </thead>\n",
       "  <tbody>\n",
       "    <tr>\n",
       "      <th>0</th>\n",
       "      <td>Cheesecake New York</td>\n",
       "      <td>Dessert</td>\n",
       "      <td></td>\n",
       "      <td></td>\n",
       "      <td></td>\n",
       "      <td></td>\n",
       "      <td></td>\n",
       "      <td></td>\n",
       "      <td></td>\n",
       "    </tr>\n",
       "  </tbody>\n",
       "</table>\n",
       "</div>"
      ],
      "text/plain": [
       "             Item_Name Menu_Category Recipe_Yield Menu_Sale_Price  \\\n",
       "0  Cheesecake New York       Dessert                                \n",
       "\n",
       "  Total_Recipe_Cost Food_Cost_Percentage Individual_Portion_Cost  \\\n",
       "0                                                                  \n",
       "\n",
       "  Total_Recipe_Sales Profit_Margin  \n",
       "0                                   "
      ]
     },
     "execution_count": 44,
     "metadata": {},
     "output_type": "execute_result"
    }
   ],
   "source": [
    "# Convert json to df\n",
    "records_df = pd.DataFrame.from_dict(records_data)\n",
    "\n",
    "# View top records\n",
    "records_df"
   ]
  },
  {
   "cell_type": "markdown",
   "metadata": {},
   "source": [
    "### Defining Functions"
   ]
  },
  {
   "cell_type": "code",
   "execution_count": 45,
   "metadata": {},
   "outputs": [
    {
     "name": "stdout",
     "output_type": "stream",
     "text": [
      "1\n",
      "1\n"
     ]
    }
   ],
   "source": [
    "# Function to get instance of spreadsheet\n",
    "def open_spreadsheet(title):\n",
    "    return client.open(title)\n",
    "\n",
    "# Nested function to get specific sheet (tab) from spreadsheet instance\n",
    "def open_sheet(title, tab_index):\n",
    "    sheet = open_spreadsheet(title)\n",
    "    return sheet.get_worksheet(tab_index)\n",
    "\n",
    "# Use `for loop` to convert letters to numbers\n",
    "def letter_to_num(column):\n",
    "    number = ord(column.lower()) - 96\n",
    "    return number\n",
    "print(letter_to_num('A'))\n",
    "print(letter_to_num('a'))\n",
    "\n",
    "def get_all_records(sheet):\n",
    "    data = {sheet}.get_all_records()\n",
    "    return data\n",
    "\n",
    "# Function to get specific cell\n",
    "def get_cell(sheet, column, row):\n",
    "    col = letter_to_num(column)\n",
    "    return sheet.cell(col=col,row=row)"
   ]
  },
  {
   "cell_type": "markdown",
   "metadata": {},
   "source": [
    "### Test Functions with New Sheet"
   ]
  },
  {
   "cell_type": "code",
   "execution_count": 46,
   "metadata": {},
   "outputs": [
    {
     "data": {
      "text/plain": [
       "<Worksheet 'Menu Engineering' id:1614991599>"
      ]
     },
     "execution_count": 46,
     "metadata": {},
     "output_type": "execute_result"
    }
   ],
   "source": [
    "# Open specified sheet from spreadsheet\n",
    "engineering_sheet = open_sheet('Menu Engineering', 1)\n",
    "engineering_sheet"
   ]
  },
  {
   "cell_type": "code",
   "execution_count": 47,
   "metadata": {},
   "outputs": [
    {
     "ename": "NameError",
     "evalue": "name 'chatter' is not defined",
     "output_type": "error",
     "traceback": [
      "\u001b[1;31m---------------------------------------------------------------------------\u001b[0m",
      "\u001b[1;31mNameError\u001b[0m                                 Traceback (most recent call last)",
      "\u001b[1;32m~\\AppData\\Local\\Temp/ipykernel_35208/1547016884.py\u001b[0m in \u001b[0;36m<module>\u001b[1;34m\u001b[0m\n\u001b[0;32m      1\u001b[0m \u001b[1;31m# Get column count and specified cell data\u001b[0m\u001b[1;33m\u001b[0m\u001b[1;33m\u001b[0m\u001b[1;33m\u001b[0m\u001b[0m\n\u001b[1;32m----> 2\u001b[1;33m \u001b[0mchatter\u001b[0m\u001b[1;33m(\u001b[0m\u001b[1;34mf\"Number of columns: {engineering_sheet.col_count}\"\u001b[0m\u001b[1;33m)\u001b[0m\u001b[1;33m\u001b[0m\u001b[1;33m\u001b[0m\u001b[0m\n\u001b[0m\u001b[0;32m      3\u001b[0m \u001b[0mchatter\u001b[0m\u001b[1;33m(\u001b[0m\u001b[1;34mf\"{get_cell(engineering_sheet, 'B', 31)}\"\u001b[0m\u001b[1;33m)\u001b[0m\u001b[1;33m\u001b[0m\u001b[1;33m\u001b[0m\u001b[0m\n\u001b[0;32m      4\u001b[0m \u001b[0mchatter\u001b[0m\u001b[1;33m(\u001b[0m\u001b[1;34mf\"{get_cell(engineering_sheet, 'h', 31)}\"\u001b[0m\u001b[1;33m)\u001b[0m\u001b[1;33m\u001b[0m\u001b[1;33m\u001b[0m\u001b[0m\n",
      "\u001b[1;31mNameError\u001b[0m: name 'chatter' is not defined"
     ]
    }
   ],
   "source": [
    "# Get column count and specified cell data\n",
    "chatter(f\"Number of columns: {engineering_sheet.col_count}\")\n",
    "chatter(f\"{get_cell(engineering_sheet, 'B', 31)}\")\n",
    "chatter(f\"{get_cell(engineering_sheet, 'h', 31)}\")"
   ]
  },
  {
   "cell_type": "code",
   "execution_count": null,
   "metadata": {},
   "outputs": [
    {
     "data": {
      "text/plain": [
       "[{'Item_Name': 'Cheesecake',\n",
       "  'Item_Sold': 60,\n",
       "  'Menu_Cat': 'Dessert',\n",
       "  'Sales_Mix_%': 48.0,\n",
       "  'Menu_Sale_Price_$': 7.0,\n",
       "  'Food_Cost_$': 1.1,\n",
       "  'CM_$': 5.9,\n",
       "  'Total_Sales_$': 420.0,\n",
       "  'Total_Costs_$': 66.0,\n",
       "  'Total_CM_$': 354.0,\n",
       "  'CM_%': 54.7,\n",
       "  'Sales_Mix_Cat': 'H',\n",
       "  'CM_Cat': 'H'},\n",
       " {'Item_Name': 'Apple Pie',\n",
       "  'Item_Sold': 20,\n",
       "  'Menu_Cat': 'Dessert',\n",
       "  'Sales_Mix_%': 16.0,\n",
       "  'Menu_Sale_Price_$': 6.0,\n",
       "  'Food_Cost_$': 1.25,\n",
       "  'CM_$': 4.75,\n",
       "  'Total_Sales_$': 120.0,\n",
       "  'Total_Costs_$': 25.0,\n",
       "  'Total_CM_$': 95.0,\n",
       "  'CM_%': 14.7,\n",
       "  'Sales_Mix_Cat': 'L',\n",
       "  'CM_Cat': 'H'},\n",
       " {'Item_Name': 'Tiramisu',\n",
       "  'Item_Sold': 30,\n",
       "  'Menu_Cat': 'Dessert',\n",
       "  'Sales_Mix_%': 24.0,\n",
       "  'Menu_Sale_Price_$': 8.0,\n",
       "  'Food_Cost_$': 3.0,\n",
       "  'CM_$': 5.0,\n",
       "  'Total_Sales_$': 240.0,\n",
       "  'Total_Costs_$': 90.0,\n",
       "  'Total_CM_$': 150.0,\n",
       "  'CM_%': 23.2,\n",
       "  'Sales_Mix_Cat': 'H',\n",
       "  'CM_Cat': 'H'},\n",
       " {'Item_Name': 'Cupcake',\n",
       "  'Item_Sold': 15,\n",
       "  'Menu_Cat': 'Dessert',\n",
       "  'Sales_Mix_%': 12.0,\n",
       "  'Menu_Sale_Price_$': 4.0,\n",
       "  'Food_Cost_$': 0.75,\n",
       "  'CM_$': 3.25,\n",
       "  'Total_Sales_$': 60.0,\n",
       "  'Total_Costs_$': 11.25,\n",
       "  'Total_CM_$': 48.75,\n",
       "  'CM_%': 7.5,\n",
       "  'Sales_Mix_Cat': 'L',\n",
       "  'CM_Cat': 'L'},\n",
       " {'Item_Name': '',\n",
       "  'Item_Sold': '',\n",
       "  'Menu_Cat': '',\n",
       "  'Sales_Mix_%': 0.0,\n",
       "  'Menu_Sale_Price_$': '',\n",
       "  'Food_Cost_$': '',\n",
       "  'CM_$': 0.0,\n",
       "  'Total_Sales_$': 0.0,\n",
       "  'Total_Costs_$': 0.0,\n",
       "  'Total_CM_$': 0.0,\n",
       "  'CM_%': 0.0,\n",
       "  'Sales_Mix_Cat': 'N/A',\n",
       "  'CM_Cat': 'N/A'},\n",
       " {'Item_Name': '',\n",
       "  'Item_Sold': '',\n",
       "  'Menu_Cat': '',\n",
       "  'Sales_Mix_%': 0.0,\n",
       "  'Menu_Sale_Price_$': '',\n",
       "  'Food_Cost_$': '',\n",
       "  'CM_$': 0.0,\n",
       "  'Total_Sales_$': 0.0,\n",
       "  'Total_Costs_$': 0.0,\n",
       "  'Total_CM_$': 0.0,\n",
       "  'CM_%': 0.0,\n",
       "  'Sales_Mix_Cat': 'N/A',\n",
       "  'CM_Cat': 'N/A'},\n",
       " {'Item_Name': '',\n",
       "  'Item_Sold': '',\n",
       "  'Menu_Cat': '',\n",
       "  'Sales_Mix_%': 0.0,\n",
       "  'Menu_Sale_Price_$': '',\n",
       "  'Food_Cost_$': '',\n",
       "  'CM_$': 0.0,\n",
       "  'Total_Sales_$': 0.0,\n",
       "  'Total_Costs_$': 0.0,\n",
       "  'Total_CM_$': 0.0,\n",
       "  'CM_%': 0.0,\n",
       "  'Sales_Mix_Cat': 'N/A',\n",
       "  'CM_Cat': 'N/A'},\n",
       " {'Item_Name': '',\n",
       "  'Item_Sold': '',\n",
       "  'Menu_Cat': '',\n",
       "  'Sales_Mix_%': 0.0,\n",
       "  'Menu_Sale_Price_$': '',\n",
       "  'Food_Cost_$': '',\n",
       "  'CM_$': 0.0,\n",
       "  'Total_Sales_$': 0.0,\n",
       "  'Total_Costs_$': 0.0,\n",
       "  'Total_CM_$': 0.0,\n",
       "  'CM_%': 0.0,\n",
       "  'Sales_Mix_Cat': 'N/A',\n",
       "  'CM_Cat': 'N/A'},\n",
       " {'Item_Name': '',\n",
       "  'Item_Sold': '',\n",
       "  'Menu_Cat': '',\n",
       "  'Sales_Mix_%': 0.0,\n",
       "  'Menu_Sale_Price_$': '',\n",
       "  'Food_Cost_$': '',\n",
       "  'CM_$': 0.0,\n",
       "  'Total_Sales_$': 0.0,\n",
       "  'Total_Costs_$': 0.0,\n",
       "  'Total_CM_$': 0.0,\n",
       "  'CM_%': 0.0,\n",
       "  'Sales_Mix_Cat': 'N/A',\n",
       "  'CM_Cat': 'N/A'},\n",
       " {'Item_Name': '',\n",
       "  'Item_Sold': '',\n",
       "  'Menu_Cat': '',\n",
       "  'Sales_Mix_%': 0.0,\n",
       "  'Menu_Sale_Price_$': '',\n",
       "  'Food_Cost_$': '',\n",
       "  'CM_$': 0.0,\n",
       "  'Total_Sales_$': 0.0,\n",
       "  'Total_Costs_$': 0.0,\n",
       "  'Total_CM_$': 0.0,\n",
       "  'CM_%': 0.0,\n",
       "  'Sales_Mix_Cat': 'N/A',\n",
       "  'CM_Cat': 'N/A'},\n",
       " {'Item_Name': '',\n",
       "  'Item_Sold': '',\n",
       "  'Menu_Cat': '',\n",
       "  'Sales_Mix_%': 0.0,\n",
       "  'Menu_Sale_Price_$': '',\n",
       "  'Food_Cost_$': '',\n",
       "  'CM_$': 0.0,\n",
       "  'Total_Sales_$': 0.0,\n",
       "  'Total_Costs_$': 0.0,\n",
       "  'Total_CM_$': 0.0,\n",
       "  'CM_%': 0.0,\n",
       "  'Sales_Mix_Cat': 'N/A',\n",
       "  'CM_Cat': 'N/A'},\n",
       " {'Item_Name': '',\n",
       "  'Item_Sold': '',\n",
       "  'Menu_Cat': '',\n",
       "  'Sales_Mix_%': 0.0,\n",
       "  'Menu_Sale_Price_$': '',\n",
       "  'Food_Cost_$': '',\n",
       "  'CM_$': 0.0,\n",
       "  'Total_Sales_$': 0.0,\n",
       "  'Total_Costs_$': 0.0,\n",
       "  'Total_CM_$': 0.0,\n",
       "  'CM_%': 0.0,\n",
       "  'Sales_Mix_Cat': 'N/A',\n",
       "  'CM_Cat': 'N/A'},\n",
       " {'Item_Name': '',\n",
       "  'Item_Sold': '',\n",
       "  'Menu_Cat': '',\n",
       "  'Sales_Mix_%': 0.0,\n",
       "  'Menu_Sale_Price_$': '',\n",
       "  'Food_Cost_$': '',\n",
       "  'CM_$': 0.0,\n",
       "  'Total_Sales_$': 0.0,\n",
       "  'Total_Costs_$': 0.0,\n",
       "  'Total_CM_$': 0.0,\n",
       "  'CM_%': 0.0,\n",
       "  'Sales_Mix_Cat': 'N/A',\n",
       "  'CM_Cat': 'N/A'},\n",
       " {'Item_Name': '',\n",
       "  'Item_Sold': '',\n",
       "  'Menu_Cat': '',\n",
       "  'Sales_Mix_%': 0.0,\n",
       "  'Menu_Sale_Price_$': '',\n",
       "  'Food_Cost_$': '',\n",
       "  'CM_$': 0.0,\n",
       "  'Total_Sales_$': 0.0,\n",
       "  'Total_Costs_$': 0.0,\n",
       "  'Total_CM_$': 0.0,\n",
       "  'CM_%': 0.0,\n",
       "  'Sales_Mix_Cat': 'N/A',\n",
       "  'CM_Cat': 'N/A'},\n",
       " {'Item_Name': '',\n",
       "  'Item_Sold': '',\n",
       "  'Menu_Cat': '',\n",
       "  'Sales_Mix_%': 0.0,\n",
       "  'Menu_Sale_Price_$': '',\n",
       "  'Food_Cost_$': '',\n",
       "  'CM_$': 0.0,\n",
       "  'Total_Sales_$': 0.0,\n",
       "  'Total_Costs_$': 0.0,\n",
       "  'Total_CM_$': 0.0,\n",
       "  'CM_%': 0.0,\n",
       "  'Sales_Mix_Cat': 'N/A',\n",
       "  'CM_Cat': 'N/A'},\n",
       " {'Item_Name': '',\n",
       "  'Item_Sold': '',\n",
       "  'Menu_Cat': '',\n",
       "  'Sales_Mix_%': 0.0,\n",
       "  'Menu_Sale_Price_$': '',\n",
       "  'Food_Cost_$': '',\n",
       "  'CM_$': 0.0,\n",
       "  'Total_Sales_$': 0.0,\n",
       "  'Total_Costs_$': 0.0,\n",
       "  'Total_CM_$': 0.0,\n",
       "  'CM_%': 0.0,\n",
       "  'Sales_Mix_Cat': 'N/A',\n",
       "  'CM_Cat': 'N/A'},\n",
       " {'Item_Name': '',\n",
       "  'Item_Sold': '',\n",
       "  'Menu_Cat': '',\n",
       "  'Sales_Mix_%': 0.0,\n",
       "  'Menu_Sale_Price_$': '',\n",
       "  'Food_Cost_$': '',\n",
       "  'CM_$': 0.0,\n",
       "  'Total_Sales_$': 0.0,\n",
       "  'Total_Costs_$': 0.0,\n",
       "  'Total_CM_$': 0.0,\n",
       "  'CM_%': 0.0,\n",
       "  'Sales_Mix_Cat': 'N/A',\n",
       "  'CM_Cat': 'N/A'},\n",
       " {'Item_Name': '',\n",
       "  'Item_Sold': '',\n",
       "  'Menu_Cat': '',\n",
       "  'Sales_Mix_%': 0.0,\n",
       "  'Menu_Sale_Price_$': '',\n",
       "  'Food_Cost_$': '',\n",
       "  'CM_$': 0.0,\n",
       "  'Total_Sales_$': 0.0,\n",
       "  'Total_Costs_$': 0.0,\n",
       "  'Total_CM_$': 0.0,\n",
       "  'CM_%': 0.0,\n",
       "  'Sales_Mix_Cat': 'N/A',\n",
       "  'CM_Cat': 'N/A'},\n",
       " {'Item_Name': '',\n",
       "  'Item_Sold': '',\n",
       "  'Menu_Cat': '',\n",
       "  'Sales_Mix_%': 0.0,\n",
       "  'Menu_Sale_Price_$': '',\n",
       "  'Food_Cost_$': '',\n",
       "  'CM_$': 0.0,\n",
       "  'Total_Sales_$': 0.0,\n",
       "  'Total_Costs_$': 0.0,\n",
       "  'Total_CM_$': 0.0,\n",
       "  'CM_%': 0.0,\n",
       "  'Sales_Mix_Cat': 'N/A',\n",
       "  'CM_Cat': 'N/A'},\n",
       " {'Item_Name': '',\n",
       "  'Item_Sold': '',\n",
       "  'Menu_Cat': '',\n",
       "  'Sales_Mix_%': 0.0,\n",
       "  'Menu_Sale_Price_$': '',\n",
       "  'Food_Cost_$': '',\n",
       "  'CM_$': 0.0,\n",
       "  'Total_Sales_$': 0.0,\n",
       "  'Total_Costs_$': 0.0,\n",
       "  'Total_CM_$': 0.0,\n",
       "  'CM_%': 0.0,\n",
       "  'Sales_Mix_Cat': 'N/A',\n",
       "  'CM_Cat': 'N/A'},\n",
       " {'Item_Name': '',\n",
       "  'Item_Sold': '',\n",
       "  'Menu_Cat': '',\n",
       "  'Sales_Mix_%': 0.0,\n",
       "  'Menu_Sale_Price_$': '',\n",
       "  'Food_Cost_$': '',\n",
       "  'CM_$': 0.0,\n",
       "  'Total_Sales_$': 0.0,\n",
       "  'Total_Costs_$': 0.0,\n",
       "  'Total_CM_$': 0.0,\n",
       "  'CM_%': 0.0,\n",
       "  'Sales_Mix_Cat': 'N/A',\n",
       "  'CM_Cat': 'N/A'},\n",
       " {'Item_Name': '',\n",
       "  'Item_Sold': '',\n",
       "  'Menu_Cat': '',\n",
       "  'Sales_Mix_%': 0.0,\n",
       "  'Menu_Sale_Price_$': '',\n",
       "  'Food_Cost_$': '',\n",
       "  'CM_$': 0.0,\n",
       "  'Total_Sales_$': 0.0,\n",
       "  'Total_Costs_$': 0.0,\n",
       "  'Total_CM_$': 0.0,\n",
       "  'CM_%': 0.0,\n",
       "  'Sales_Mix_Cat': 'N/A',\n",
       "  'CM_Cat': 'N/A'},\n",
       " {'Item_Name': '',\n",
       "  'Item_Sold': '',\n",
       "  'Menu_Cat': '',\n",
       "  'Sales_Mix_%': 0.0,\n",
       "  'Menu_Sale_Price_$': '',\n",
       "  'Food_Cost_$': '',\n",
       "  'CM_$': 0.0,\n",
       "  'Total_Sales_$': 0.0,\n",
       "  'Total_Costs_$': 0.0,\n",
       "  'Total_CM_$': 0.0,\n",
       "  'CM_%': 0.0,\n",
       "  'Sales_Mix_Cat': 'N/A',\n",
       "  'CM_Cat': 'N/A'},\n",
       " {'Item_Name': '',\n",
       "  'Item_Sold': '',\n",
       "  'Menu_Cat': '',\n",
       "  'Sales_Mix_%': 0.0,\n",
       "  'Menu_Sale_Price_$': '',\n",
       "  'Food_Cost_$': '',\n",
       "  'CM_$': 0.0,\n",
       "  'Total_Sales_$': 0.0,\n",
       "  'Total_Costs_$': 0.0,\n",
       "  'Total_CM_$': 0.0,\n",
       "  'CM_%': 0.0,\n",
       "  'Sales_Mix_Cat': 'N/A',\n",
       "  'CM_Cat': 'N/A'},\n",
       " {'Item_Name': '',\n",
       "  'Item_Sold': '',\n",
       "  'Menu_Cat': '',\n",
       "  'Sales_Mix_%': 0.0,\n",
       "  'Menu_Sale_Price_$': '',\n",
       "  'Food_Cost_$': '',\n",
       "  'CM_$': 0.0,\n",
       "  'Total_Sales_$': 0.0,\n",
       "  'Total_Costs_$': 0.0,\n",
       "  'Total_CM_$': 0.0,\n",
       "  'CM_%': 0.0,\n",
       "  'Sales_Mix_Cat': 'N/A',\n",
       "  'CM_Cat': 'N/A'},\n",
       " {'Item_Name': '',\n",
       "  'Item_Sold': '',\n",
       "  'Menu_Cat': '',\n",
       "  'Sales_Mix_%': 0.0,\n",
       "  'Menu_Sale_Price_$': '',\n",
       "  'Food_Cost_$': '',\n",
       "  'CM_$': 0.0,\n",
       "  'Total_Sales_$': 0.0,\n",
       "  'Total_Costs_$': 0.0,\n",
       "  'Total_CM_$': 0.0,\n",
       "  'CM_%': 0.0,\n",
       "  'Sales_Mix_Cat': 'N/A',\n",
       "  'CM_Cat': 'N/A'},\n",
       " {'Item_Name': '',\n",
       "  'Item_Sold': '',\n",
       "  'Menu_Cat': '',\n",
       "  'Sales_Mix_%': 0.0,\n",
       "  'Menu_Sale_Price_$': '',\n",
       "  'Food_Cost_$': '',\n",
       "  'CM_$': 0.0,\n",
       "  'Total_Sales_$': 0.0,\n",
       "  'Total_Costs_$': 0.0,\n",
       "  'Total_CM_$': 0.0,\n",
       "  'CM_%': 0.0,\n",
       "  'Sales_Mix_Cat': 'N/A',\n",
       "  'CM_Cat': 'N/A'},\n",
       " {'Item_Name': '',\n",
       "  'Item_Sold': '',\n",
       "  'Menu_Cat': '',\n",
       "  'Sales_Mix_%': 0.0,\n",
       "  'Menu_Sale_Price_$': '',\n",
       "  'Food_Cost_$': '',\n",
       "  'CM_$': 0.0,\n",
       "  'Total_Sales_$': 0.0,\n",
       "  'Total_Costs_$': 0.0,\n",
       "  'Total_CM_$': 0.0,\n",
       "  'CM_%': 0.0,\n",
       "  'Sales_Mix_Cat': 'N/A',\n",
       "  'CM_Cat': 'N/A'},\n",
       " {'Item_Name': '',\n",
       "  'Item_Sold': '',\n",
       "  'Menu_Cat': '',\n",
       "  'Sales_Mix_%': 0.0,\n",
       "  'Menu_Sale_Price_$': '',\n",
       "  'Food_Cost_$': '',\n",
       "  'CM_$': 0.0,\n",
       "  'Total_Sales_$': 0.0,\n",
       "  'Total_Costs_$': 0.0,\n",
       "  'Total_CM_$': 0.0,\n",
       "  'CM_%': 0.0,\n",
       "  'Sales_Mix_Cat': 'N/A',\n",
       "  'CM_Cat': 'N/A'}]"
      ]
     },
     "execution_count": 48,
     "metadata": {},
     "output_type": "execute_result"
    }
   ],
   "source": [
    "# Get all records in the data\n",
    "engineering_data = engineering_sheet.get_all_records()\n",
    "engineering_data"
   ]
  },
  {
   "cell_type": "code",
   "execution_count": null,
   "metadata": {},
   "outputs": [
    {
     "data": {
      "text/plain": [
       "<Cell R6C1 None>"
      ]
     },
     "execution_count": 49,
     "metadata": {},
     "output_type": "execute_result"
    }
   ],
   "source": [
    "get_cell(engineering_sheet, 'a', 6)"
   ]
  },
  {
   "cell_type": "code",
   "execution_count": null,
   "metadata": {},
   "outputs": [
    {
     "data": {
      "text/html": [
       "<div>\n",
       "<style scoped>\n",
       "    .dataframe tbody tr th:only-of-type {\n",
       "        vertical-align: middle;\n",
       "    }\n",
       "\n",
       "    .dataframe tbody tr th {\n",
       "        vertical-align: top;\n",
       "    }\n",
       "\n",
       "    .dataframe thead th {\n",
       "        text-align: right;\n",
       "    }\n",
       "</style>\n",
       "<table border=\"1\" class=\"dataframe\">\n",
       "  <thead>\n",
       "    <tr style=\"text-align: right;\">\n",
       "      <th></th>\n",
       "      <th>Item_Name</th>\n",
       "      <th>Item_Sold</th>\n",
       "      <th>Menu_Cat</th>\n",
       "      <th>Sales_Mix_%</th>\n",
       "      <th>Menu_Sale_Price_$</th>\n",
       "      <th>Food_Cost_$</th>\n",
       "      <th>CM_$</th>\n",
       "      <th>Total_Sales_$</th>\n",
       "      <th>Total_Costs_$</th>\n",
       "      <th>Total_CM_$</th>\n",
       "      <th>CM_%</th>\n",
       "      <th>Sales_Mix_Cat</th>\n",
       "      <th>CM_Cat</th>\n",
       "    </tr>\n",
       "  </thead>\n",
       "  <tbody>\n",
       "    <tr>\n",
       "      <th>0</th>\n",
       "      <td>Cheesecake</td>\n",
       "      <td>60</td>\n",
       "      <td>Dessert</td>\n",
       "      <td>48.0</td>\n",
       "      <td>7.0</td>\n",
       "      <td>1.1</td>\n",
       "      <td>5.90</td>\n",
       "      <td>420.0</td>\n",
       "      <td>66.00</td>\n",
       "      <td>354.00</td>\n",
       "      <td>54.7</td>\n",
       "      <td>H</td>\n",
       "      <td>H</td>\n",
       "    </tr>\n",
       "    <tr>\n",
       "      <th>1</th>\n",
       "      <td>Apple Pie</td>\n",
       "      <td>20</td>\n",
       "      <td>Dessert</td>\n",
       "      <td>16.0</td>\n",
       "      <td>6.0</td>\n",
       "      <td>1.25</td>\n",
       "      <td>4.75</td>\n",
       "      <td>120.0</td>\n",
       "      <td>25.00</td>\n",
       "      <td>95.00</td>\n",
       "      <td>14.7</td>\n",
       "      <td>L</td>\n",
       "      <td>H</td>\n",
       "    </tr>\n",
       "    <tr>\n",
       "      <th>2</th>\n",
       "      <td>Tiramisu</td>\n",
       "      <td>30</td>\n",
       "      <td>Dessert</td>\n",
       "      <td>24.0</td>\n",
       "      <td>8.0</td>\n",
       "      <td>3.0</td>\n",
       "      <td>5.00</td>\n",
       "      <td>240.0</td>\n",
       "      <td>90.00</td>\n",
       "      <td>150.00</td>\n",
       "      <td>23.2</td>\n",
       "      <td>H</td>\n",
       "      <td>H</td>\n",
       "    </tr>\n",
       "    <tr>\n",
       "      <th>3</th>\n",
       "      <td>Cupcake</td>\n",
       "      <td>15</td>\n",
       "      <td>Dessert</td>\n",
       "      <td>12.0</td>\n",
       "      <td>4.0</td>\n",
       "      <td>0.75</td>\n",
       "      <td>3.25</td>\n",
       "      <td>60.0</td>\n",
       "      <td>11.25</td>\n",
       "      <td>48.75</td>\n",
       "      <td>7.5</td>\n",
       "      <td>L</td>\n",
       "      <td>L</td>\n",
       "    </tr>\n",
       "  </tbody>\n",
       "</table>\n",
       "</div>"
      ],
      "text/plain": [
       "    Item_Name Item_Sold Menu_Cat  Sales_Mix_% Menu_Sale_Price_$ Food_Cost_$  \\\n",
       "0  Cheesecake        60  Dessert         48.0               7.0         1.1   \n",
       "1   Apple Pie        20  Dessert         16.0               6.0        1.25   \n",
       "2    Tiramisu        30  Dessert         24.0               8.0         3.0   \n",
       "3     Cupcake        15  Dessert         12.0               4.0        0.75   \n",
       "\n",
       "   CM_$  Total_Sales_$  Total_Costs_$  Total_CM_$  CM_% Sales_Mix_Cat CM_Cat  \n",
       "0  5.90          420.0          66.00      354.00  54.7             H      H  \n",
       "1  4.75          120.0          25.00       95.00  14.7             L      H  \n",
       "2  5.00          240.0          90.00      150.00  23.2             H      H  \n",
       "3  3.25           60.0          11.25       48.75   7.5             L      L  "
      ]
     },
     "execution_count": 50,
     "metadata": {},
     "output_type": "execute_result"
    }
   ],
   "source": [
    "engineering_df = pd.DataFrame.from_dict(engineering_data)\n",
    "# engineering_df.replace('', float('NaN'), inplace=True)\n",
    "# engineering_df.dropna(subset=['Item_Name'], inplace=True)\n",
    "engineering_df.drop(engineering_df[engineering_df['Item_Name'] == ''].index, inplace=True)\n",
    "engineering_df"
   ]
  },
  {
   "cell_type": "markdown",
   "metadata": {},
   "source": [
    "### Clean Up DataFrame"
   ]
  },
  {
   "cell_type": "code",
   "execution_count": null,
   "metadata": {},
   "outputs": [],
   "source": [
    "def clean_df(df):\n",
    "    df.drop(df[df['Item_Name'] == ''].index, inplace=True)\n",
    "    return df"
   ]
  },
  {
   "cell_type": "code",
   "execution_count": null,
   "metadata": {},
   "outputs": [
    {
     "data": {
      "text/html": [
       "<div>\n",
       "<style scoped>\n",
       "    .dataframe tbody tr th:only-of-type {\n",
       "        vertical-align: middle;\n",
       "    }\n",
       "\n",
       "    .dataframe tbody tr th {\n",
       "        vertical-align: top;\n",
       "    }\n",
       "\n",
       "    .dataframe thead th {\n",
       "        text-align: right;\n",
       "    }\n",
       "</style>\n",
       "<table border=\"1\" class=\"dataframe\">\n",
       "  <thead>\n",
       "    <tr style=\"text-align: right;\">\n",
       "      <th></th>\n",
       "      <th>Item_Name</th>\n",
       "      <th>Item_Sold</th>\n",
       "      <th>Menu_Cat</th>\n",
       "      <th>Sales_Mix_%</th>\n",
       "      <th>Menu_Sale_Price_$</th>\n",
       "      <th>Food_Cost_$</th>\n",
       "      <th>CM_$</th>\n",
       "      <th>Total_Sales_$</th>\n",
       "      <th>Total_Costs_$</th>\n",
       "      <th>Total_CM_$</th>\n",
       "      <th>CM_%</th>\n",
       "      <th>Sales_Mix_Cat</th>\n",
       "      <th>CM_Cat</th>\n",
       "    </tr>\n",
       "  </thead>\n",
       "  <tbody>\n",
       "    <tr>\n",
       "      <th>0</th>\n",
       "      <td>Cheesecake</td>\n",
       "      <td>60</td>\n",
       "      <td>Dessert</td>\n",
       "      <td>48.0</td>\n",
       "      <td>7.0</td>\n",
       "      <td>1.1</td>\n",
       "      <td>5.90</td>\n",
       "      <td>420.0</td>\n",
       "      <td>66.00</td>\n",
       "      <td>354.00</td>\n",
       "      <td>54.7</td>\n",
       "      <td>H</td>\n",
       "      <td>H</td>\n",
       "    </tr>\n",
       "    <tr>\n",
       "      <th>1</th>\n",
       "      <td>Apple Pie</td>\n",
       "      <td>20</td>\n",
       "      <td>Dessert</td>\n",
       "      <td>16.0</td>\n",
       "      <td>6.0</td>\n",
       "      <td>1.25</td>\n",
       "      <td>4.75</td>\n",
       "      <td>120.0</td>\n",
       "      <td>25.00</td>\n",
       "      <td>95.00</td>\n",
       "      <td>14.7</td>\n",
       "      <td>L</td>\n",
       "      <td>H</td>\n",
       "    </tr>\n",
       "    <tr>\n",
       "      <th>2</th>\n",
       "      <td>Tiramisu</td>\n",
       "      <td>30</td>\n",
       "      <td>Dessert</td>\n",
       "      <td>24.0</td>\n",
       "      <td>8.0</td>\n",
       "      <td>3.0</td>\n",
       "      <td>5.00</td>\n",
       "      <td>240.0</td>\n",
       "      <td>90.00</td>\n",
       "      <td>150.00</td>\n",
       "      <td>23.2</td>\n",
       "      <td>H</td>\n",
       "      <td>H</td>\n",
       "    </tr>\n",
       "    <tr>\n",
       "      <th>3</th>\n",
       "      <td>Cupcake</td>\n",
       "      <td>15</td>\n",
       "      <td>Dessert</td>\n",
       "      <td>12.0</td>\n",
       "      <td>4.0</td>\n",
       "      <td>0.75</td>\n",
       "      <td>3.25</td>\n",
       "      <td>60.0</td>\n",
       "      <td>11.25</td>\n",
       "      <td>48.75</td>\n",
       "      <td>7.5</td>\n",
       "      <td>L</td>\n",
       "      <td>L</td>\n",
       "    </tr>\n",
       "  </tbody>\n",
       "</table>\n",
       "</div>"
      ],
      "text/plain": [
       "    Item_Name Item_Sold Menu_Cat  Sales_Mix_% Menu_Sale_Price_$ Food_Cost_$  \\\n",
       "0  Cheesecake        60  Dessert         48.0               7.0         1.1   \n",
       "1   Apple Pie        20  Dessert         16.0               6.0        1.25   \n",
       "2    Tiramisu        30  Dessert         24.0               8.0         3.0   \n",
       "3     Cupcake        15  Dessert         12.0               4.0        0.75   \n",
       "\n",
       "   CM_$  Total_Sales_$  Total_Costs_$  Total_CM_$  CM_% Sales_Mix_Cat CM_Cat  \n",
       "0  5.90          420.0          66.00      354.00  54.7             H      H  \n",
       "1  4.75          120.0          25.00       95.00  14.7             L      H  \n",
       "2  5.00          240.0          90.00      150.00  23.2             H      H  \n",
       "3  3.25           60.0          11.25       48.75   7.5             L      L  "
      ]
     },
     "execution_count": 52,
     "metadata": {},
     "output_type": "execute_result"
    }
   ],
   "source": [
    "clean = clean_df(pd.DataFrame.from_dict(engineering_data))\n",
    "clean"
   ]
  },
  {
   "cell_type": "code",
   "execution_count": null,
   "metadata": {},
   "outputs": [
    {
     "data": {
      "text/plain": [
       "Item_Name             object\n",
       "Item_Sold             object\n",
       "Menu_Cat              object\n",
       "Sales_Mix_%          float64\n",
       "Menu_Sale_Price_$     object\n",
       "Food_Cost_$           object\n",
       "CM_$                 float64\n",
       "Total_Sales_$        float64\n",
       "Total_Costs_$        float64\n",
       "Total_CM_$           float64\n",
       "CM_%                 float64\n",
       "Sales_Mix_Cat         object\n",
       "CM_Cat                object\n",
       "dtype: object"
      ]
     },
     "execution_count": 53,
     "metadata": {},
     "output_type": "execute_result"
    }
   ],
   "source": [
    "clean.dtypes"
   ]
  },
  {
   "cell_type": "code",
   "execution_count": null,
   "metadata": {},
   "outputs": [
    {
     "data": {
      "text/plain": [
       "Item_Name            Apple Pie\n",
       "Item_Sold                   20\n",
       "Menu_Cat               Dessert\n",
       "Sales_Mix_%               16.0\n",
       "Menu_Sale_Price_$          6.0\n",
       "Food_Cost_$               1.25\n",
       "CM_$                      4.75\n",
       "Total_Sales_$            120.0\n",
       "Total_Costs_$             25.0\n",
       "Total_CM_$                95.0\n",
       "CM_%                      14.7\n",
       "Sales_Mix_Cat                L\n",
       "CM_Cat                       H\n",
       "dtype: object"
      ]
     },
     "execution_count": 54,
     "metadata": {},
     "output_type": "execute_result"
    }
   ],
   "source": [
    "clean.iloc[[1]].sum()"
   ]
  },
  {
   "cell_type": "code",
   "execution_count": null,
   "metadata": {},
   "outputs": [
    {
     "name": "stdout",
     "output_type": "stream",
     "text": [
      "5\n",
      "1\n",
      "5\n",
      "\n",
      "6\n",
      "10\n",
      "10\n"
     ]
    }
   ],
   "source": [
    "x = 5\n",
    "def change_x():\n",
    "    x = 1\n",
    "    return x\n",
    "print(x)\n",
    "print(change_x())\n",
    "print(x)\n",
    "print()\n",
    "\n",
    "y = 6\n",
    "def change_y():\n",
    "    global y\n",
    "    y = 10\n",
    "    return y\n",
    "print(y)\n",
    "print(change_y())\n",
    "print(y)"
   ]
  },
  {
   "cell_type": "markdown",
   "metadata": {},
   "source": [
    "# Google Docs API\n",
    "\n",
    "[How to Extract Tabular Data from Doc files Using Python?](https://www.analyticsvidhya.com/blog/2021/09/how-to-extract-tabular-data-from-doc-files-using-python/)"
   ]
  },
  {
   "cell_type": "code",
   "execution_count": 50,
   "metadata": {},
   "outputs": [
    {
     "ename": "NameError",
     "evalue": "name 'docs_service' is not defined",
     "output_type": "error",
     "traceback": [
      "\u001b[1;31m---------------------------------------------------------------------------\u001b[0m",
      "\u001b[1;31mNameError\u001b[0m                                 Traceback (most recent call last)",
      "\u001b[1;32m~\\AppData\\Local\\Temp/ipykernel_35208/916872855.py\u001b[0m in \u001b[0;36m<module>\u001b[1;34m\u001b[0m\n\u001b[0;32m      1\u001b[0m \u001b[1;31m## Endpoints\u001b[0m\u001b[1;33m\u001b[0m\u001b[1;33m\u001b[0m\u001b[1;33m\u001b[0m\u001b[0m\n\u001b[0;32m      2\u001b[0m \u001b[0mcheesecake_recipe_id\u001b[0m \u001b[1;33m=\u001b[0m \u001b[1;34m'1hGnXM62uyXAiFAYRr4NB5Mel-zciQ1ojCJnxV_D3dUY'\u001b[0m\u001b[1;33m\u001b[0m\u001b[1;33m\u001b[0m\u001b[0m\n\u001b[1;32m----> 3\u001b[1;33m \u001b[0mdocs_service\u001b[0m\u001b[1;33m.\u001b[0m\u001b[0mdocuments\u001b[0m\u001b[1;33m(\u001b[0m\u001b[1;33m)\u001b[0m\u001b[1;33m.\u001b[0m\u001b[0mget\u001b[0m\u001b[1;33m(\u001b[0m\u001b[0mcheesecake_recipe_id\u001b[0m\u001b[1;33m,\u001b[0m \u001b[0mbody\u001b[0m\u001b[1;33m=\u001b[0m\u001b[0mbody\u001b[0m\u001b[1;33m)\u001b[0m\u001b[1;33m.\u001b[0m\u001b[0mexecute\u001b[0m\u001b[1;33m(\u001b[0m\u001b[1;33m)\u001b[0m\u001b[1;33m\u001b[0m\u001b[1;33m\u001b[0m\u001b[0m\n\u001b[0m",
      "\u001b[1;31mNameError\u001b[0m: name 'docs_service' is not defined"
     ]
    }
   ],
   "source": [
    "# ## Endpoints\n",
    "# docs_service = build('docs', 'v1', credentials=creds)\n",
    "# edit_document(docs_services, )\n",
    "# cheesecake_recipe_id = '1hGnXM62uyXAiFAYRr4NB5Mel-zciQ1ojCJnxV_D3dUY'\n",
    "\n",
    "# docs_service.documents().get(cheesecake_recipe_id, body=body).execute()"
   ]
  },
  {
   "cell_type": "code",
   "execution_count": 63,
   "metadata": {},
   "outputs": [
    {
     "data": {
      "text/plain": [
       "[('Cream cheese', '20 oz'),\n",
       " ('Granulated sugar', '17.5 oz'),\n",
       " ('Sour cream', '4 oz'),\n",
       " ('All purpose flour', '3 Tbsp'),\n",
       " ('Eggs', '5 each'),\n",
       " ('Egg yolks', '2 each'),\n",
       " ('Vanilla extract', '3 tsp'),\n",
       " ('Graham cracker crumbs', '6.75 oz'),\n",
       " ('Unsalted butter', '6 oz'),\n",
       " ('',),\n",
       " ('Method of Preparation',),\n",
       " ('Mix it.',),\n",
       " ('Bake it.',),\n",
       " ('Cool it.',),\n",
       " ('Eat it.',)]"
      ]
     },
     "execution_count": 63,
     "metadata": {},
     "output_type": "execute_result"
    }
   ],
   "source": [
    "import docx\n",
    "\n",
    "docx_text = docx.Document('cheesecake_recipe.docx')\n",
    "data = {}\n",
    "paragraphs = docx_text.paragraphs\n",
    "for i in range(2, len(docx_text.paragraphs)):\n",
    "    data[i] = tuple(docx_text.paragraphs[i].text.split('\\t'))\n",
    "data_values = list(data.values())\n",
    "data_values"
   ]
  },
  {
   "cell_type": "code",
   "execution_count": 80,
   "metadata": {},
   "outputs": [
    {
     "ename": "KeyError",
     "evalue": "'Recipe_Unit'",
     "output_type": "error",
     "traceback": [
      "\u001b[1;31m---------------------------------------------------------------------------\u001b[0m",
      "\u001b[1;31mKeyError\u001b[0m                                  Traceback (most recent call last)",
      "\u001b[1;32mC:\\Program Files (x86)\\Anaconda3\\envs\\project3\\lib\\site-packages\\pandas\\core\\indexes\\base.py\u001b[0m in \u001b[0;36mget_loc\u001b[1;34m(self, key, method, tolerance)\u001b[0m\n\u001b[0;32m   3360\u001b[0m             \u001b[1;32mtry\u001b[0m\u001b[1;33m:\u001b[0m\u001b[1;33m\u001b[0m\u001b[1;33m\u001b[0m\u001b[0m\n\u001b[1;32m-> 3361\u001b[1;33m                 \u001b[1;32mreturn\u001b[0m \u001b[0mself\u001b[0m\u001b[1;33m.\u001b[0m\u001b[0m_engine\u001b[0m\u001b[1;33m.\u001b[0m\u001b[0mget_loc\u001b[0m\u001b[1;33m(\u001b[0m\u001b[0mcasted_key\u001b[0m\u001b[1;33m)\u001b[0m\u001b[1;33m\u001b[0m\u001b[1;33m\u001b[0m\u001b[0m\n\u001b[0m\u001b[0;32m   3362\u001b[0m             \u001b[1;32mexcept\u001b[0m \u001b[0mKeyError\u001b[0m \u001b[1;32mas\u001b[0m \u001b[0merr\u001b[0m\u001b[1;33m:\u001b[0m\u001b[1;33m\u001b[0m\u001b[1;33m\u001b[0m\u001b[0m\n",
      "\u001b[1;32mC:\\Program Files (x86)\\Anaconda3\\envs\\project3\\lib\\site-packages\\pandas\\_libs\\index.pyx\u001b[0m in \u001b[0;36mpandas._libs.index.IndexEngine.get_loc\u001b[1;34m()\u001b[0m\n",
      "\u001b[1;32mC:\\Program Files (x86)\\Anaconda3\\envs\\project3\\lib\\site-packages\\pandas\\_libs\\index.pyx\u001b[0m in \u001b[0;36mpandas._libs.index.IndexEngine.get_loc\u001b[1;34m()\u001b[0m\n",
      "\u001b[1;32mpandas\\_libs\\hashtable_class_helper.pxi\u001b[0m in \u001b[0;36mpandas._libs.hashtable.PyObjectHashTable.get_item\u001b[1;34m()\u001b[0m\n",
      "\u001b[1;32mpandas\\_libs\\hashtable_class_helper.pxi\u001b[0m in \u001b[0;36mpandas._libs.hashtable.PyObjectHashTable.get_item\u001b[1;34m()\u001b[0m\n",
      "\u001b[1;31mKeyError\u001b[0m: 'Recipe_Unit'",
      "\nThe above exception was the direct cause of the following exception:\n",
      "\u001b[1;31mKeyError\u001b[0m                                  Traceback (most recent call last)",
      "\u001b[1;32m~\\AppData\\Local\\Temp/ipykernel_35208/4213276736.py\u001b[0m in \u001b[0;36m<module>\u001b[1;34m\u001b[0m\n\u001b[0;32m      1\u001b[0m \u001b[0mdoc_df\u001b[0m \u001b[1;33m=\u001b[0m \u001b[0mpd\u001b[0m\u001b[1;33m.\u001b[0m\u001b[0mDataFrame\u001b[0m\u001b[1;33m(\u001b[0m\u001b[0mdata_values\u001b[0m\u001b[1;33m,\u001b[0m\u001b[0mcolumns\u001b[0m\u001b[1;33m=\u001b[0m\u001b[1;33m[\u001b[0m\u001b[1;34m'Ingredient_Name'\u001b[0m\u001b[1;33m,\u001b[0m\u001b[1;34m'Recipe_Qty'\u001b[0m\u001b[1;33m]\u001b[0m\u001b[1;33m)\u001b[0m\u001b[1;33m\u001b[0m\u001b[1;33m\u001b[0m\u001b[0m\n\u001b[0;32m      2\u001b[0m     \u001b[1;31m#['Ingredient_Name','Recipe_Qty']\u001b[0m\u001b[1;33m\u001b[0m\u001b[1;33m\u001b[0m\u001b[1;33m\u001b[0m\u001b[0m\n\u001b[1;32m----> 3\u001b[1;33m \u001b[0mdoc_df\u001b[0m\u001b[1;33m[\u001b[0m\u001b[1;34m'Recipe_Unit'\u001b[0m\u001b[1;33m]\u001b[0m\u001b[1;33m\u001b[0m\u001b[1;33m\u001b[0m\u001b[0m\n\u001b[0m",
      "\u001b[1;32mC:\\Program Files (x86)\\Anaconda3\\envs\\project3\\lib\\site-packages\\pandas\\core\\frame.py\u001b[0m in \u001b[0;36m__getitem__\u001b[1;34m(self, key)\u001b[0m\n\u001b[0;32m   3456\u001b[0m             \u001b[1;32mif\u001b[0m \u001b[0mself\u001b[0m\u001b[1;33m.\u001b[0m\u001b[0mcolumns\u001b[0m\u001b[1;33m.\u001b[0m\u001b[0mnlevels\u001b[0m \u001b[1;33m>\u001b[0m \u001b[1;36m1\u001b[0m\u001b[1;33m:\u001b[0m\u001b[1;33m\u001b[0m\u001b[1;33m\u001b[0m\u001b[0m\n\u001b[0;32m   3457\u001b[0m                 \u001b[1;32mreturn\u001b[0m \u001b[0mself\u001b[0m\u001b[1;33m.\u001b[0m\u001b[0m_getitem_multilevel\u001b[0m\u001b[1;33m(\u001b[0m\u001b[0mkey\u001b[0m\u001b[1;33m)\u001b[0m\u001b[1;33m\u001b[0m\u001b[1;33m\u001b[0m\u001b[0m\n\u001b[1;32m-> 3458\u001b[1;33m             \u001b[0mindexer\u001b[0m \u001b[1;33m=\u001b[0m \u001b[0mself\u001b[0m\u001b[1;33m.\u001b[0m\u001b[0mcolumns\u001b[0m\u001b[1;33m.\u001b[0m\u001b[0mget_loc\u001b[0m\u001b[1;33m(\u001b[0m\u001b[0mkey\u001b[0m\u001b[1;33m)\u001b[0m\u001b[1;33m\u001b[0m\u001b[1;33m\u001b[0m\u001b[0m\n\u001b[0m\u001b[0;32m   3459\u001b[0m             \u001b[1;32mif\u001b[0m \u001b[0mis_integer\u001b[0m\u001b[1;33m(\u001b[0m\u001b[0mindexer\u001b[0m\u001b[1;33m)\u001b[0m\u001b[1;33m:\u001b[0m\u001b[1;33m\u001b[0m\u001b[1;33m\u001b[0m\u001b[0m\n\u001b[0;32m   3460\u001b[0m                 \u001b[0mindexer\u001b[0m \u001b[1;33m=\u001b[0m \u001b[1;33m[\u001b[0m\u001b[0mindexer\u001b[0m\u001b[1;33m]\u001b[0m\u001b[1;33m\u001b[0m\u001b[1;33m\u001b[0m\u001b[0m\n",
      "\u001b[1;32mC:\\Program Files (x86)\\Anaconda3\\envs\\project3\\lib\\site-packages\\pandas\\core\\indexes\\base.py\u001b[0m in \u001b[0;36mget_loc\u001b[1;34m(self, key, method, tolerance)\u001b[0m\n\u001b[0;32m   3361\u001b[0m                 \u001b[1;32mreturn\u001b[0m \u001b[0mself\u001b[0m\u001b[1;33m.\u001b[0m\u001b[0m_engine\u001b[0m\u001b[1;33m.\u001b[0m\u001b[0mget_loc\u001b[0m\u001b[1;33m(\u001b[0m\u001b[0mcasted_key\u001b[0m\u001b[1;33m)\u001b[0m\u001b[1;33m\u001b[0m\u001b[1;33m\u001b[0m\u001b[0m\n\u001b[0;32m   3362\u001b[0m             \u001b[1;32mexcept\u001b[0m \u001b[0mKeyError\u001b[0m \u001b[1;32mas\u001b[0m \u001b[0merr\u001b[0m\u001b[1;33m:\u001b[0m\u001b[1;33m\u001b[0m\u001b[1;33m\u001b[0m\u001b[0m\n\u001b[1;32m-> 3363\u001b[1;33m                 \u001b[1;32mraise\u001b[0m \u001b[0mKeyError\u001b[0m\u001b[1;33m(\u001b[0m\u001b[0mkey\u001b[0m\u001b[1;33m)\u001b[0m \u001b[1;32mfrom\u001b[0m \u001b[0merr\u001b[0m\u001b[1;33m\u001b[0m\u001b[1;33m\u001b[0m\u001b[0m\n\u001b[0m\u001b[0;32m   3364\u001b[0m \u001b[1;33m\u001b[0m\u001b[0m\n\u001b[0;32m   3365\u001b[0m         \u001b[1;32mif\u001b[0m \u001b[0mis_scalar\u001b[0m\u001b[1;33m(\u001b[0m\u001b[0mkey\u001b[0m\u001b[1;33m)\u001b[0m \u001b[1;32mand\u001b[0m \u001b[0misna\u001b[0m\u001b[1;33m(\u001b[0m\u001b[0mkey\u001b[0m\u001b[1;33m)\u001b[0m \u001b[1;32mand\u001b[0m \u001b[1;32mnot\u001b[0m \u001b[0mself\u001b[0m\u001b[1;33m.\u001b[0m\u001b[0mhasnans\u001b[0m\u001b[1;33m:\u001b[0m\u001b[1;33m\u001b[0m\u001b[1;33m\u001b[0m\u001b[0m\n",
      "\u001b[1;31mKeyError\u001b[0m: 'Recipe_Unit'"
     ]
    }
   ],
   "source": [
    "doc_df = pd.DataFrame(data_values,columns=['Ingredient_Name','Recipe_Qty'])\n",
    "    #['Ingredient_Name','Recipe_Qty']\n",
    "doc_df['Recipe_Unit']"
   ]
  },
  {
   "cell_type": "markdown",
   "metadata": {},
   "source": [
    "# Class\n"
   ]
  },
  {
   "cell_type": "markdown",
   "metadata": {},
   "source": [
    "# Product List CSV"
   ]
  },
  {
   "cell_type": "markdown",
   "metadata": {},
   "source": [
    "# Recipe Cost CSV\n"
   ]
  },
  {
   "cell_type": "markdown",
   "metadata": {},
   "source": [
    "# News API\n",
    "API for searching articles and breaking news headlines from around the world, even in other languages."
   ]
  }
 ],
 "metadata": {
  "interpreter": {
   "hash": "8bb97bf353d03daa53e880a314ed0e005a9ddab75cfc907d4a74b673e807774c"
  },
  "kernelspec": {
   "display_name": "Python 3.7.11 64-bit ('project3': conda)",
   "name": "python3"
  },
  "language_info": {
   "codemirror_mode": {
    "name": "ipython",
    "version": 3
   },
   "file_extension": ".py",
   "mimetype": "text/x-python",
   "name": "python",
   "nbconvert_exporter": "python",
   "pygments_lexer": "ipython3",
   "version": "3.7.11"
  },
  "orig_nbformat": 4
 },
 "nbformat": 4,
 "nbformat_minor": 2
}

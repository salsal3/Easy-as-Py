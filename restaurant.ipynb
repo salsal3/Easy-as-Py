{
 "cells": [
  {
   "cell_type": "markdown",
   "metadata": {},
   "source": [
    "# Summary"
   ]
  },
  {
   "cell_type": "markdown",
   "metadata": {},
   "source": [
    "# Imports, Base Functions"
   ]
  },
  {
   "cell_type": "code",
   "execution_count": null,
   "metadata": {},
   "outputs": [],
   "source": [
    "from pathlib import Path\n",
    "import csv\n",
    "import pandas as pd\n",
    "import numpy as np\n",
    "import seaborn as sns\n"
   ]
  },
  {
   "cell_type": "code",
   "execution_count": null,
   "metadata": {},
   "outputs": [],
   "source": [
    "### Import libraries and dependencies\n",
    "### Since the environments created in class have specific libraries attached, some of the libraries have been disabled\n",
    "### Will have to look into how to accommodate everything\n",
    "\n",
    "import panel as pn\n",
    "pn.extension('plotly')\n",
    "import plotly.express as px\n",
    "import pandas as pd\n",
    "import hvplot.pandas\n",
    "import matplotlib.pyplot as plt\n",
    "import numpy as np\n",
    "import os\n",
    "from pathlib import Path\n",
    "from dotenv import load_dotenv\n",
    "#import alpaca_trade_api as tradeapi\n",
    "#from MCForecastTools import MCSimulation\n",
    "import json, requests\n",
    "from pandas.io.json import json_normalize"
   ]
  },
  {
   "cell_type": "markdown",
   "metadata": {},
   "source": [
    "## Chatter"
   ]
  },
  {
   "cell_type": "code",
   "execution_count": null,
   "metadata": {},
   "outputs": [],
   "source": [
    "### Defining function to loosely simulate live typing, or an NPC text box\n",
    "import time\n",
    "import sys\n",
    "from random import randrange\n",
    "\n",
    "### Variable created to hold list of NPC text\n",
    "npc_chatter = []\n",
    "\n",
    "### Function is based off an example found in Stack Overflow\n",
    "def chatter(npc_chatter):\n",
    "    print()\n",
    "    for c in npc_chatter:\n",
    "        sys.stdout.write(c)\n",
    "        sys.stdout.flush()\n",
    "        secs = '0.0' + str(randrange(10,20,1))\n",
    "        secs = float(secs)\n",
    "        time.sleep(secs)\n",
    "    print()\n",
    "    time.sleep(2)\n",
    "\n",
    "### 'Chatter' function test using an appended list of dialog\n",
    "### Though this aspect of the function is not utilized, it is kept in case it proves useful later\n",
    "### If the line break (\\n) is desired, double tab to align the separated lines\n",
    "test_chatter = 'NPC: \"This is just a test to see if your function functions,\\n      and it\\'s functioning just fine, friend!\"'\n",
    "npc_chatter.append(test_chatter)\n",
    "chatter(test_chatter)"
   ]
  }
 ],
 "metadata": {
  "language_info": {
   "name": "python"
  },
  "orig_nbformat": 4
 },
 "nbformat": 4,
 "nbformat_minor": 2
}
